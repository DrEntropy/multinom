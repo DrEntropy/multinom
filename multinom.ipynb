{
 "cells": [
  {
   "cell_type": "code",
   "execution_count": 1,
   "id": "0b58f6f2",
   "metadata": {},
   "outputs": [],
   "source": [
    "import sklearn\n",
    "import pymc as pm\n",
    "import arviz as az"
   ]
  },
  {
   "cell_type": "code",
   "execution_count": 2,
   "id": "17e793cb",
   "metadata": {},
   "outputs": [],
   "source": [
    "import sklearn.datasets\n",
    "import pandas as pd\n",
    "\n",
    "\n",
    "irisX, cat = sklearn.datasets.load_iris(return_X_y = True,as_frame=True)"
   ]
  },
  {
   "cell_type": "code",
   "execution_count": null,
   "id": "7a2ccec3",
   "metadata": {},
   "outputs": [
    {
     "data": {
      "application/vnd.microsoft.datawrangler.viewer.v0+json": {
       "columns": [
        {
         "name": "index",
         "rawType": "int64",
         "type": "integer"
        },
        {
         "name": "sepal length (cm)",
         "rawType": "float64",
         "type": "float"
        },
        {
         "name": "sepal width (cm)",
         "rawType": "float64",
         "type": "float"
        },
        {
         "name": "petal length (cm)",
         "rawType": "float64",
         "type": "float"
        },
        {
         "name": "petal width (cm)",
         "rawType": "float64",
         "type": "float"
        }
       ],
       "conversionMethod": "pd.DataFrame",
       "ref": "ac68e208-2612-46f0-bad5-72ec605819ca",
       "rows": [
        [
         "0",
         "5.1",
         "3.5",
         "1.4",
         "0.2"
        ],
        [
         "1",
         "4.9",
         "3.0",
         "1.4",
         "0.2"
        ],
        [
         "2",
         "4.7",
         "3.2",
         "1.3",
         "0.2"
        ],
        [
         "3",
         "4.6",
         "3.1",
         "1.5",
         "0.2"
        ],
        [
         "4",
         "5.0",
         "3.6",
         "1.4",
         "0.2"
        ],
        [
         "5",
         "5.4",
         "3.9",
         "1.7",
         "0.4"
        ],
        [
         "6",
         "4.6",
         "3.4",
         "1.4",
         "0.3"
        ],
        [
         "7",
         "5.0",
         "3.4",
         "1.5",
         "0.2"
        ],
        [
         "8",
         "4.4",
         "2.9",
         "1.4",
         "0.2"
        ],
        [
         "9",
         "4.9",
         "3.1",
         "1.5",
         "0.1"
        ],
        [
         "10",
         "5.4",
         "3.7",
         "1.5",
         "0.2"
        ],
        [
         "11",
         "4.8",
         "3.4",
         "1.6",
         "0.2"
        ],
        [
         "12",
         "4.8",
         "3.0",
         "1.4",
         "0.1"
        ],
        [
         "13",
         "4.3",
         "3.0",
         "1.1",
         "0.1"
        ],
        [
         "14",
         "5.8",
         "4.0",
         "1.2",
         "0.2"
        ],
        [
         "15",
         "5.7",
         "4.4",
         "1.5",
         "0.4"
        ],
        [
         "16",
         "5.4",
         "3.9",
         "1.3",
         "0.4"
        ],
        [
         "17",
         "5.1",
         "3.5",
         "1.4",
         "0.3"
        ],
        [
         "18",
         "5.7",
         "3.8",
         "1.7",
         "0.3"
        ],
        [
         "19",
         "5.1",
         "3.8",
         "1.5",
         "0.3"
        ],
        [
         "20",
         "5.4",
         "3.4",
         "1.7",
         "0.2"
        ],
        [
         "21",
         "5.1",
         "3.7",
         "1.5",
         "0.4"
        ],
        [
         "22",
         "4.6",
         "3.6",
         "1.0",
         "0.2"
        ],
        [
         "23",
         "5.1",
         "3.3",
         "1.7",
         "0.5"
        ],
        [
         "24",
         "4.8",
         "3.4",
         "1.9",
         "0.2"
        ],
        [
         "25",
         "5.0",
         "3.0",
         "1.6",
         "0.2"
        ],
        [
         "26",
         "5.0",
         "3.4",
         "1.6",
         "0.4"
        ],
        [
         "27",
         "5.2",
         "3.5",
         "1.5",
         "0.2"
        ],
        [
         "28",
         "5.2",
         "3.4",
         "1.4",
         "0.2"
        ],
        [
         "29",
         "4.7",
         "3.2",
         "1.6",
         "0.2"
        ],
        [
         "30",
         "4.8",
         "3.1",
         "1.6",
         "0.2"
        ],
        [
         "31",
         "5.4",
         "3.4",
         "1.5",
         "0.4"
        ],
        [
         "32",
         "5.2",
         "4.1",
         "1.5",
         "0.1"
        ],
        [
         "33",
         "5.5",
         "4.2",
         "1.4",
         "0.2"
        ],
        [
         "34",
         "4.9",
         "3.1",
         "1.5",
         "0.2"
        ],
        [
         "35",
         "5.0",
         "3.2",
         "1.2",
         "0.2"
        ],
        [
         "36",
         "5.5",
         "3.5",
         "1.3",
         "0.2"
        ],
        [
         "37",
         "4.9",
         "3.6",
         "1.4",
         "0.1"
        ],
        [
         "38",
         "4.4",
         "3.0",
         "1.3",
         "0.2"
        ],
        [
         "39",
         "5.1",
         "3.4",
         "1.5",
         "0.2"
        ],
        [
         "40",
         "5.0",
         "3.5",
         "1.3",
         "0.3"
        ],
        [
         "41",
         "4.5",
         "2.3",
         "1.3",
         "0.3"
        ],
        [
         "42",
         "4.4",
         "3.2",
         "1.3",
         "0.2"
        ],
        [
         "43",
         "5.0",
         "3.5",
         "1.6",
         "0.6"
        ],
        [
         "44",
         "5.1",
         "3.8",
         "1.9",
         "0.4"
        ],
        [
         "45",
         "4.8",
         "3.0",
         "1.4",
         "0.3"
        ],
        [
         "46",
         "5.1",
         "3.8",
         "1.6",
         "0.2"
        ],
        [
         "47",
         "4.6",
         "3.2",
         "1.4",
         "0.2"
        ],
        [
         "48",
         "5.3",
         "3.7",
         "1.5",
         "0.2"
        ],
        [
         "49",
         "5.0",
         "3.3",
         "1.4",
         "0.2"
        ]
       ],
       "shape": {
        "columns": 4,
        "rows": 150
       }
      },
      "text/html": [
       "<div>\n",
       "<style scoped>\n",
       "    .dataframe tbody tr th:only-of-type {\n",
       "        vertical-align: middle;\n",
       "    }\n",
       "\n",
       "    .dataframe tbody tr th {\n",
       "        vertical-align: top;\n",
       "    }\n",
       "\n",
       "    .dataframe thead th {\n",
       "        text-align: right;\n",
       "    }\n",
       "</style>\n",
       "<table border=\"1\" class=\"dataframe\">\n",
       "  <thead>\n",
       "    <tr style=\"text-align: right;\">\n",
       "      <th></th>\n",
       "      <th>sepal length (cm)</th>\n",
       "      <th>sepal width (cm)</th>\n",
       "      <th>petal length (cm)</th>\n",
       "      <th>petal width (cm)</th>\n",
       "    </tr>\n",
       "  </thead>\n",
       "  <tbody>\n",
       "    <tr>\n",
       "      <th>0</th>\n",
       "      <td>5.1</td>\n",
       "      <td>3.5</td>\n",
       "      <td>1.4</td>\n",
       "      <td>0.2</td>\n",
       "    </tr>\n",
       "    <tr>\n",
       "      <th>1</th>\n",
       "      <td>4.9</td>\n",
       "      <td>3.0</td>\n",
       "      <td>1.4</td>\n",
       "      <td>0.2</td>\n",
       "    </tr>\n",
       "    <tr>\n",
       "      <th>2</th>\n",
       "      <td>4.7</td>\n",
       "      <td>3.2</td>\n",
       "      <td>1.3</td>\n",
       "      <td>0.2</td>\n",
       "    </tr>\n",
       "    <tr>\n",
       "      <th>3</th>\n",
       "      <td>4.6</td>\n",
       "      <td>3.1</td>\n",
       "      <td>1.5</td>\n",
       "      <td>0.2</td>\n",
       "    </tr>\n",
       "    <tr>\n",
       "      <th>4</th>\n",
       "      <td>5.0</td>\n",
       "      <td>3.6</td>\n",
       "      <td>1.4</td>\n",
       "      <td>0.2</td>\n",
       "    </tr>\n",
       "    <tr>\n",
       "      <th>...</th>\n",
       "      <td>...</td>\n",
       "      <td>...</td>\n",
       "      <td>...</td>\n",
       "      <td>...</td>\n",
       "    </tr>\n",
       "    <tr>\n",
       "      <th>145</th>\n",
       "      <td>6.7</td>\n",
       "      <td>3.0</td>\n",
       "      <td>5.2</td>\n",
       "      <td>2.3</td>\n",
       "    </tr>\n",
       "    <tr>\n",
       "      <th>146</th>\n",
       "      <td>6.3</td>\n",
       "      <td>2.5</td>\n",
       "      <td>5.0</td>\n",
       "      <td>1.9</td>\n",
       "    </tr>\n",
       "    <tr>\n",
       "      <th>147</th>\n",
       "      <td>6.5</td>\n",
       "      <td>3.0</td>\n",
       "      <td>5.2</td>\n",
       "      <td>2.0</td>\n",
       "    </tr>\n",
       "    <tr>\n",
       "      <th>148</th>\n",
       "      <td>6.2</td>\n",
       "      <td>3.4</td>\n",
       "      <td>5.4</td>\n",
       "      <td>2.3</td>\n",
       "    </tr>\n",
       "    <tr>\n",
       "      <th>149</th>\n",
       "      <td>5.9</td>\n",
       "      <td>3.0</td>\n",
       "      <td>5.1</td>\n",
       "      <td>1.8</td>\n",
       "    </tr>\n",
       "  </tbody>\n",
       "</table>\n",
       "<p>150 rows × 4 columns</p>\n",
       "</div>"
      ],
      "text/plain": [
       "     sepal length (cm)  sepal width (cm)  petal length (cm)  petal width (cm)\n",
       "0                  5.1               3.5                1.4               0.2\n",
       "1                  4.9               3.0                1.4               0.2\n",
       "2                  4.7               3.2                1.3               0.2\n",
       "3                  4.6               3.1                1.5               0.2\n",
       "4                  5.0               3.6                1.4               0.2\n",
       "..                 ...               ...                ...               ...\n",
       "145                6.7               3.0                5.2               2.3\n",
       "146                6.3               2.5                5.0               1.9\n",
       "147                6.5               3.0                5.2               2.0\n",
       "148                6.2               3.4                5.4               2.3\n",
       "149                5.9               3.0                5.1               1.8\n",
       "\n",
       "[150 rows x 4 columns]"
      ]
     },
     "execution_count": 3,
     "metadata": {},
     "output_type": "execute_result"
    }
   ],
   "source": [
    "irisX"
   ]
  },
  {
   "cell_type": "code",
   "execution_count": 9,
   "id": "982c405c",
   "metadata": {},
   "outputs": [],
   "source": [
    "# center the data\n",
    "irisX = irisX - irisX.mean()"
   ]
  },
  {
   "cell_type": "code",
   "execution_count": null,
   "id": "c2bc6c75",
   "metadata": {},
   "outputs": [
    {
     "data": {
      "text/plain": [
       "'5.21.0'"
      ]
     },
     "execution_count": 3,
     "metadata": {},
     "output_type": "execute_result"
    }
   ],
   "source": [
    "pm.__version__"
   ]
  },
  {
   "cell_type": "code",
   "execution_count": 4,
   "id": "9d3025c0",
   "metadata": {},
   "outputs": [
    {
     "data": {
      "text/plain": [
       "array([0, 1, 2])"
      ]
     },
     "execution_count": 4,
     "metadata": {},
     "output_type": "execute_result"
    }
   ],
   "source": [
    "cat.unique()"
   ]
  },
  {
   "cell_type": "code",
   "execution_count": 32,
   "id": "8062f260",
   "metadata": {},
   "outputs": [
    {
     "name": "stderr",
     "output_type": "stream",
     "text": [
      "Initializing NUTS using jitter+adapt_diag...\n",
      "Multiprocess sampling (4 chains in 4 jobs)\n",
      "NUTS: [alfa, beta]\n"
     ]
    },
    {
     "data": {
      "application/vnd.jupyter.widget-view+json": {
       "model_id": "0a56ecf5105e44e185d087e28800ba0b",
       "version_major": 2,
       "version_minor": 0
      },
      "text/plain": [
       "Output()"
      ]
     },
     "metadata": {},
     "output_type": "display_data"
    },
    {
     "data": {
      "text/html": [
       "<pre style=\"white-space:pre;overflow-x:auto;line-height:normal;font-family:Menlo,'DejaVu Sans Mono',consolas,'Courier New',monospace\"></pre>\n"
      ],
      "text/plain": []
     },
     "metadata": {},
     "output_type": "display_data"
    },
    {
     "name": "stderr",
     "output_type": "stream",
     "text": [
      "Sampling 4 chains for 1_000 tune and 1_000 draw iterations (4_000 + 4_000 draws total) took 5 seconds.\n"
     ]
    }
   ],
   "source": [
    "nclass = len(cat.unique())\n",
    "nparam = 4\n",
    "\n",
    "\n",
    "with pm.Model() as iris_model:\n",
    "    X_data = pm.Data('X_data', irisX)\n",
    "    y_obs_data = pm.Data('y_obs_data', cat)\n",
    "    alfa = pm.Normal('alfa', mu=0, sigma=5, shape=nclass)\n",
    "    beta = pm.Normal('beta', mu=0, sigma=5, shape=(nparam, nclass))\n",
    "    mu = pm.math.dot(X_data, beta) + alfa\n",
    "     \n",
    "    yl = pm.Categorical('obs', logit_p=mu, observed=y_obs_data)\n",
    " \n",
    "\n",
    "with iris_model:\n",
    "    idata = pm.sample(idata_kwargs={\"log_likelihood\": True})\n",
    "\n",
    " \n"
   ]
  },
  {
   "cell_type": "code",
   "execution_count": 33,
   "id": "8a5b7655",
   "metadata": {},
   "outputs": [
    {
     "data": {
      "application/vnd.microsoft.datawrangler.viewer.v0+json": {
       "columns": [
        {
         "name": "index",
         "rawType": "object",
         "type": "string"
        },
        {
         "name": "mean",
         "rawType": "float64",
         "type": "float"
        },
        {
         "name": "sd",
         "rawType": "float64",
         "type": "float"
        },
        {
         "name": "hdi_2.5%",
         "rawType": "float64",
         "type": "float"
        },
        {
         "name": "hdi_97.5%",
         "rawType": "float64",
         "type": "float"
        },
        {
         "name": "mcse_mean",
         "rawType": "float64",
         "type": "float"
        },
        {
         "name": "mcse_sd",
         "rawType": "float64",
         "type": "float"
        },
        {
         "name": "ess_bulk",
         "rawType": "float64",
         "type": "float"
        },
        {
         "name": "ess_tail",
         "rawType": "float64",
         "type": "float"
        },
        {
         "name": "r_hat",
         "rawType": "float64",
         "type": "float"
        }
       ],
       "conversionMethod": "pd.DataFrame",
       "ref": "0918c664-050c-46ff-bdc1-6936ce8311c4",
       "rows": [
        [
         "alfa[0]",
         "-1.72",
         "3.89",
         "-9.24",
         "5.78",
         "0.07",
         "0.06",
         "3023.74",
         "2545.8",
         "1.0"
        ],
        [
         "alfa[1]",
         "6.48",
         "3.37",
         "-0.06",
         "13.18",
         "0.07",
         "0.05",
         "2578.99",
         "2468.82",
         "1.0"
        ],
        [
         "alfa[2]",
         "-4.83",
         "3.53",
         "-11.69",
         "2.09",
         "0.07",
         "0.06",
         "2795.42",
         "2323.15",
         "1.0"
        ],
        [
         "beta[0, 0]",
         "-0.27",
         "4.26",
         "-8.56",
         "7.62",
         "0.07",
         "0.07",
         "3547.01",
         "2684.01",
         "1.0"
        ],
        [
         "beta[0, 1]",
         "1.14",
         "3.42",
         "-5.49",
         "7.68",
         "0.07",
         "0.06",
         "2557.73",
         "2116.28",
         "1.0"
        ],
        [
         "beta[0, 2]",
         "-1.08",
         "3.45",
         "-7.83",
         "5.3",
         "0.07",
         "0.06",
         "2758.81",
         "2372.56",
         "1.0"
        ],
        [
         "beta[1, 0]",
         "3.66",
         "3.99",
         "-4.01",
         "11.73",
         "0.07",
         "0.06",
         "3483.53",
         "2822.86",
         "1.0"
        ],
        [
         "beta[1, 1]",
         "-0.55",
         "3.32",
         "-7.15",
         "5.92",
         "0.06",
         "0.06",
         "2898.3",
         "2548.35",
         "1.0"
        ],
        [
         "beta[1, 2]",
         "-3.14",
         "3.42",
         "-9.72",
         "3.81",
         "0.06",
         "0.06",
         "3135.99",
         "2830.61",
         "1.0"
        ],
        [
         "beta[2, 0]",
         "-7.0",
         "3.76",
         "-14.63",
         "0.47",
         "0.07",
         "0.06",
         "3017.53",
         "2334.49",
         "1.0"
        ],
        [
         "beta[2, 1]",
         "0.24",
         "3.19",
         "-6.27",
         "6.05",
         "0.06",
         "0.05",
         "2717.88",
         "2459.75",
         "1.0"
        ],
        [
         "beta[2, 2]",
         "6.85",
         "3.29",
         "0.62",
         "13.27",
         "0.06",
         "0.05",
         "2758.51",
         "2666.0",
         "1.0"
        ],
        [
         "beta[3, 0]",
         "-3.5",
         "4.58",
         "-11.86",
         "6.01",
         "0.07",
         "0.08",
         "4345.83",
         "2767.65",
         "1.0"
        ],
        [
         "beta[3, 1]",
         "-2.72",
         "3.62",
         "-9.96",
         "4.29",
         "0.06",
         "0.05",
         "3309.55",
         "2754.03",
         "1.0"
        ],
        [
         "beta[3, 2]",
         "6.2",
         "3.75",
         "-1.13",
         "13.25",
         "0.07",
         "0.06",
         "3228.56",
         "2805.93",
         "1.0"
        ]
       ],
       "shape": {
        "columns": 9,
        "rows": 15
       }
      },
      "text/html": [
       "<div>\n",
       "<style scoped>\n",
       "    .dataframe tbody tr th:only-of-type {\n",
       "        vertical-align: middle;\n",
       "    }\n",
       "\n",
       "    .dataframe tbody tr th {\n",
       "        vertical-align: top;\n",
       "    }\n",
       "\n",
       "    .dataframe thead th {\n",
       "        text-align: right;\n",
       "    }\n",
       "</style>\n",
       "<table border=\"1\" class=\"dataframe\">\n",
       "  <thead>\n",
       "    <tr style=\"text-align: right;\">\n",
       "      <th></th>\n",
       "      <th>mean</th>\n",
       "      <th>sd</th>\n",
       "      <th>hdi_2.5%</th>\n",
       "      <th>hdi_97.5%</th>\n",
       "      <th>mcse_mean</th>\n",
       "      <th>mcse_sd</th>\n",
       "      <th>ess_bulk</th>\n",
       "      <th>ess_tail</th>\n",
       "      <th>r_hat</th>\n",
       "    </tr>\n",
       "  </thead>\n",
       "  <tbody>\n",
       "    <tr>\n",
       "      <th>alfa[0]</th>\n",
       "      <td>-1.72</td>\n",
       "      <td>3.89</td>\n",
       "      <td>-9.24</td>\n",
       "      <td>5.78</td>\n",
       "      <td>0.07</td>\n",
       "      <td>0.06</td>\n",
       "      <td>3023.74</td>\n",
       "      <td>2545.80</td>\n",
       "      <td>1.0</td>\n",
       "    </tr>\n",
       "    <tr>\n",
       "      <th>alfa[1]</th>\n",
       "      <td>6.48</td>\n",
       "      <td>3.37</td>\n",
       "      <td>-0.06</td>\n",
       "      <td>13.18</td>\n",
       "      <td>0.07</td>\n",
       "      <td>0.05</td>\n",
       "      <td>2578.99</td>\n",
       "      <td>2468.82</td>\n",
       "      <td>1.0</td>\n",
       "    </tr>\n",
       "    <tr>\n",
       "      <th>alfa[2]</th>\n",
       "      <td>-4.83</td>\n",
       "      <td>3.53</td>\n",
       "      <td>-11.69</td>\n",
       "      <td>2.09</td>\n",
       "      <td>0.07</td>\n",
       "      <td>0.06</td>\n",
       "      <td>2795.42</td>\n",
       "      <td>2323.15</td>\n",
       "      <td>1.0</td>\n",
       "    </tr>\n",
       "    <tr>\n",
       "      <th>beta[0, 0]</th>\n",
       "      <td>-0.27</td>\n",
       "      <td>4.26</td>\n",
       "      <td>-8.56</td>\n",
       "      <td>7.62</td>\n",
       "      <td>0.07</td>\n",
       "      <td>0.07</td>\n",
       "      <td>3547.01</td>\n",
       "      <td>2684.01</td>\n",
       "      <td>1.0</td>\n",
       "    </tr>\n",
       "    <tr>\n",
       "      <th>beta[0, 1]</th>\n",
       "      <td>1.14</td>\n",
       "      <td>3.42</td>\n",
       "      <td>-5.49</td>\n",
       "      <td>7.68</td>\n",
       "      <td>0.07</td>\n",
       "      <td>0.06</td>\n",
       "      <td>2557.73</td>\n",
       "      <td>2116.28</td>\n",
       "      <td>1.0</td>\n",
       "    </tr>\n",
       "    <tr>\n",
       "      <th>beta[0, 2]</th>\n",
       "      <td>-1.08</td>\n",
       "      <td>3.45</td>\n",
       "      <td>-7.83</td>\n",
       "      <td>5.30</td>\n",
       "      <td>0.07</td>\n",
       "      <td>0.06</td>\n",
       "      <td>2758.81</td>\n",
       "      <td>2372.56</td>\n",
       "      <td>1.0</td>\n",
       "    </tr>\n",
       "    <tr>\n",
       "      <th>beta[1, 0]</th>\n",
       "      <td>3.66</td>\n",
       "      <td>3.99</td>\n",
       "      <td>-4.01</td>\n",
       "      <td>11.73</td>\n",
       "      <td>0.07</td>\n",
       "      <td>0.06</td>\n",
       "      <td>3483.53</td>\n",
       "      <td>2822.86</td>\n",
       "      <td>1.0</td>\n",
       "    </tr>\n",
       "    <tr>\n",
       "      <th>beta[1, 1]</th>\n",
       "      <td>-0.55</td>\n",
       "      <td>3.32</td>\n",
       "      <td>-7.15</td>\n",
       "      <td>5.92</td>\n",
       "      <td>0.06</td>\n",
       "      <td>0.06</td>\n",
       "      <td>2898.30</td>\n",
       "      <td>2548.35</td>\n",
       "      <td>1.0</td>\n",
       "    </tr>\n",
       "    <tr>\n",
       "      <th>beta[1, 2]</th>\n",
       "      <td>-3.14</td>\n",
       "      <td>3.42</td>\n",
       "      <td>-9.72</td>\n",
       "      <td>3.81</td>\n",
       "      <td>0.06</td>\n",
       "      <td>0.06</td>\n",
       "      <td>3135.99</td>\n",
       "      <td>2830.61</td>\n",
       "      <td>1.0</td>\n",
       "    </tr>\n",
       "    <tr>\n",
       "      <th>beta[2, 0]</th>\n",
       "      <td>-7.00</td>\n",
       "      <td>3.76</td>\n",
       "      <td>-14.63</td>\n",
       "      <td>0.47</td>\n",
       "      <td>0.07</td>\n",
       "      <td>0.06</td>\n",
       "      <td>3017.53</td>\n",
       "      <td>2334.49</td>\n",
       "      <td>1.0</td>\n",
       "    </tr>\n",
       "    <tr>\n",
       "      <th>beta[2, 1]</th>\n",
       "      <td>0.24</td>\n",
       "      <td>3.19</td>\n",
       "      <td>-6.27</td>\n",
       "      <td>6.05</td>\n",
       "      <td>0.06</td>\n",
       "      <td>0.05</td>\n",
       "      <td>2717.88</td>\n",
       "      <td>2459.75</td>\n",
       "      <td>1.0</td>\n",
       "    </tr>\n",
       "    <tr>\n",
       "      <th>beta[2, 2]</th>\n",
       "      <td>6.85</td>\n",
       "      <td>3.29</td>\n",
       "      <td>0.62</td>\n",
       "      <td>13.27</td>\n",
       "      <td>0.06</td>\n",
       "      <td>0.05</td>\n",
       "      <td>2758.51</td>\n",
       "      <td>2666.00</td>\n",
       "      <td>1.0</td>\n",
       "    </tr>\n",
       "    <tr>\n",
       "      <th>beta[3, 0]</th>\n",
       "      <td>-3.50</td>\n",
       "      <td>4.58</td>\n",
       "      <td>-11.86</td>\n",
       "      <td>6.01</td>\n",
       "      <td>0.07</td>\n",
       "      <td>0.08</td>\n",
       "      <td>4345.83</td>\n",
       "      <td>2767.65</td>\n",
       "      <td>1.0</td>\n",
       "    </tr>\n",
       "    <tr>\n",
       "      <th>beta[3, 1]</th>\n",
       "      <td>-2.72</td>\n",
       "      <td>3.62</td>\n",
       "      <td>-9.96</td>\n",
       "      <td>4.29</td>\n",
       "      <td>0.06</td>\n",
       "      <td>0.05</td>\n",
       "      <td>3309.55</td>\n",
       "      <td>2754.03</td>\n",
       "      <td>1.0</td>\n",
       "    </tr>\n",
       "    <tr>\n",
       "      <th>beta[3, 2]</th>\n",
       "      <td>6.20</td>\n",
       "      <td>3.75</td>\n",
       "      <td>-1.13</td>\n",
       "      <td>13.25</td>\n",
       "      <td>0.07</td>\n",
       "      <td>0.06</td>\n",
       "      <td>3228.56</td>\n",
       "      <td>2805.93</td>\n",
       "      <td>1.0</td>\n",
       "    </tr>\n",
       "  </tbody>\n",
       "</table>\n",
       "</div>"
      ],
      "text/plain": [
       "            mean    sd  hdi_2.5%  hdi_97.5%  mcse_mean  mcse_sd  ess_bulk  \\\n",
       "alfa[0]    -1.72  3.89     -9.24       5.78       0.07     0.06   3023.74   \n",
       "alfa[1]     6.48  3.37     -0.06      13.18       0.07     0.05   2578.99   \n",
       "alfa[2]    -4.83  3.53    -11.69       2.09       0.07     0.06   2795.42   \n",
       "beta[0, 0] -0.27  4.26     -8.56       7.62       0.07     0.07   3547.01   \n",
       "beta[0, 1]  1.14  3.42     -5.49       7.68       0.07     0.06   2557.73   \n",
       "beta[0, 2] -1.08  3.45     -7.83       5.30       0.07     0.06   2758.81   \n",
       "beta[1, 0]  3.66  3.99     -4.01      11.73       0.07     0.06   3483.53   \n",
       "beta[1, 1] -0.55  3.32     -7.15       5.92       0.06     0.06   2898.30   \n",
       "beta[1, 2] -3.14  3.42     -9.72       3.81       0.06     0.06   3135.99   \n",
       "beta[2, 0] -7.00  3.76    -14.63       0.47       0.07     0.06   3017.53   \n",
       "beta[2, 1]  0.24  3.19     -6.27       6.05       0.06     0.05   2717.88   \n",
       "beta[2, 2]  6.85  3.29      0.62      13.27       0.06     0.05   2758.51   \n",
       "beta[3, 0] -3.50  4.58    -11.86       6.01       0.07     0.08   4345.83   \n",
       "beta[3, 1] -2.72  3.62     -9.96       4.29       0.06     0.05   3309.55   \n",
       "beta[3, 2]  6.20  3.75     -1.13      13.25       0.07     0.06   3228.56   \n",
       "\n",
       "            ess_tail  r_hat  \n",
       "alfa[0]      2545.80    1.0  \n",
       "alfa[1]      2468.82    1.0  \n",
       "alfa[2]      2323.15    1.0  \n",
       "beta[0, 0]   2684.01    1.0  \n",
       "beta[0, 1]   2116.28    1.0  \n",
       "beta[0, 2]   2372.56    1.0  \n",
       "beta[1, 0]   2822.86    1.0  \n",
       "beta[1, 1]   2548.35    1.0  \n",
       "beta[1, 2]   2830.61    1.0  \n",
       "beta[2, 0]   2334.49    1.0  \n",
       "beta[2, 1]   2459.75    1.0  \n",
       "beta[2, 2]   2666.00    1.0  \n",
       "beta[3, 0]   2767.65    1.0  \n",
       "beta[3, 1]   2754.03    1.0  \n",
       "beta[3, 2]   2805.93    1.0  "
      ]
     },
     "execution_count": 33,
     "metadata": {},
     "output_type": "execute_result"
    }
   ],
   "source": [
    "az.summary(idata, hdi_prob=0.95, round_to=2)"
   ]
  },
  {
   "cell_type": "markdown",
   "id": "443979ed",
   "metadata": {},
   "source": [
    "Now try using pivot "
   ]
  },
  {
   "cell_type": "code",
   "execution_count": 34,
   "id": "0daeeba1",
   "metadata": {},
   "outputs": [
    {
     "name": "stderr",
     "output_type": "stream",
     "text": [
      "Initializing NUTS using jitter+adapt_diag...\n",
      "Multiprocess sampling (4 chains in 4 jobs)\n",
      "NUTS: [alfa, beta]\n"
     ]
    },
    {
     "data": {
      "application/vnd.jupyter.widget-view+json": {
       "model_id": "e81b48060faf480c9e8586087c393b62",
       "version_major": 2,
       "version_minor": 0
      },
      "text/plain": [
       "Output()"
      ]
     },
     "metadata": {},
     "output_type": "display_data"
    },
    {
     "data": {
      "text/html": [
       "<pre style=\"white-space:pre;overflow-x:auto;line-height:normal;font-family:Menlo,'DejaVu Sans Mono',consolas,'Courier New',monospace\"></pre>\n"
      ],
      "text/plain": []
     },
     "metadata": {},
     "output_type": "display_data"
    },
    {
     "name": "stderr",
     "output_type": "stream",
     "text": [
      "Sampling 4 chains for 1_000 tune and 1_000 draw iterations (4_000 + 4_000 draws total) took 4 seconds.\n"
     ]
    }
   ],
   "source": [
    "\n",
    "with pm.Model() as iris_model_pivot:\n",
    "    X_data = pm.Data('X_data', irisX)\n",
    "    y_obs_data = pm.Data('y_obs_data', cat)\n",
    "\n",
    "    # Now parameters are only defined for categories 1 to (nclass-1)\n",
    "    alfa = pm.Normal('alfa', mu=0, sigma=5, shape=nclass - 1)\n",
    "    beta = pm.Normal('beta', mu=0, sigma=5, shape=(nparam, nclass - 1))\n",
    "\n",
    "    # Compute logits only for the non-baseline categories\n",
    "    mu_nonpivot = pm.math.dot(X_data, beta) + alfa\n",
    "\n",
    "    # Add zeros explicitly for pivot class logits (category 0)\n",
    "    zeros = pm.math.zeros((mu_nonpivot.shape[0], 1))\n",
    "    mu = pm.math.concatenate([zeros, mu_nonpivot], axis=1)\n",
    "\n",
    "    # Now use logit_p (stable!)\n",
    "    yl = pm.Categorical('obs', logit_p=mu, observed=y_obs_data)\n",
    "\n",
    "with iris_model_pivot:\n",
    "    idata_pivot = pm.sample(idata_kwargs={\"log_likelihood\": True})\n"
   ]
  },
  {
   "cell_type": "code",
   "execution_count": 35,
   "id": "1c2398e6",
   "metadata": {},
   "outputs": [
    {
     "data": {
      "application/vnd.microsoft.datawrangler.viewer.v0+json": {
       "columns": [
        {
         "name": "index",
         "rawType": "object",
         "type": "string"
        },
        {
         "name": "mean",
         "rawType": "float64",
         "type": "float"
        },
        {
         "name": "sd",
         "rawType": "float64",
         "type": "float"
        },
        {
         "name": "hdi_2.5%",
         "rawType": "float64",
         "type": "float"
        },
        {
         "name": "hdi_97.5%",
         "rawType": "float64",
         "type": "float"
        },
        {
         "name": "mcse_mean",
         "rawType": "float64",
         "type": "float"
        },
        {
         "name": "mcse_sd",
         "rawType": "float64",
         "type": "float"
        },
        {
         "name": "ess_bulk",
         "rawType": "float64",
         "type": "float"
        },
        {
         "name": "ess_tail",
         "rawType": "float64",
         "type": "float"
        },
        {
         "name": "r_hat",
         "rawType": "float64",
         "type": "float"
        }
       ],
       "conversionMethod": "pd.DataFrame",
       "ref": "ecb8ae91-3456-45de-a4d5-df35a537d1c1",
       "rows": [
        [
         "alfa[0]",
         "5.98",
         "2.33",
         "1.62",
         "10.51",
         "0.05",
         "0.05",
         "1930.61",
         "1809.73",
         "1.0"
        ],
        [
         "alfa[1]",
         "-4.24",
         "2.85",
         "-9.78",
         "1.2",
         "0.06",
         "0.04",
         "2079.63",
         "2390.79",
         "1.0"
        ],
        [
         "beta[0, 0]",
         "1.67",
         "2.8",
         "-4.03",
         "7.08",
         "0.07",
         "0.05",
         "1766.66",
         "2083.1",
         "1.0"
        ],
        [
         "beta[0, 1]",
         "-0.35",
         "2.89",
         "-5.94",
         "5.24",
         "0.07",
         "0.06",
         "1682.78",
         "1872.76",
         "1.0"
        ],
        [
         "beta[1, 0]",
         "-2.77",
         "2.64",
         "-8.14",
         "2.14",
         "0.06",
         "0.04",
         "2159.18",
         "2029.84",
         "1.0"
        ],
        [
         "beta[1, 1]",
         "-4.96",
         "2.96",
         "-10.78",
         "0.89",
         "0.06",
         "0.05",
         "2217.02",
         "2437.57",
         "1.0"
        ],
        [
         "beta[2, 0]",
         "5.07",
         "2.11",
         "1.09",
         "9.21",
         "0.05",
         "0.04",
         "1644.72",
         "2144.7",
         "1.0"
        ],
        [
         "beta[2, 1]",
         "10.99",
         "2.58",
         "6.01",
         "15.98",
         "0.06",
         "0.04",
         "1772.71",
         "2215.42",
         "1.0"
        ],
        [
         "beta[3, 0]",
         "-0.38",
         "3.34",
         "-6.88",
         "5.97",
         "0.08",
         "0.05",
         "1798.11",
         "2506.49",
         "1.0"
        ],
        [
         "beta[3, 1]",
         "7.93",
         "3.61",
         "0.98",
         "15.07",
         "0.08",
         "0.06",
         "2114.83",
         "2591.59",
         "1.0"
        ]
       ],
       "shape": {
        "columns": 9,
        "rows": 10
       }
      },
      "text/html": [
       "<div>\n",
       "<style scoped>\n",
       "    .dataframe tbody tr th:only-of-type {\n",
       "        vertical-align: middle;\n",
       "    }\n",
       "\n",
       "    .dataframe tbody tr th {\n",
       "        vertical-align: top;\n",
       "    }\n",
       "\n",
       "    .dataframe thead th {\n",
       "        text-align: right;\n",
       "    }\n",
       "</style>\n",
       "<table border=\"1\" class=\"dataframe\">\n",
       "  <thead>\n",
       "    <tr style=\"text-align: right;\">\n",
       "      <th></th>\n",
       "      <th>mean</th>\n",
       "      <th>sd</th>\n",
       "      <th>hdi_2.5%</th>\n",
       "      <th>hdi_97.5%</th>\n",
       "      <th>mcse_mean</th>\n",
       "      <th>mcse_sd</th>\n",
       "      <th>ess_bulk</th>\n",
       "      <th>ess_tail</th>\n",
       "      <th>r_hat</th>\n",
       "    </tr>\n",
       "  </thead>\n",
       "  <tbody>\n",
       "    <tr>\n",
       "      <th>alfa[0]</th>\n",
       "      <td>5.98</td>\n",
       "      <td>2.33</td>\n",
       "      <td>1.62</td>\n",
       "      <td>10.51</td>\n",
       "      <td>0.05</td>\n",
       "      <td>0.05</td>\n",
       "      <td>1930.61</td>\n",
       "      <td>1809.73</td>\n",
       "      <td>1.0</td>\n",
       "    </tr>\n",
       "    <tr>\n",
       "      <th>alfa[1]</th>\n",
       "      <td>-4.24</td>\n",
       "      <td>2.85</td>\n",
       "      <td>-9.78</td>\n",
       "      <td>1.20</td>\n",
       "      <td>0.06</td>\n",
       "      <td>0.04</td>\n",
       "      <td>2079.63</td>\n",
       "      <td>2390.79</td>\n",
       "      <td>1.0</td>\n",
       "    </tr>\n",
       "    <tr>\n",
       "      <th>beta[0, 0]</th>\n",
       "      <td>1.67</td>\n",
       "      <td>2.80</td>\n",
       "      <td>-4.03</td>\n",
       "      <td>7.08</td>\n",
       "      <td>0.07</td>\n",
       "      <td>0.05</td>\n",
       "      <td>1766.66</td>\n",
       "      <td>2083.10</td>\n",
       "      <td>1.0</td>\n",
       "    </tr>\n",
       "    <tr>\n",
       "      <th>beta[0, 1]</th>\n",
       "      <td>-0.35</td>\n",
       "      <td>2.89</td>\n",
       "      <td>-5.94</td>\n",
       "      <td>5.24</td>\n",
       "      <td>0.07</td>\n",
       "      <td>0.06</td>\n",
       "      <td>1682.78</td>\n",
       "      <td>1872.76</td>\n",
       "      <td>1.0</td>\n",
       "    </tr>\n",
       "    <tr>\n",
       "      <th>beta[1, 0]</th>\n",
       "      <td>-2.77</td>\n",
       "      <td>2.64</td>\n",
       "      <td>-8.14</td>\n",
       "      <td>2.14</td>\n",
       "      <td>0.06</td>\n",
       "      <td>0.04</td>\n",
       "      <td>2159.18</td>\n",
       "      <td>2029.84</td>\n",
       "      <td>1.0</td>\n",
       "    </tr>\n",
       "    <tr>\n",
       "      <th>beta[1, 1]</th>\n",
       "      <td>-4.96</td>\n",
       "      <td>2.96</td>\n",
       "      <td>-10.78</td>\n",
       "      <td>0.89</td>\n",
       "      <td>0.06</td>\n",
       "      <td>0.05</td>\n",
       "      <td>2217.02</td>\n",
       "      <td>2437.57</td>\n",
       "      <td>1.0</td>\n",
       "    </tr>\n",
       "    <tr>\n",
       "      <th>beta[2, 0]</th>\n",
       "      <td>5.07</td>\n",
       "      <td>2.11</td>\n",
       "      <td>1.09</td>\n",
       "      <td>9.21</td>\n",
       "      <td>0.05</td>\n",
       "      <td>0.04</td>\n",
       "      <td>1644.72</td>\n",
       "      <td>2144.70</td>\n",
       "      <td>1.0</td>\n",
       "    </tr>\n",
       "    <tr>\n",
       "      <th>beta[2, 1]</th>\n",
       "      <td>10.99</td>\n",
       "      <td>2.58</td>\n",
       "      <td>6.01</td>\n",
       "      <td>15.98</td>\n",
       "      <td>0.06</td>\n",
       "      <td>0.04</td>\n",
       "      <td>1772.71</td>\n",
       "      <td>2215.42</td>\n",
       "      <td>1.0</td>\n",
       "    </tr>\n",
       "    <tr>\n",
       "      <th>beta[3, 0]</th>\n",
       "      <td>-0.38</td>\n",
       "      <td>3.34</td>\n",
       "      <td>-6.88</td>\n",
       "      <td>5.97</td>\n",
       "      <td>0.08</td>\n",
       "      <td>0.05</td>\n",
       "      <td>1798.11</td>\n",
       "      <td>2506.49</td>\n",
       "      <td>1.0</td>\n",
       "    </tr>\n",
       "    <tr>\n",
       "      <th>beta[3, 1]</th>\n",
       "      <td>7.93</td>\n",
       "      <td>3.61</td>\n",
       "      <td>0.98</td>\n",
       "      <td>15.07</td>\n",
       "      <td>0.08</td>\n",
       "      <td>0.06</td>\n",
       "      <td>2114.83</td>\n",
       "      <td>2591.59</td>\n",
       "      <td>1.0</td>\n",
       "    </tr>\n",
       "  </tbody>\n",
       "</table>\n",
       "</div>"
      ],
      "text/plain": [
       "             mean    sd  hdi_2.5%  hdi_97.5%  mcse_mean  mcse_sd  ess_bulk  \\\n",
       "alfa[0]      5.98  2.33      1.62      10.51       0.05     0.05   1930.61   \n",
       "alfa[1]     -4.24  2.85     -9.78       1.20       0.06     0.04   2079.63   \n",
       "beta[0, 0]   1.67  2.80     -4.03       7.08       0.07     0.05   1766.66   \n",
       "beta[0, 1]  -0.35  2.89     -5.94       5.24       0.07     0.06   1682.78   \n",
       "beta[1, 0]  -2.77  2.64     -8.14       2.14       0.06     0.04   2159.18   \n",
       "beta[1, 1]  -4.96  2.96    -10.78       0.89       0.06     0.05   2217.02   \n",
       "beta[2, 0]   5.07  2.11      1.09       9.21       0.05     0.04   1644.72   \n",
       "beta[2, 1]  10.99  2.58      6.01      15.98       0.06     0.04   1772.71   \n",
       "beta[3, 0]  -0.38  3.34     -6.88       5.97       0.08     0.05   1798.11   \n",
       "beta[3, 1]   7.93  3.61      0.98      15.07       0.08     0.06   2114.83   \n",
       "\n",
       "            ess_tail  r_hat  \n",
       "alfa[0]      1809.73    1.0  \n",
       "alfa[1]      2390.79    1.0  \n",
       "beta[0, 0]   2083.10    1.0  \n",
       "beta[0, 1]   1872.76    1.0  \n",
       "beta[1, 0]   2029.84    1.0  \n",
       "beta[1, 1]   2437.57    1.0  \n",
       "beta[2, 0]   2144.70    1.0  \n",
       "beta[2, 1]   2215.42    1.0  \n",
       "beta[3, 0]   2506.49    1.0  \n",
       "beta[3, 1]   2591.59    1.0  "
      ]
     },
     "execution_count": 35,
     "metadata": {},
     "output_type": "execute_result"
    }
   ],
   "source": [
    "az.summary(idata_pivot, hdi_prob=0.95, round_to=2)"
   ]
  },
  {
   "cell_type": "markdown",
   "id": "751cebf2",
   "metadata": {},
   "source": []
  },
  {
   "cell_type": "code",
   "execution_count": 36,
   "id": "3708564e",
   "metadata": {},
   "outputs": [
    {
     "name": "stderr",
     "output_type": "stream",
     "text": [
      "/Users/ronaldlegere/miniconda3/envs/multinom/lib/python3.12/site-packages/arviz/stats/stats.py:797: UserWarning: Estimated shape parameter of Pareto distribution is greater than 0.70 for one or more samples. You should consider using a more robust model, this is because importance sampling is less likely to work well if the marginal posterior and LOO posterior are very different. This is more likely to happen with a non-robust model and highly influential observations.\n",
      "  warnings.warn(\n",
      "/Users/ronaldlegere/miniconda3/envs/multinom/lib/python3.12/site-packages/arviz/stats/stats.py:797: UserWarning: Estimated shape parameter of Pareto distribution is greater than 0.70 for one or more samples. You should consider using a more robust model, this is because importance sampling is less likely to work well if the marginal posterior and LOO posterior are very different. This is more likely to happen with a non-robust model and highly influential observations.\n",
      "  warnings.warn(\n"
     ]
    }
   ],
   "source": [
    "loo_full = az.loo(idata)\n",
    "loo_pivot = az.loo(idata_pivot)"
   ]
  },
  {
   "cell_type": "code",
   "execution_count": 38,
   "id": "29a970ec",
   "metadata": {},
   "outputs": [
    {
     "name": "stderr",
     "output_type": "stream",
     "text": [
      "/Users/ronaldlegere/miniconda3/envs/multinom/lib/python3.12/site-packages/arviz/stats/stats.py:797: UserWarning: Estimated shape parameter of Pareto distribution is greater than 0.70 for one or more samples. You should consider using a more robust model, this is because importance sampling is less likely to work well if the marginal posterior and LOO posterior are very different. This is more likely to happen with a non-robust model and highly influential observations.\n",
      "  warnings.warn(\n",
      "/Users/ronaldlegere/miniconda3/envs/multinom/lib/python3.12/site-packages/arviz/stats/stats.py:797: UserWarning: Estimated shape parameter of Pareto distribution is greater than 0.70 for one or more samples. You should consider using a more robust model, this is because importance sampling is less likely to work well if the marginal posterior and LOO posterior are very different. This is more likely to happen with a non-robust model and highly influential observations.\n",
      "  warnings.warn(\n"
     ]
    },
    {
     "data": {
      "application/vnd.microsoft.datawrangler.viewer.v0+json": {
       "columns": [
        {
         "name": "index",
         "rawType": "object",
         "type": "string"
        },
        {
         "name": "rank",
         "rawType": "int64",
         "type": "integer"
        },
        {
         "name": "elpd_loo",
         "rawType": "float64",
         "type": "float"
        },
        {
         "name": "p_loo",
         "rawType": "float64",
         "type": "float"
        },
        {
         "name": "elpd_diff",
         "rawType": "float64",
         "type": "float"
        },
        {
         "name": "weight",
         "rawType": "float64",
         "type": "float"
        },
        {
         "name": "se",
         "rawType": "float64",
         "type": "float"
        },
        {
         "name": "dse",
         "rawType": "float64",
         "type": "float"
        },
        {
         "name": "warning",
         "rawType": "bool",
         "type": "boolean"
        },
        {
         "name": "scale",
         "rawType": "object",
         "type": "string"
        }
       ],
       "conversionMethod": "pd.DataFrame",
       "ref": "b1e0f1cd-47b0-42a9-82b9-811e8de8f425",
       "rows": [
        [
         "full_model",
         "0",
         "-10.98123674392781",
         "2.6589160643535585",
         "0.0",
         "1.0",
         "3.027625587699449",
         "0.0",
         "True",
         "log"
        ],
        [
         "pivot_model",
         "1",
         "-11.836393109758173",
         "2.670664619137508",
         "0.8551563658303625",
         "0.0",
         "2.926610159141062",
         "0.2669866003507209",
         "True",
         "log"
        ]
       ],
       "shape": {
        "columns": 9,
        "rows": 2
       }
      },
      "text/html": [
       "<div>\n",
       "<style scoped>\n",
       "    .dataframe tbody tr th:only-of-type {\n",
       "        vertical-align: middle;\n",
       "    }\n",
       "\n",
       "    .dataframe tbody tr th {\n",
       "        vertical-align: top;\n",
       "    }\n",
       "\n",
       "    .dataframe thead th {\n",
       "        text-align: right;\n",
       "    }\n",
       "</style>\n",
       "<table border=\"1\" class=\"dataframe\">\n",
       "  <thead>\n",
       "    <tr style=\"text-align: right;\">\n",
       "      <th></th>\n",
       "      <th>rank</th>\n",
       "      <th>elpd_loo</th>\n",
       "      <th>p_loo</th>\n",
       "      <th>elpd_diff</th>\n",
       "      <th>weight</th>\n",
       "      <th>se</th>\n",
       "      <th>dse</th>\n",
       "      <th>warning</th>\n",
       "      <th>scale</th>\n",
       "    </tr>\n",
       "  </thead>\n",
       "  <tbody>\n",
       "    <tr>\n",
       "      <th>full_model</th>\n",
       "      <td>0</td>\n",
       "      <td>-10.981237</td>\n",
       "      <td>2.658916</td>\n",
       "      <td>0.000000</td>\n",
       "      <td>1.0</td>\n",
       "      <td>3.027626</td>\n",
       "      <td>0.000000</td>\n",
       "      <td>True</td>\n",
       "      <td>log</td>\n",
       "    </tr>\n",
       "    <tr>\n",
       "      <th>pivot_model</th>\n",
       "      <td>1</td>\n",
       "      <td>-11.836393</td>\n",
       "      <td>2.670665</td>\n",
       "      <td>0.855156</td>\n",
       "      <td>0.0</td>\n",
       "      <td>2.926610</td>\n",
       "      <td>0.266987</td>\n",
       "      <td>True</td>\n",
       "      <td>log</td>\n",
       "    </tr>\n",
       "  </tbody>\n",
       "</table>\n",
       "</div>"
      ],
      "text/plain": [
       "             rank   elpd_loo     p_loo  elpd_diff  weight        se       dse  \\\n",
       "full_model      0 -10.981237  2.658916   0.000000     1.0  3.027626  0.000000   \n",
       "pivot_model     1 -11.836393  2.670665   0.855156     0.0  2.926610  0.266987   \n",
       "\n",
       "             warning scale  \n",
       "full_model      True   log  \n",
       "pivot_model     True   log  "
      ]
     },
     "execution_count": 38,
     "metadata": {},
     "output_type": "execute_result"
    }
   ],
   "source": [
    "az.compare({'full_model': idata, 'pivot_model': idata_pivot})\n",
    "\n"
   ]
  },
  {
   "cell_type": "code",
   "execution_count": 37,
   "id": "ee39ad32",
   "metadata": {},
   "outputs": [
    {
     "data": {
      "text/html": [
       "<div><svg style=\"position: absolute; width: 0; height: 0; overflow: hidden\">\n",
       "<defs>\n",
       "<symbol id=\"icon-database\" viewBox=\"0 0 32 32\">\n",
       "<path d=\"M16 0c-8.837 0-16 2.239-16 5v4c0 2.761 7.163 5 16 5s16-2.239 16-5v-4c0-2.761-7.163-5-16-5z\"></path>\n",
       "<path d=\"M16 17c-8.837 0-16-2.239-16-5v6c0 2.761 7.163 5 16 5s16-2.239 16-5v-6c0 2.761-7.163 5-16 5z\"></path>\n",
       "<path d=\"M16 26c-8.837 0-16-2.239-16-5v6c0 2.761 7.163 5 16 5s16-2.239 16-5v-6c0 2.761-7.163 5-16 5z\"></path>\n",
       "</symbol>\n",
       "<symbol id=\"icon-file-text2\" viewBox=\"0 0 32 32\">\n",
       "<path d=\"M28.681 7.159c-0.694-0.947-1.662-2.053-2.724-3.116s-2.169-2.030-3.116-2.724c-1.612-1.182-2.393-1.319-2.841-1.319h-15.5c-1.378 0-2.5 1.121-2.5 2.5v27c0 1.378 1.122 2.5 2.5 2.5h23c1.378 0 2.5-1.122 2.5-2.5v-19.5c0-0.448-0.137-1.23-1.319-2.841zM24.543 5.457c0.959 0.959 1.712 1.825 2.268 2.543h-4.811v-4.811c0.718 0.556 1.584 1.309 2.543 2.268zM28 29.5c0 0.271-0.229 0.5-0.5 0.5h-23c-0.271 0-0.5-0.229-0.5-0.5v-27c0-0.271 0.229-0.5 0.5-0.5 0 0 15.499-0 15.5 0v7c0 0.552 0.448 1 1 1h7v19.5z\"></path>\n",
       "<path d=\"M23 26h-14c-0.552 0-1-0.448-1-1s0.448-1 1-1h14c0.552 0 1 0.448 1 1s-0.448 1-1 1z\"></path>\n",
       "<path d=\"M23 22h-14c-0.552 0-1-0.448-1-1s0.448-1 1-1h14c0.552 0 1 0.448 1 1s-0.448 1-1 1z\"></path>\n",
       "<path d=\"M23 18h-14c-0.552 0-1-0.448-1-1s0.448-1 1-1h14c0.552 0 1 0.448 1 1s-0.448 1-1 1z\"></path>\n",
       "</symbol>\n",
       "</defs>\n",
       "</svg>\n",
       "<style>/* CSS stylesheet for displaying xarray objects in jupyterlab.\n",
       " *\n",
       " */\n",
       "\n",
       ":root {\n",
       "  --xr-font-color0: var(--jp-content-font-color0, rgba(0, 0, 0, 1));\n",
       "  --xr-font-color2: var(--jp-content-font-color2, rgba(0, 0, 0, 0.54));\n",
       "  --xr-font-color3: var(--jp-content-font-color3, rgba(0, 0, 0, 0.38));\n",
       "  --xr-border-color: var(--jp-border-color2, #e0e0e0);\n",
       "  --xr-disabled-color: var(--jp-layout-color3, #bdbdbd);\n",
       "  --xr-background-color: var(--jp-layout-color0, white);\n",
       "  --xr-background-color-row-even: var(--jp-layout-color1, white);\n",
       "  --xr-background-color-row-odd: var(--jp-layout-color2, #eeeeee);\n",
       "}\n",
       "\n",
       "html[theme=\"dark\"],\n",
       "html[data-theme=\"dark\"],\n",
       "body[data-theme=\"dark\"],\n",
       "body.vscode-dark {\n",
       "  --xr-font-color0: rgba(255, 255, 255, 1);\n",
       "  --xr-font-color2: rgba(255, 255, 255, 0.54);\n",
       "  --xr-font-color3: rgba(255, 255, 255, 0.38);\n",
       "  --xr-border-color: #1f1f1f;\n",
       "  --xr-disabled-color: #515151;\n",
       "  --xr-background-color: #111111;\n",
       "  --xr-background-color-row-even: #111111;\n",
       "  --xr-background-color-row-odd: #313131;\n",
       "}\n",
       "\n",
       ".xr-wrap {\n",
       "  display: block !important;\n",
       "  min-width: 300px;\n",
       "  max-width: 700px;\n",
       "}\n",
       "\n",
       ".xr-text-repr-fallback {\n",
       "  /* fallback to plain text repr when CSS is not injected (untrusted notebook) */\n",
       "  display: none;\n",
       "}\n",
       "\n",
       ".xr-header {\n",
       "  padding-top: 6px;\n",
       "  padding-bottom: 6px;\n",
       "  margin-bottom: 4px;\n",
       "  border-bottom: solid 1px var(--xr-border-color);\n",
       "}\n",
       "\n",
       ".xr-header > div,\n",
       ".xr-header > ul {\n",
       "  display: inline;\n",
       "  margin-top: 0;\n",
       "  margin-bottom: 0;\n",
       "}\n",
       "\n",
       ".xr-obj-type,\n",
       ".xr-array-name {\n",
       "  margin-left: 2px;\n",
       "  margin-right: 10px;\n",
       "}\n",
       "\n",
       ".xr-obj-type {\n",
       "  color: var(--xr-font-color2);\n",
       "}\n",
       "\n",
       ".xr-sections {\n",
       "  padding-left: 0 !important;\n",
       "  display: grid;\n",
       "  grid-template-columns: 150px auto auto 1fr 0 20px 0 20px;\n",
       "}\n",
       "\n",
       ".xr-section-item {\n",
       "  display: contents;\n",
       "}\n",
       "\n",
       ".xr-section-item input {\n",
       "  display: inline-block;\n",
       "  opacity: 0;\n",
       "  height: 0;\n",
       "}\n",
       "\n",
       ".xr-section-item input + label {\n",
       "  color: var(--xr-disabled-color);\n",
       "}\n",
       "\n",
       ".xr-section-item input:enabled + label {\n",
       "  cursor: pointer;\n",
       "  color: var(--xr-font-color2);\n",
       "}\n",
       "\n",
       ".xr-section-item input:focus + label {\n",
       "  border: 2px solid var(--xr-font-color0);\n",
       "}\n",
       "\n",
       ".xr-section-item input:enabled + label:hover {\n",
       "  color: var(--xr-font-color0);\n",
       "}\n",
       "\n",
       ".xr-section-summary {\n",
       "  grid-column: 1;\n",
       "  color: var(--xr-font-color2);\n",
       "  font-weight: 500;\n",
       "}\n",
       "\n",
       ".xr-section-summary > span {\n",
       "  display: inline-block;\n",
       "  padding-left: 0.5em;\n",
       "}\n",
       "\n",
       ".xr-section-summary-in:disabled + label {\n",
       "  color: var(--xr-font-color2);\n",
       "}\n",
       "\n",
       ".xr-section-summary-in + label:before {\n",
       "  display: inline-block;\n",
       "  content: \"►\";\n",
       "  font-size: 11px;\n",
       "  width: 15px;\n",
       "  text-align: center;\n",
       "}\n",
       "\n",
       ".xr-section-summary-in:disabled + label:before {\n",
       "  color: var(--xr-disabled-color);\n",
       "}\n",
       "\n",
       ".xr-section-summary-in:checked + label:before {\n",
       "  content: \"▼\";\n",
       "}\n",
       "\n",
       ".xr-section-summary-in:checked + label > span {\n",
       "  display: none;\n",
       "}\n",
       "\n",
       ".xr-section-summary,\n",
       ".xr-section-inline-details {\n",
       "  padding-top: 4px;\n",
       "  padding-bottom: 4px;\n",
       "}\n",
       "\n",
       ".xr-section-inline-details {\n",
       "  grid-column: 2 / -1;\n",
       "}\n",
       "\n",
       ".xr-section-details {\n",
       "  display: none;\n",
       "  grid-column: 1 / -1;\n",
       "  margin-bottom: 5px;\n",
       "}\n",
       "\n",
       ".xr-section-summary-in:checked ~ .xr-section-details {\n",
       "  display: contents;\n",
       "}\n",
       "\n",
       ".xr-array-wrap {\n",
       "  grid-column: 1 / -1;\n",
       "  display: grid;\n",
       "  grid-template-columns: 20px auto;\n",
       "}\n",
       "\n",
       ".xr-array-wrap > label {\n",
       "  grid-column: 1;\n",
       "  vertical-align: top;\n",
       "}\n",
       "\n",
       ".xr-preview {\n",
       "  color: var(--xr-font-color3);\n",
       "}\n",
       "\n",
       ".xr-array-preview,\n",
       ".xr-array-data {\n",
       "  padding: 0 5px !important;\n",
       "  grid-column: 2;\n",
       "}\n",
       "\n",
       ".xr-array-data,\n",
       ".xr-array-in:checked ~ .xr-array-preview {\n",
       "  display: none;\n",
       "}\n",
       "\n",
       ".xr-array-in:checked ~ .xr-array-data,\n",
       ".xr-array-preview {\n",
       "  display: inline-block;\n",
       "}\n",
       "\n",
       ".xr-dim-list {\n",
       "  display: inline-block !important;\n",
       "  list-style: none;\n",
       "  padding: 0 !important;\n",
       "  margin: 0;\n",
       "}\n",
       "\n",
       ".xr-dim-list li {\n",
       "  display: inline-block;\n",
       "  padding: 0;\n",
       "  margin: 0;\n",
       "}\n",
       "\n",
       ".xr-dim-list:before {\n",
       "  content: \"(\";\n",
       "}\n",
       "\n",
       ".xr-dim-list:after {\n",
       "  content: \")\";\n",
       "}\n",
       "\n",
       ".xr-dim-list li:not(:last-child):after {\n",
       "  content: \",\";\n",
       "  padding-right: 5px;\n",
       "}\n",
       "\n",
       ".xr-has-index {\n",
       "  font-weight: bold;\n",
       "}\n",
       "\n",
       ".xr-var-list,\n",
       ".xr-var-item {\n",
       "  display: contents;\n",
       "}\n",
       "\n",
       ".xr-var-item > div,\n",
       ".xr-var-item label,\n",
       ".xr-var-item > .xr-var-name span {\n",
       "  background-color: var(--xr-background-color-row-even);\n",
       "  margin-bottom: 0;\n",
       "}\n",
       "\n",
       ".xr-var-item > .xr-var-name:hover span {\n",
       "  padding-right: 5px;\n",
       "}\n",
       "\n",
       ".xr-var-list > li:nth-child(odd) > div,\n",
       ".xr-var-list > li:nth-child(odd) > label,\n",
       ".xr-var-list > li:nth-child(odd) > .xr-var-name span {\n",
       "  background-color: var(--xr-background-color-row-odd);\n",
       "}\n",
       "\n",
       ".xr-var-name {\n",
       "  grid-column: 1;\n",
       "}\n",
       "\n",
       ".xr-var-dims {\n",
       "  grid-column: 2;\n",
       "}\n",
       "\n",
       ".xr-var-dtype {\n",
       "  grid-column: 3;\n",
       "  text-align: right;\n",
       "  color: var(--xr-font-color2);\n",
       "}\n",
       "\n",
       ".xr-var-preview {\n",
       "  grid-column: 4;\n",
       "}\n",
       "\n",
       ".xr-index-preview {\n",
       "  grid-column: 2 / 5;\n",
       "  color: var(--xr-font-color2);\n",
       "}\n",
       "\n",
       ".xr-var-name,\n",
       ".xr-var-dims,\n",
       ".xr-var-dtype,\n",
       ".xr-preview,\n",
       ".xr-attrs dt {\n",
       "  white-space: nowrap;\n",
       "  overflow: hidden;\n",
       "  text-overflow: ellipsis;\n",
       "  padding-right: 10px;\n",
       "}\n",
       "\n",
       ".xr-var-name:hover,\n",
       ".xr-var-dims:hover,\n",
       ".xr-var-dtype:hover,\n",
       ".xr-attrs dt:hover {\n",
       "  overflow: visible;\n",
       "  width: auto;\n",
       "  z-index: 1;\n",
       "}\n",
       "\n",
       ".xr-var-attrs,\n",
       ".xr-var-data,\n",
       ".xr-index-data {\n",
       "  display: none;\n",
       "  background-color: var(--xr-background-color) !important;\n",
       "  padding-bottom: 5px !important;\n",
       "}\n",
       "\n",
       ".xr-var-attrs-in:checked ~ .xr-var-attrs,\n",
       ".xr-var-data-in:checked ~ .xr-var-data,\n",
       ".xr-index-data-in:checked ~ .xr-index-data {\n",
       "  display: block;\n",
       "}\n",
       "\n",
       ".xr-var-data > table {\n",
       "  float: right;\n",
       "}\n",
       "\n",
       ".xr-var-name span,\n",
       ".xr-var-data,\n",
       ".xr-index-name div,\n",
       ".xr-index-data,\n",
       ".xr-attrs {\n",
       "  padding-left: 25px !important;\n",
       "}\n",
       "\n",
       ".xr-attrs,\n",
       ".xr-var-attrs,\n",
       ".xr-var-data,\n",
       ".xr-index-data {\n",
       "  grid-column: 1 / -1;\n",
       "}\n",
       "\n",
       "dl.xr-attrs {\n",
       "  padding: 0;\n",
       "  margin: 0;\n",
       "  display: grid;\n",
       "  grid-template-columns: 125px auto;\n",
       "}\n",
       "\n",
       ".xr-attrs dt,\n",
       ".xr-attrs dd {\n",
       "  padding: 0;\n",
       "  margin: 0;\n",
       "  float: left;\n",
       "  padding-right: 10px;\n",
       "  width: auto;\n",
       "}\n",
       "\n",
       ".xr-attrs dt {\n",
       "  font-weight: normal;\n",
       "  grid-column: 1;\n",
       "}\n",
       "\n",
       ".xr-attrs dt:hover span {\n",
       "  display: inline-block;\n",
       "  background: var(--xr-background-color);\n",
       "  padding-right: 10px;\n",
       "}\n",
       "\n",
       ".xr-attrs dd {\n",
       "  grid-column: 2;\n",
       "  white-space: pre-wrap;\n",
       "  word-break: break-all;\n",
       "}\n",
       "\n",
       ".xr-icon-database,\n",
       ".xr-icon-file-text2,\n",
       ".xr-no-icon {\n",
       "  display: inline-block;\n",
       "  vertical-align: middle;\n",
       "  width: 1em;\n",
       "  height: 1.5em !important;\n",
       "  stroke-width: 0;\n",
       "  stroke: currentColor;\n",
       "  fill: currentColor;\n",
       "}\n",
       "</style><pre class='xr-text-repr-fallback'>&lt;xarray.DataArray &#x27;pareto_shape&#x27; (obs_dim_0: 150)&gt; Size: 1kB\n",
       "array([ 0.45379729,  0.37233425,  0.52653922,  0.46640123,  0.40246029,\n",
       "        0.4203638 ,  0.64314149,  0.44554951,  0.59463898,  0.26484869,\n",
       "        0.4327421 ,  0.34549131,  0.26884853,  0.6628899 ,  0.81766933,\n",
       "        0.79459133,  0.52501017,  0.40724001,  0.49998528,  0.52902685,\n",
       "        0.36967592,  0.46063379,  0.70252242,  0.41397223,  0.64085594,\n",
       "        0.31509106,  0.35677815,  0.34308446,  0.4253508 ,  0.34273423,\n",
       "        0.27543878,  0.53339591,  0.73291334,  0.48259815,  0.33720843,\n",
       "        0.53865181,  0.8497035 ,  0.4521171 ,  0.63007412,  0.43566205,\n",
       "        0.43821248,  0.85149048,  0.66089547,  0.63757996,  0.4216402 ,\n",
       "        0.47444896,  0.47682664,  0.48917255,  0.4094426 ,  0.43916586,\n",
       "        0.66316424,  0.29323473,  0.1546057 ,  0.27435154,  0.25000151,\n",
       "        0.30476364,  0.25645555,  0.59507946,  0.27307982,  0.41120977,\n",
       "        0.68220601,  0.16299854,  0.96627258,  0.23320948,  0.3998174 ,\n",
       "        0.73708024,  0.19252998,  0.54062633,  0.47498   ,  0.40413666,\n",
       "        0.3073182 ,  0.32918123,  0.23506209,  0.34881467,  0.2876407 ,\n",
       "        0.46577576,  0.2279616 ,  0.23350906, -0.0111541 ,  0.41566195,\n",
       "        0.37176899,  0.59406517,  0.38311609,  0.43084652,  0.26688493,\n",
       "        0.17644596,  0.23436579,  0.31822783,  0.34241764,  0.25874983,\n",
       "        0.28927229,  0.28279722,  0.35022394,  0.41306501,  0.21116974,\n",
       "        0.46150291,  0.21771485,  0.20913733,  0.75896829,  0.0980886 ,\n",
       "        0.65633223,  0.17443865,  0.26435203,  0.03923573,  0.35067068,\n",
       "        0.59343366,  0.61269036,  0.48459815,  0.32738943,  0.60904949,\n",
       "        0.15870907,  0.16732555,  0.31558366,  0.26453089,  0.44222636,\n",
       "        0.52210957,  0.02485778,  0.60186177,  0.75356258,  0.3754309 ,\n",
       "        0.33890243,  0.22097138,  0.62224636,  0.22707934,  0.27457521,\n",
       "        0.31267019,  0.23278125,  0.12766188,  0.2053387 ,  0.39934611,\n",
       "        0.4120374 ,  0.49520103,  0.30553088,  0.09330781,  0.19476589,\n",
       "        0.65440445,  0.67119484,  0.13597822,  0.06901256,  0.31356268,\n",
       "        0.44907311,  0.45784796,  0.17443865,  0.37990917,  0.60351601,\n",
       "        0.32918073,  0.39513731,  0.17076688,  0.60647857,  0.26479587])\n",
       "Coordinates:\n",
       "  * obs_dim_0  (obs_dim_0) int64 1kB 0 1 2 3 4 5 6 ... 144 145 146 147 148 149</pre><div class='xr-wrap' style='display:none'><div class='xr-header'><div class='xr-obj-type'>xarray.DataArray</div><div class='xr-array-name'>'pareto_shape'</div><ul class='xr-dim-list'><li><span class='xr-has-index'>obs_dim_0</span>: 150</li></ul></div><ul class='xr-sections'><li class='xr-section-item'><div class='xr-array-wrap'><input id='section-29a5efb3-7254-4355-867c-9f2be3a38c5e' class='xr-array-in' type='checkbox' checked><label for='section-29a5efb3-7254-4355-867c-9f2be3a38c5e' title='Show/hide data repr'><svg class='icon xr-icon-database'><use xlink:href='#icon-database'></use></svg></label><div class='xr-array-preview xr-preview'><span>0.4538 0.3723 0.5265 0.4664 0.4025 ... 0.3951 0.1708 0.6065 0.2648</span></div><div class='xr-array-data'><pre>array([ 0.45379729,  0.37233425,  0.52653922,  0.46640123,  0.40246029,\n",
       "        0.4203638 ,  0.64314149,  0.44554951,  0.59463898,  0.26484869,\n",
       "        0.4327421 ,  0.34549131,  0.26884853,  0.6628899 ,  0.81766933,\n",
       "        0.79459133,  0.52501017,  0.40724001,  0.49998528,  0.52902685,\n",
       "        0.36967592,  0.46063379,  0.70252242,  0.41397223,  0.64085594,\n",
       "        0.31509106,  0.35677815,  0.34308446,  0.4253508 ,  0.34273423,\n",
       "        0.27543878,  0.53339591,  0.73291334,  0.48259815,  0.33720843,\n",
       "        0.53865181,  0.8497035 ,  0.4521171 ,  0.63007412,  0.43566205,\n",
       "        0.43821248,  0.85149048,  0.66089547,  0.63757996,  0.4216402 ,\n",
       "        0.47444896,  0.47682664,  0.48917255,  0.4094426 ,  0.43916586,\n",
       "        0.66316424,  0.29323473,  0.1546057 ,  0.27435154,  0.25000151,\n",
       "        0.30476364,  0.25645555,  0.59507946,  0.27307982,  0.41120977,\n",
       "        0.68220601,  0.16299854,  0.96627258,  0.23320948,  0.3998174 ,\n",
       "        0.73708024,  0.19252998,  0.54062633,  0.47498   ,  0.40413666,\n",
       "        0.3073182 ,  0.32918123,  0.23506209,  0.34881467,  0.2876407 ,\n",
       "        0.46577576,  0.2279616 ,  0.23350906, -0.0111541 ,  0.41566195,\n",
       "        0.37176899,  0.59406517,  0.38311609,  0.43084652,  0.26688493,\n",
       "        0.17644596,  0.23436579,  0.31822783,  0.34241764,  0.25874983,\n",
       "        0.28927229,  0.28279722,  0.35022394,  0.41306501,  0.21116974,\n",
       "        0.46150291,  0.21771485,  0.20913733,  0.75896829,  0.0980886 ,\n",
       "        0.65633223,  0.17443865,  0.26435203,  0.03923573,  0.35067068,\n",
       "        0.59343366,  0.61269036,  0.48459815,  0.32738943,  0.60904949,\n",
       "        0.15870907,  0.16732555,  0.31558366,  0.26453089,  0.44222636,\n",
       "        0.52210957,  0.02485778,  0.60186177,  0.75356258,  0.3754309 ,\n",
       "        0.33890243,  0.22097138,  0.62224636,  0.22707934,  0.27457521,\n",
       "        0.31267019,  0.23278125,  0.12766188,  0.2053387 ,  0.39934611,\n",
       "        0.4120374 ,  0.49520103,  0.30553088,  0.09330781,  0.19476589,\n",
       "        0.65440445,  0.67119484,  0.13597822,  0.06901256,  0.31356268,\n",
       "        0.44907311,  0.45784796,  0.17443865,  0.37990917,  0.60351601,\n",
       "        0.32918073,  0.39513731,  0.17076688,  0.60647857,  0.26479587])</pre></div></div></li><li class='xr-section-item'><input id='section-69f32423-723c-473d-9ea5-6c3e204f8477' class='xr-section-summary-in' type='checkbox'  checked><label for='section-69f32423-723c-473d-9ea5-6c3e204f8477' class='xr-section-summary' >Coordinates: <span>(1)</span></label><div class='xr-section-inline-details'></div><div class='xr-section-details'><ul class='xr-var-list'><li class='xr-var-item'><div class='xr-var-name'><span class='xr-has-index'>obs_dim_0</span></div><div class='xr-var-dims'>(obs_dim_0)</div><div class='xr-var-dtype'>int64</div><div class='xr-var-preview xr-preview'>0 1 2 3 4 5 ... 145 146 147 148 149</div><input id='attrs-d0c67929-34bf-4a57-8f08-c6255eb99649' class='xr-var-attrs-in' type='checkbox' disabled><label for='attrs-d0c67929-34bf-4a57-8f08-c6255eb99649' title='Show/Hide attributes'><svg class='icon xr-icon-file-text2'><use xlink:href='#icon-file-text2'></use></svg></label><input id='data-0bcd517b-fdfd-48f0-8969-cddcfd8fc07b' class='xr-var-data-in' type='checkbox'><label for='data-0bcd517b-fdfd-48f0-8969-cddcfd8fc07b' title='Show/Hide data repr'><svg class='icon xr-icon-database'><use xlink:href='#icon-database'></use></svg></label><div class='xr-var-attrs'><dl class='xr-attrs'></dl></div><div class='xr-var-data'><pre>array([  0,   1,   2,   3,   4,   5,   6,   7,   8,   9,  10,  11,  12,  13,\n",
       "        14,  15,  16,  17,  18,  19,  20,  21,  22,  23,  24,  25,  26,  27,\n",
       "        28,  29,  30,  31,  32,  33,  34,  35,  36,  37,  38,  39,  40,  41,\n",
       "        42,  43,  44,  45,  46,  47,  48,  49,  50,  51,  52,  53,  54,  55,\n",
       "        56,  57,  58,  59,  60,  61,  62,  63,  64,  65,  66,  67,  68,  69,\n",
       "        70,  71,  72,  73,  74,  75,  76,  77,  78,  79,  80,  81,  82,  83,\n",
       "        84,  85,  86,  87,  88,  89,  90,  91,  92,  93,  94,  95,  96,  97,\n",
       "        98,  99, 100, 101, 102, 103, 104, 105, 106, 107, 108, 109, 110, 111,\n",
       "       112, 113, 114, 115, 116, 117, 118, 119, 120, 121, 122, 123, 124, 125,\n",
       "       126, 127, 128, 129, 130, 131, 132, 133, 134, 135, 136, 137, 138, 139,\n",
       "       140, 141, 142, 143, 144, 145, 146, 147, 148, 149])</pre></div></li></ul></div></li><li class='xr-section-item'><input id='section-3f498129-a2e6-40a3-840a-b8ea30e383fc' class='xr-section-summary-in' type='checkbox'  ><label for='section-3f498129-a2e6-40a3-840a-b8ea30e383fc' class='xr-section-summary' >Indexes: <span>(1)</span></label><div class='xr-section-inline-details'></div><div class='xr-section-details'><ul class='xr-var-list'><li class='xr-var-item'><div class='xr-index-name'><div>obs_dim_0</div></div><div class='xr-index-preview'>PandasIndex</div><input type='checkbox' disabled/><label></label><input id='index-9374228b-8f0c-40eb-a321-c538cfee5009' class='xr-index-data-in' type='checkbox'/><label for='index-9374228b-8f0c-40eb-a321-c538cfee5009' title='Show/Hide index repr'><svg class='icon xr-icon-database'><use xlink:href='#icon-database'></use></svg></label><div class='xr-index-data'><pre>PandasIndex(Index([  0,   1,   2,   3,   4,   5,   6,   7,   8,   9,\n",
       "       ...\n",
       "       140, 141, 142, 143, 144, 145, 146, 147, 148, 149],\n",
       "      dtype=&#x27;int64&#x27;, name=&#x27;obs_dim_0&#x27;, length=150))</pre></div></li></ul></div></li><li class='xr-section-item'><input id='section-068ee884-bb6a-4a58-bd0d-b2efae1ffd40' class='xr-section-summary-in' type='checkbox' disabled ><label for='section-068ee884-bb6a-4a58-bd0d-b2efae1ffd40' class='xr-section-summary'  title='Expand/collapse section'>Attributes: <span>(0)</span></label><div class='xr-section-inline-details'></div><div class='xr-section-details'><dl class='xr-attrs'></dl></div></li></ul></div></div>"
      ],
      "text/plain": [
       "<xarray.DataArray 'pareto_shape' (obs_dim_0: 150)> Size: 1kB\n",
       "array([ 0.45379729,  0.37233425,  0.52653922,  0.46640123,  0.40246029,\n",
       "        0.4203638 ,  0.64314149,  0.44554951,  0.59463898,  0.26484869,\n",
       "        0.4327421 ,  0.34549131,  0.26884853,  0.6628899 ,  0.81766933,\n",
       "        0.79459133,  0.52501017,  0.40724001,  0.49998528,  0.52902685,\n",
       "        0.36967592,  0.46063379,  0.70252242,  0.41397223,  0.64085594,\n",
       "        0.31509106,  0.35677815,  0.34308446,  0.4253508 ,  0.34273423,\n",
       "        0.27543878,  0.53339591,  0.73291334,  0.48259815,  0.33720843,\n",
       "        0.53865181,  0.8497035 ,  0.4521171 ,  0.63007412,  0.43566205,\n",
       "        0.43821248,  0.85149048,  0.66089547,  0.63757996,  0.4216402 ,\n",
       "        0.47444896,  0.47682664,  0.48917255,  0.4094426 ,  0.43916586,\n",
       "        0.66316424,  0.29323473,  0.1546057 ,  0.27435154,  0.25000151,\n",
       "        0.30476364,  0.25645555,  0.59507946,  0.27307982,  0.41120977,\n",
       "        0.68220601,  0.16299854,  0.96627258,  0.23320948,  0.3998174 ,\n",
       "        0.73708024,  0.19252998,  0.54062633,  0.47498   ,  0.40413666,\n",
       "        0.3073182 ,  0.32918123,  0.23506209,  0.34881467,  0.2876407 ,\n",
       "        0.46577576,  0.2279616 ,  0.23350906, -0.0111541 ,  0.41566195,\n",
       "        0.37176899,  0.59406517,  0.38311609,  0.43084652,  0.26688493,\n",
       "        0.17644596,  0.23436579,  0.31822783,  0.34241764,  0.25874983,\n",
       "        0.28927229,  0.28279722,  0.35022394,  0.41306501,  0.21116974,\n",
       "        0.46150291,  0.21771485,  0.20913733,  0.75896829,  0.0980886 ,\n",
       "        0.65633223,  0.17443865,  0.26435203,  0.03923573,  0.35067068,\n",
       "        0.59343366,  0.61269036,  0.48459815,  0.32738943,  0.60904949,\n",
       "        0.15870907,  0.16732555,  0.31558366,  0.26453089,  0.44222636,\n",
       "        0.52210957,  0.02485778,  0.60186177,  0.75356258,  0.3754309 ,\n",
       "        0.33890243,  0.22097138,  0.62224636,  0.22707934,  0.27457521,\n",
       "        0.31267019,  0.23278125,  0.12766188,  0.2053387 ,  0.39934611,\n",
       "        0.4120374 ,  0.49520103,  0.30553088,  0.09330781,  0.19476589,\n",
       "        0.65440445,  0.67119484,  0.13597822,  0.06901256,  0.31356268,\n",
       "        0.44907311,  0.45784796,  0.17443865,  0.37990917,  0.60351601,\n",
       "        0.32918073,  0.39513731,  0.17076688,  0.60647857,  0.26479587])\n",
       "Coordinates:\n",
       "  * obs_dim_0  (obs_dim_0) int64 1kB 0 1 2 3 4 5 6 ... 144 145 146 147 148 149"
      ]
     },
     "execution_count": 37,
     "metadata": {},
     "output_type": "execute_result"
    }
   ],
   "source": [
    "loo_full.pareto_k"
   ]
  },
  {
   "cell_type": "code",
   "execution_count": 39,
   "id": "f6e09ac4",
   "metadata": {},
   "outputs": [
    {
     "name": "stdout",
     "output_type": "stream",
     "text": [
      "<xarray.DataArray 'pareto_shape' ()> Size: 8B\n",
      "array(10)\n",
      "[ 14  15  22  32  36  41  62  65  98 118]\n"
     ]
    }
   ],
   "source": [
    "problematic_points = loo_full.pareto_k > 0.7\n",
    "print(problematic_points.sum())\n",
    "print(np.where(problematic_points)[0])\n"
   ]
  },
  {
   "cell_type": "code",
   "execution_count": 41,
   "id": "c1b05eb2",
   "metadata": {},
   "outputs": [
    {
     "name": "stderr",
     "output_type": "stream",
     "text": [
      "Sampling: [obs]\n"
     ]
    },
    {
     "data": {
      "application/vnd.jupyter.widget-view+json": {
       "model_id": "4310e8ea19ff4e4da98b61294b92838e",
       "version_major": 2,
       "version_minor": 0
      },
      "text/plain": [
       "Output()"
      ]
     },
     "metadata": {},
     "output_type": "display_data"
    },
    {
     "data": {
      "text/html": [
       "<pre style=\"white-space:pre;overflow-x:auto;line-height:normal;font-family:Menlo,'DejaVu Sans Mono',consolas,'Courier New',monospace\"></pre>\n"
      ],
      "text/plain": []
     },
     "metadata": {},
     "output_type": "display_data"
    },
    {
     "data": {
      "text/plain": [
       "<Axes: xlabel='obs'>"
      ]
     },
     "execution_count": 41,
     "metadata": {},
     "output_type": "execute_result"
    },
    {
     "data": {
      "image/png": "[encoded data removed]",
      "text/plain": [
       "<Figure size 640x480 with 1 Axes>"
      ]
     },
     "metadata": {},
     "output_type": "display_data"
    }
   ],
   "source": [
    "with iris_model:\n",
    "    ppc = pm.sample_posterior_predictive(idata)\n",
    "\n",
    "az.plot_ppc(ppc, data_pairs={\"obs\": \"obs\"})\n",
    "\n"
   ]
  },
  {
   "cell_type": "code",
   "execution_count": null,
   "id": "115c79d9",
   "metadata": {},
   "outputs": [],
   "source": []
  }
 ],
 "metadata": {
  "kernelspec": {
   "display_name": "multinom",
   "language": "python",
   "name": "python3"
  },
  "language_info": {
   "codemirror_mode": {
    "name": "ipython",
    "version": 3
   },
   "file_extension": ".py",
   "mimetype": "text/x-python",
   "name": "python",
   "nbconvert_exporter": "python",
   "pygments_lexer": "ipython3",
   "version": "3.12.10"
  }
 },
 "nbformat": 4,
 "nbformat_minor": 5
}
