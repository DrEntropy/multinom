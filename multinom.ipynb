{
 "cells": [
  {
   "cell_type": "code",
   "execution_count": 1,
   "id": "0b58f6f2",
   "metadata": {},
   "outputs": [],
   "source": [
    "import sklearn\n",
    "import pymc as pm\n",
    "import arviz as az"
   ]
  },
  {
   "cell_type": "code",
   "execution_count": 2,
   "id": "17e793cb",
   "metadata": {},
   "outputs": [],
   "source": [
    "import sklearn.datasets\n",
    "import pandas as pd\n",
    "\n",
    "\n",
    "irisX, cat = sklearn.datasets.load_iris(return_X_y = True,as_frame=True)"
   ]
  },
  {
   "cell_type": "code",
   "execution_count": null,
   "id": "7a2ccec3",
   "metadata": {},
   "outputs": [
    {
     "data": {
      "application/vnd.microsoft.datawrangler.viewer.v0+json": {
       "columns": [
        {
         "name": "index",
         "rawType": "int64",
         "type": "integer"
        },
        {
         "name": "sepal length (cm)",
         "rawType": "float64",
         "type": "float"
        },
        {
         "name": "sepal width (cm)",
         "rawType": "float64",
         "type": "float"
        },
        {
         "name": "petal length (cm)",
         "rawType": "float64",
         "type": "float"
        },
        {
         "name": "petal width (cm)",
         "rawType": "float64",
         "type": "float"
        }
       ],
       "conversionMethod": "pd.DataFrame",
       "ref": "ac68e208-2612-46f0-bad5-72ec605819ca",
       "rows": [
        [
         "0",
         "5.1",
         "3.5",
         "1.4",
         "0.2"
        ],
        [
         "1",
         "4.9",
         "3.0",
         "1.4",
         "0.2"
        ],
        [
         "2",
         "4.7",
         "3.2",
         "1.3",
         "0.2"
        ],
        [
         "3",
         "4.6",
         "3.1",
         "1.5",
         "0.2"
        ],
        [
         "4",
         "5.0",
         "3.6",
         "1.4",
         "0.2"
        ],
        [
         "5",
         "5.4",
         "3.9",
         "1.7",
         "0.4"
        ],
        [
         "6",
         "4.6",
         "3.4",
         "1.4",
         "0.3"
        ],
        [
         "7",
         "5.0",
         "3.4",
         "1.5",
         "0.2"
        ],
        [
         "8",
         "4.4",
         "2.9",
         "1.4",
         "0.2"
        ],
        [
         "9",
         "4.9",
         "3.1",
         "1.5",
         "0.1"
        ],
        [
         "10",
         "5.4",
         "3.7",
         "1.5",
         "0.2"
        ],
        [
         "11",
         "4.8",
         "3.4",
         "1.6",
         "0.2"
        ],
        [
         "12",
         "4.8",
         "3.0",
         "1.4",
         "0.1"
        ],
        [
         "13",
         "4.3",
         "3.0",
         "1.1",
         "0.1"
        ],
        [
         "14",
         "5.8",
         "4.0",
         "1.2",
         "0.2"
        ],
        [
         "15",
         "5.7",
         "4.4",
         "1.5",
         "0.4"
        ],
        [
         "16",
         "5.4",
         "3.9",
         "1.3",
         "0.4"
        ],
        [
         "17",
         "5.1",
         "3.5",
         "1.4",
         "0.3"
        ],
        [
         "18",
         "5.7",
         "3.8",
         "1.7",
         "0.3"
        ],
        [
         "19",
         "5.1",
         "3.8",
         "1.5",
         "0.3"
        ],
        [
         "20",
         "5.4",
         "3.4",
         "1.7",
         "0.2"
        ],
        [
         "21",
         "5.1",
         "3.7",
         "1.5",
         "0.4"
        ],
        [
         "22",
         "4.6",
         "3.6",
         "1.0",
         "0.2"
        ],
        [
         "23",
         "5.1",
         "3.3",
         "1.7",
         "0.5"
        ],
        [
         "24",
         "4.8",
         "3.4",
         "1.9",
         "0.2"
        ],
        [
         "25",
         "5.0",
         "3.0",
         "1.6",
         "0.2"
        ],
        [
         "26",
         "5.0",
         "3.4",
         "1.6",
         "0.4"
        ],
        [
         "27",
         "5.2",
         "3.5",
         "1.5",
         "0.2"
        ],
        [
         "28",
         "5.2",
         "3.4",
         "1.4",
         "0.2"
        ],
        [
         "29",
         "4.7",
         "3.2",
         "1.6",
         "0.2"
        ],
        [
         "30",
         "4.8",
         "3.1",
         "1.6",
         "0.2"
        ],
        [
         "31",
         "5.4",
         "3.4",
         "1.5",
         "0.4"
        ],
        [
         "32",
         "5.2",
         "4.1",
         "1.5",
         "0.1"
        ],
        [
         "33",
         "5.5",
         "4.2",
         "1.4",
         "0.2"
        ],
        [
         "34",
         "4.9",
         "3.1",
         "1.5",
         "0.2"
        ],
        [
         "35",
         "5.0",
         "3.2",
         "1.2",
         "0.2"
        ],
        [
         "36",
         "5.5",
         "3.5",
         "1.3",
         "0.2"
        ],
        [
         "37",
         "4.9",
         "3.6",
         "1.4",
         "0.1"
        ],
        [
         "38",
         "4.4",
         "3.0",
         "1.3",
         "0.2"
        ],
        [
         "39",
         "5.1",
         "3.4",
         "1.5",
         "0.2"
        ],
        [
         "40",
         "5.0",
         "3.5",
         "1.3",
         "0.3"
        ],
        [
         "41",
         "4.5",
         "2.3",
         "1.3",
         "0.3"
        ],
        [
         "42",
         "4.4",
         "3.2",
         "1.3",
         "0.2"
        ],
        [
         "43",
         "5.0",
         "3.5",
         "1.6",
         "0.6"
        ],
        [
         "44",
         "5.1",
         "3.8",
         "1.9",
         "0.4"
        ],
        [
         "45",
         "4.8",
         "3.0",
         "1.4",
         "0.3"
        ],
        [
         "46",
         "5.1",
         "3.8",
         "1.6",
         "0.2"
        ],
        [
         "47",
         "4.6",
         "3.2",
         "1.4",
         "0.2"
        ],
        [
         "48",
         "5.3",
         "3.7",
         "1.5",
         "0.2"
        ],
        [
         "49",
         "5.0",
         "3.3",
         "1.4",
         "0.2"
        ]
       ],
       "shape": {
        "columns": 4,
        "rows": 150
       }
      },
      "text/html": [
       "<div>\n",
       "<style scoped>\n",
       "    .dataframe tbody tr th:only-of-type {\n",
       "        vertical-align: middle;\n",
       "    }\n",
       "\n",
       "    .dataframe tbody tr th {\n",
       "        vertical-align: top;\n",
       "    }\n",
       "\n",
       "    .dataframe thead th {\n",
       "        text-align: right;\n",
       "    }\n",
       "</style>\n",
       "<table border=\"1\" class=\"dataframe\">\n",
       "  <thead>\n",
       "    <tr style=\"text-align: right;\">\n",
       "      <th></th>\n",
       "      <th>sepal length (cm)</th>\n",
       "      <th>sepal width (cm)</th>\n",
       "      <th>petal length (cm)</th>\n",
       "      <th>petal width (cm)</th>\n",
       "    </tr>\n",
       "  </thead>\n",
       "  <tbody>\n",
       "    <tr>\n",
       "      <th>0</th>\n",
       "      <td>5.1</td>\n",
       "      <td>3.5</td>\n",
       "      <td>1.4</td>\n",
       "      <td>0.2</td>\n",
       "    </tr>\n",
       "    <tr>\n",
       "      <th>1</th>\n",
       "      <td>4.9</td>\n",
       "      <td>3.0</td>\n",
       "      <td>1.4</td>\n",
       "      <td>0.2</td>\n",
       "    </tr>\n",
       "    <tr>\n",
       "      <th>2</th>\n",
       "      <td>4.7</td>\n",
       "      <td>3.2</td>\n",
       "      <td>1.3</td>\n",
       "      <td>0.2</td>\n",
       "    </tr>\n",
       "    <tr>\n",
       "      <th>3</th>\n",
       "      <td>4.6</td>\n",
       "      <td>3.1</td>\n",
       "      <td>1.5</td>\n",
       "      <td>0.2</td>\n",
       "    </tr>\n",
       "    <tr>\n",
       "      <th>4</th>\n",
       "      <td>5.0</td>\n",
       "      <td>3.6</td>\n",
       "      <td>1.4</td>\n",
       "      <td>0.2</td>\n",
       "    </tr>\n",
       "    <tr>\n",
       "      <th>...</th>\n",
       "      <td>...</td>\n",
       "      <td>...</td>\n",
       "      <td>...</td>\n",
       "      <td>...</td>\n",
       "    </tr>\n",
       "    <tr>\n",
       "      <th>145</th>\n",
       "      <td>6.7</td>\n",
       "      <td>3.0</td>\n",
       "      <td>5.2</td>\n",
       "      <td>2.3</td>\n",
       "    </tr>\n",
       "    <tr>\n",
       "      <th>146</th>\n",
       "      <td>6.3</td>\n",
       "      <td>2.5</td>\n",
       "      <td>5.0</td>\n",
       "      <td>1.9</td>\n",
       "    </tr>\n",
       "    <tr>\n",
       "      <th>147</th>\n",
       "      <td>6.5</td>\n",
       "      <td>3.0</td>\n",
       "      <td>5.2</td>\n",
       "      <td>2.0</td>\n",
       "    </tr>\n",
       "    <tr>\n",
       "      <th>148</th>\n",
       "      <td>6.2</td>\n",
       "      <td>3.4</td>\n",
       "      <td>5.4</td>\n",
       "      <td>2.3</td>\n",
       "    </tr>\n",
       "    <tr>\n",
       "      <th>149</th>\n",
       "      <td>5.9</td>\n",
       "      <td>3.0</td>\n",
       "      <td>5.1</td>\n",
       "      <td>1.8</td>\n",
       "    </tr>\n",
       "  </tbody>\n",
       "</table>\n",
       "<p>150 rows × 4 columns</p>\n",
       "</div>"
      ],
      "text/plain": [
       "     sepal length (cm)  sepal width (cm)  petal length (cm)  petal width (cm)\n",
       "0                  5.1               3.5                1.4               0.2\n",
       "1                  4.9               3.0                1.4               0.2\n",
       "2                  4.7               3.2                1.3               0.2\n",
       "3                  4.6               3.1                1.5               0.2\n",
       "4                  5.0               3.6                1.4               0.2\n",
       "..                 ...               ...                ...               ...\n",
       "145                6.7               3.0                5.2               2.3\n",
       "146                6.3               2.5                5.0               1.9\n",
       "147                6.5               3.0                5.2               2.0\n",
       "148                6.2               3.4                5.4               2.3\n",
       "149                5.9               3.0                5.1               1.8\n",
       "\n",
       "[150 rows x 4 columns]"
      ]
     },
     "execution_count": 3,
     "metadata": {},
     "output_type": "execute_result"
    }
   ],
   "source": [
    "irisX"
   ]
  },
  {
   "cell_type": "code",
   "execution_count": 9,
   "id": "982c405c",
   "metadata": {},
   "outputs": [],
   "source": [
    "# center the data\n",
    "irisX = irisX - irisX.mean()"
   ]
  },
  {
   "cell_type": "code",
   "execution_count": null,
   "id": "c2bc6c75",
   "metadata": {},
   "outputs": [
    {
     "data": {
      "text/plain": [
       "'5.21.0'"
      ]
     },
     "execution_count": 3,
     "metadata": {},
     "output_type": "execute_result"
    }
   ],
   "source": [
    "pm.__version__"
   ]
  },
  {
   "cell_type": "code",
   "execution_count": 4,
   "id": "9d3025c0",
   "metadata": {},
   "outputs": [
    {
     "data": {
      "text/plain": [
       "array([0, 1, 2])"
      ]
     },
     "execution_count": 4,
     "metadata": {},
     "output_type": "execute_result"
    }
   ],
   "source": [
    "cat.unique()"
   ]
  },
  {
   "cell_type": "code",
   "execution_count": 11,
   "id": "8062f260",
   "metadata": {},
   "outputs": [
    {
     "name": "stderr",
     "output_type": "stream",
     "text": [
      "Initializing NUTS using jitter+adapt_diag...\n",
      "Multiprocess sampling (4 chains in 4 jobs)\n",
      "NUTS: [alfa, beta]\n"
     ]
    },
    {
     "data": {
      "application/vnd.jupyter.widget-view+json": {
       "model_id": "581f3dd41a8142728ac8a5fecb7525b2",
       "version_major": 2,
       "version_minor": 0
      },
      "text/plain": [
       "Output()"
      ]
     },
     "metadata": {},
     "output_type": "display_data"
    },
    {
     "data": {
      "text/html": [
       "<pre style=\"white-space:pre;overflow-x:auto;line-height:normal;font-family:Menlo,'DejaVu Sans Mono',consolas,'Courier New',monospace\"></pre>\n"
      ],
      "text/plain": []
     },
     "metadata": {},
     "output_type": "display_data"
    },
    {
     "name": "stderr",
     "output_type": "stream",
     "text": [
      "Sampling 4 chains for 1_000 tune and 1_000 draw iterations (4_000 + 4_000 draws total) took 8 seconds.\n",
      "There were 3 divergences after tuning. Increase `target_accept` or reparameterize.\n"
     ]
    }
   ],
   "source": [
    "nclass = len(cat.unique())\n",
    "nparam = 4\n",
    "\n",
    "\n",
    "with pm.Model() as iris_model:\n",
    "    X_data = pm.Data('X_data', irisX)\n",
    "    y_obs_data = pm.Data('y_obs_data', cat)\n",
    "    alfa = pm.Normal('alfa', mu=0, sigma=10, shape=nclass)\n",
    "    beta = pm.Normal('beta', mu=0, sigma=10, shape=(nparam, nclass))\n",
    "    mu = pm.math.dot(X_data, beta) + alfa\n",
    "    yl = pm.Categorical('obs', logit_p=mu, observed=y_obs_data)\n",
    " \n",
    "\n",
    "with iris_model:\n",
    "    idata = pm.sample()\n",
    "\n",
    " \n"
   ]
  },
  {
   "cell_type": "code",
   "execution_count": 12,
   "id": "8a5b7655",
   "metadata": {},
   "outputs": [
    {
     "data": {
      "application/vnd.microsoft.datawrangler.viewer.v0+json": {
       "columns": [
        {
         "name": "index",
         "rawType": "object",
         "type": "string"
        },
        {
         "name": "mean",
         "rawType": "float64",
         "type": "float"
        },
        {
         "name": "sd",
         "rawType": "float64",
         "type": "float"
        },
        {
         "name": "hdi_2.5%",
         "rawType": "float64",
         "type": "float"
        },
        {
         "name": "hdi_97.5%",
         "rawType": "float64",
         "type": "float"
        },
        {
         "name": "mcse_mean",
         "rawType": "float64",
         "type": "float"
        },
        {
         "name": "mcse_sd",
         "rawType": "float64",
         "type": "float"
        },
        {
         "name": "ess_bulk",
         "rawType": "float64",
         "type": "float"
        },
        {
         "name": "ess_tail",
         "rawType": "float64",
         "type": "float"
        },
        {
         "name": "r_hat",
         "rawType": "float64",
         "type": "float"
        }
       ],
       "conversionMethod": "pd.DataFrame",
       "ref": "7e9efc4e-3ab4-4b64-8340-6dd3262b20d2",
       "rows": [
        [
         "alfa[0]",
         "-4.18",
         "7.76",
         "-19.3",
         "11.41",
         "0.15",
         "0.13",
         "2824.86",
         "2635.6",
         "1.0"
        ],
        [
         "alfa[1]",
         "10.48",
         "6.55",
         "-2.18",
         "23.17",
         "0.15",
         "0.1",
         "2037.17",
         "2426.49",
         "1.0"
        ],
        [
         "alfa[2]",
         "-6.52",
         "6.84",
         "-19.86",
         "6.43",
         "0.14",
         "0.11",
         "2330.51",
         "2183.86",
         "1.0"
        ],
        [
         "beta[0, 0]",
         "0.09",
         "8.42",
         "-16.49",
         "16.08",
         "0.16",
         "0.15",
         "2766.49",
         "2536.85",
         "1.0"
        ],
        [
         "beta[0, 1]",
         "1.78",
         "6.63",
         "-11.82",
         "14.98",
         "0.14",
         "0.12",
         "2356.34",
         "2119.28",
         "1.0"
        ],
        [
         "beta[0, 2]",
         "-1.29",
         "6.71",
         "-14.26",
         "12.34",
         "0.14",
         "0.12",
         "2318.47",
         "2235.0",
         "1.0"
        ],
        [
         "beta[1, 0]",
         "6.72",
         "7.92",
         "-9.24",
         "21.79",
         "0.15",
         "0.12",
         "2746.0",
         "2660.66",
         "1.0"
        ],
        [
         "beta[1, 1]",
         "-0.87",
         "6.52",
         "-12.82",
         "12.36",
         "0.14",
         "0.11",
         "2081.73",
         "2069.76",
         "1.0"
        ],
        [
         "beta[1, 2]",
         "-5.54",
         "6.67",
         "-17.95",
         "7.89",
         "0.14",
         "0.12",
         "2119.75",
         "2297.79",
         "1.0"
        ],
        [
         "beta[2, 0]",
         "-11.76",
         "7.44",
         "-26.17",
         "3.26",
         "0.15",
         "0.12",
         "2330.68",
         "2114.6",
         "1.0"
        ],
        [
         "beta[2, 1]",
         "1.17",
         "6.17",
         "-10.84",
         "12.99",
         "0.12",
         "0.11",
         "2576.93",
         "2388.16",
         "1.0"
        ],
        [
         "beta[2, 2]",
         "10.56",
         "6.45",
         "-1.77",
         "23.42",
         "0.13",
         "0.1",
         "2558.45",
         "2361.27",
         "1.0"
        ],
        [
         "beta[3, 0]",
         "-6.33",
         "9.15",
         "-24.91",
         "10.79",
         "0.16",
         "0.14",
         "3289.12",
         "2910.79",
         "1.0"
        ],
        [
         "beta[3, 1]",
         "-3.58",
         "7.07",
         "-17.81",
         "9.87",
         "0.14",
         "0.12",
         "2606.47",
         "2732.23",
         "1.0"
        ],
        [
         "beta[3, 2]",
         "10.11",
         "7.31",
         "-3.64",
         "24.9",
         "0.14",
         "0.11",
         "2609.04",
         "2696.66",
         "1.0"
        ]
       ],
       "shape": {
        "columns": 9,
        "rows": 15
       }
      },
      "text/html": [
       "<div>\n",
       "<style scoped>\n",
       "    .dataframe tbody tr th:only-of-type {\n",
       "        vertical-align: middle;\n",
       "    }\n",
       "\n",
       "    .dataframe tbody tr th {\n",
       "        vertical-align: top;\n",
       "    }\n",
       "\n",
       "    .dataframe thead th {\n",
       "        text-align: right;\n",
       "    }\n",
       "</style>\n",
       "<table border=\"1\" class=\"dataframe\">\n",
       "  <thead>\n",
       "    <tr style=\"text-align: right;\">\n",
       "      <th></th>\n",
       "      <th>mean</th>\n",
       "      <th>sd</th>\n",
       "      <th>hdi_2.5%</th>\n",
       "      <th>hdi_97.5%</th>\n",
       "      <th>mcse_mean</th>\n",
       "      <th>mcse_sd</th>\n",
       "      <th>ess_bulk</th>\n",
       "      <th>ess_tail</th>\n",
       "      <th>r_hat</th>\n",
       "    </tr>\n",
       "  </thead>\n",
       "  <tbody>\n",
       "    <tr>\n",
       "      <th>alfa[0]</th>\n",
       "      <td>-4.18</td>\n",
       "      <td>7.76</td>\n",
       "      <td>-19.30</td>\n",
       "      <td>11.41</td>\n",
       "      <td>0.15</td>\n",
       "      <td>0.13</td>\n",
       "      <td>2824.86</td>\n",
       "      <td>2635.60</td>\n",
       "      <td>1.0</td>\n",
       "    </tr>\n",
       "    <tr>\n",
       "      <th>alfa[1]</th>\n",
       "      <td>10.48</td>\n",
       "      <td>6.55</td>\n",
       "      <td>-2.18</td>\n",
       "      <td>23.17</td>\n",
       "      <td>0.15</td>\n",
       "      <td>0.10</td>\n",
       "      <td>2037.17</td>\n",
       "      <td>2426.49</td>\n",
       "      <td>1.0</td>\n",
       "    </tr>\n",
       "    <tr>\n",
       "      <th>alfa[2]</th>\n",
       "      <td>-6.52</td>\n",
       "      <td>6.84</td>\n",
       "      <td>-19.86</td>\n",
       "      <td>6.43</td>\n",
       "      <td>0.14</td>\n",
       "      <td>0.11</td>\n",
       "      <td>2330.51</td>\n",
       "      <td>2183.86</td>\n",
       "      <td>1.0</td>\n",
       "    </tr>\n",
       "    <tr>\n",
       "      <th>beta[0, 0]</th>\n",
       "      <td>0.09</td>\n",
       "      <td>8.42</td>\n",
       "      <td>-16.49</td>\n",
       "      <td>16.08</td>\n",
       "      <td>0.16</td>\n",
       "      <td>0.15</td>\n",
       "      <td>2766.49</td>\n",
       "      <td>2536.85</td>\n",
       "      <td>1.0</td>\n",
       "    </tr>\n",
       "    <tr>\n",
       "      <th>beta[0, 1]</th>\n",
       "      <td>1.78</td>\n",
       "      <td>6.63</td>\n",
       "      <td>-11.82</td>\n",
       "      <td>14.98</td>\n",
       "      <td>0.14</td>\n",
       "      <td>0.12</td>\n",
       "      <td>2356.34</td>\n",
       "      <td>2119.28</td>\n",
       "      <td>1.0</td>\n",
       "    </tr>\n",
       "    <tr>\n",
       "      <th>beta[0, 2]</th>\n",
       "      <td>-1.29</td>\n",
       "      <td>6.71</td>\n",
       "      <td>-14.26</td>\n",
       "      <td>12.34</td>\n",
       "      <td>0.14</td>\n",
       "      <td>0.12</td>\n",
       "      <td>2318.47</td>\n",
       "      <td>2235.00</td>\n",
       "      <td>1.0</td>\n",
       "    </tr>\n",
       "    <tr>\n",
       "      <th>beta[1, 0]</th>\n",
       "      <td>6.72</td>\n",
       "      <td>7.92</td>\n",
       "      <td>-9.24</td>\n",
       "      <td>21.79</td>\n",
       "      <td>0.15</td>\n",
       "      <td>0.12</td>\n",
       "      <td>2746.00</td>\n",
       "      <td>2660.66</td>\n",
       "      <td>1.0</td>\n",
       "    </tr>\n",
       "    <tr>\n",
       "      <th>beta[1, 1]</th>\n",
       "      <td>-0.87</td>\n",
       "      <td>6.52</td>\n",
       "      <td>-12.82</td>\n",
       "      <td>12.36</td>\n",
       "      <td>0.14</td>\n",
       "      <td>0.11</td>\n",
       "      <td>2081.73</td>\n",
       "      <td>2069.76</td>\n",
       "      <td>1.0</td>\n",
       "    </tr>\n",
       "    <tr>\n",
       "      <th>beta[1, 2]</th>\n",
       "      <td>-5.54</td>\n",
       "      <td>6.67</td>\n",
       "      <td>-17.95</td>\n",
       "      <td>7.89</td>\n",
       "      <td>0.14</td>\n",
       "      <td>0.12</td>\n",
       "      <td>2119.75</td>\n",
       "      <td>2297.79</td>\n",
       "      <td>1.0</td>\n",
       "    </tr>\n",
       "    <tr>\n",
       "      <th>beta[2, 0]</th>\n",
       "      <td>-11.76</td>\n",
       "      <td>7.44</td>\n",
       "      <td>-26.17</td>\n",
       "      <td>3.26</td>\n",
       "      <td>0.15</td>\n",
       "      <td>0.12</td>\n",
       "      <td>2330.68</td>\n",
       "      <td>2114.60</td>\n",
       "      <td>1.0</td>\n",
       "    </tr>\n",
       "    <tr>\n",
       "      <th>beta[2, 1]</th>\n",
       "      <td>1.17</td>\n",
       "      <td>6.17</td>\n",
       "      <td>-10.84</td>\n",
       "      <td>12.99</td>\n",
       "      <td>0.12</td>\n",
       "      <td>0.11</td>\n",
       "      <td>2576.93</td>\n",
       "      <td>2388.16</td>\n",
       "      <td>1.0</td>\n",
       "    </tr>\n",
       "    <tr>\n",
       "      <th>beta[2, 2]</th>\n",
       "      <td>10.56</td>\n",
       "      <td>6.45</td>\n",
       "      <td>-1.77</td>\n",
       "      <td>23.42</td>\n",
       "      <td>0.13</td>\n",
       "      <td>0.10</td>\n",
       "      <td>2558.45</td>\n",
       "      <td>2361.27</td>\n",
       "      <td>1.0</td>\n",
       "    </tr>\n",
       "    <tr>\n",
       "      <th>beta[3, 0]</th>\n",
       "      <td>-6.33</td>\n",
       "      <td>9.15</td>\n",
       "      <td>-24.91</td>\n",
       "      <td>10.79</td>\n",
       "      <td>0.16</td>\n",
       "      <td>0.14</td>\n",
       "      <td>3289.12</td>\n",
       "      <td>2910.79</td>\n",
       "      <td>1.0</td>\n",
       "    </tr>\n",
       "    <tr>\n",
       "      <th>beta[3, 1]</th>\n",
       "      <td>-3.58</td>\n",
       "      <td>7.07</td>\n",
       "      <td>-17.81</td>\n",
       "      <td>9.87</td>\n",
       "      <td>0.14</td>\n",
       "      <td>0.12</td>\n",
       "      <td>2606.47</td>\n",
       "      <td>2732.23</td>\n",
       "      <td>1.0</td>\n",
       "    </tr>\n",
       "    <tr>\n",
       "      <th>beta[3, 2]</th>\n",
       "      <td>10.11</td>\n",
       "      <td>7.31</td>\n",
       "      <td>-3.64</td>\n",
       "      <td>24.90</td>\n",
       "      <td>0.14</td>\n",
       "      <td>0.11</td>\n",
       "      <td>2609.04</td>\n",
       "      <td>2696.66</td>\n",
       "      <td>1.0</td>\n",
       "    </tr>\n",
       "  </tbody>\n",
       "</table>\n",
       "</div>"
      ],
      "text/plain": [
       "             mean    sd  hdi_2.5%  hdi_97.5%  mcse_mean  mcse_sd  ess_bulk  \\\n",
       "alfa[0]     -4.18  7.76    -19.30      11.41       0.15     0.13   2824.86   \n",
       "alfa[1]     10.48  6.55     -2.18      23.17       0.15     0.10   2037.17   \n",
       "alfa[2]     -6.52  6.84    -19.86       6.43       0.14     0.11   2330.51   \n",
       "beta[0, 0]   0.09  8.42    -16.49      16.08       0.16     0.15   2766.49   \n",
       "beta[0, 1]   1.78  6.63    -11.82      14.98       0.14     0.12   2356.34   \n",
       "beta[0, 2]  -1.29  6.71    -14.26      12.34       0.14     0.12   2318.47   \n",
       "beta[1, 0]   6.72  7.92     -9.24      21.79       0.15     0.12   2746.00   \n",
       "beta[1, 1]  -0.87  6.52    -12.82      12.36       0.14     0.11   2081.73   \n",
       "beta[1, 2]  -5.54  6.67    -17.95       7.89       0.14     0.12   2119.75   \n",
       "beta[2, 0] -11.76  7.44    -26.17       3.26       0.15     0.12   2330.68   \n",
       "beta[2, 1]   1.17  6.17    -10.84      12.99       0.12     0.11   2576.93   \n",
       "beta[2, 2]  10.56  6.45     -1.77      23.42       0.13     0.10   2558.45   \n",
       "beta[3, 0]  -6.33  9.15    -24.91      10.79       0.16     0.14   3289.12   \n",
       "beta[3, 1]  -3.58  7.07    -17.81       9.87       0.14     0.12   2606.47   \n",
       "beta[3, 2]  10.11  7.31     -3.64      24.90       0.14     0.11   2609.04   \n",
       "\n",
       "            ess_tail  r_hat  \n",
       "alfa[0]      2635.60    1.0  \n",
       "alfa[1]      2426.49    1.0  \n",
       "alfa[2]      2183.86    1.0  \n",
       "beta[0, 0]   2536.85    1.0  \n",
       "beta[0, 1]   2119.28    1.0  \n",
       "beta[0, 2]   2235.00    1.0  \n",
       "beta[1, 0]   2660.66    1.0  \n",
       "beta[1, 1]   2069.76    1.0  \n",
       "beta[1, 2]   2297.79    1.0  \n",
       "beta[2, 0]   2114.60    1.0  \n",
       "beta[2, 1]   2388.16    1.0  \n",
       "beta[2, 2]   2361.27    1.0  \n",
       "beta[3, 0]   2910.79    1.0  \n",
       "beta[3, 1]   2732.23    1.0  \n",
       "beta[3, 2]   2696.66    1.0  "
      ]
     },
     "execution_count": 12,
     "metadata": {},
     "output_type": "execute_result"
    }
   ],
   "source": [
    "az.summary(idata, hdi_prob=0.95, round_to=2)"
   ]
  },
  {
   "cell_type": "markdown",
   "id": "443979ed",
   "metadata": {},
   "source": [
    "Now try using pivot "
   ]
  },
  {
   "cell_type": "markdown",
   "id": "751cebf2",
   "metadata": {},
   "source": []
  }
 ],
 "metadata": {
  "kernelspec": {
   "display_name": "multinom",
   "language": "python",
   "name": "python3"
  },
  "language_info": {
   "codemirror_mode": {
    "name": "ipython",
    "version": 3
   },
   "file_extension": ".py",
   "mimetype": "text/x-python",
   "name": "python",
   "nbconvert_exporter": "python",
   "pygments_lexer": "ipython3",
   "version": "3.12.10"
  }
 },
 "nbformat": 4,
 "nbformat_minor": 5
}
