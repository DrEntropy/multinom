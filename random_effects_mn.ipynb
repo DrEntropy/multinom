{
 "cells": [
  {
   "cell_type": "markdown",
   "id": "1857a195",
   "metadata": {},
   "source": [
    "This notebook looks at the random effects multinomial logistic regression. The simpleset case is just one grouping variable and three levels (2 levels would just be a binary logistic regression). The model is:\n",
    "\n",
    "TODO: add priors and such\n",
    "$$\n",
    "\\log \\left( \\frac{p_{ij}}{p_{i1}} \\right) = \\beta_j + u_{ij}  \n",
    "$$\n",
    "\n",
    "where $p_{ij}$ is the probability of the $j$ th outcome for the $i$ th group and $u_{ij}$ is the random effect for the $i$ th group.\n",
    "\n",
    "The random effects are assumed to be normally distributed with mean 0 and covariance matrix $\\Sigma_u$"
   ]
  },
  {
   "cell_type": "code",
   "execution_count": 30,
   "id": "bbe24fd2",
   "metadata": {},
   "outputs": [
    {
     "name": "stdout",
     "output_type": "stream",
     "text": [
      "     group  group_id    cat  cat_id\n",
      "0  group_0         0  cat_0       0\n",
      "1  group_0         0  cat_2       2\n",
      "2  group_0         0  cat_0       0\n",
      "3  group_0         0  cat_0       0\n",
      "4  group_0         0  cat_2       2\n",
      "5  group_0         0  cat_2       2\n",
      "6  group_0         0  cat_2       2\n",
      "7  group_0         0  cat_0       0\n",
      "8  group_0         0  cat_0       0\n",
      "9  group_0         0  cat_2       2\n"
     ]
    }
   ],
   "source": [
    "import numpy as np\n",
    "import pandas as pd\n",
    "from scipy.stats import multivariate_normal\n",
    "from scipy.special import softmax\n",
    "\n",
    "np.random.seed(33)\n",
    "\n",
    "# Settings\n",
    "num_groups = 100\n",
    "num_categories = 3  # categories: 0 (pivot), 1, 2 minimal non-trivial \n",
    " \n",
    "# mean effect is zero, but we could set it to something else\n",
    "mean_effect = np.zeros(num_categories - 1)\n",
    "\n",
    "# Define covariance matrix with correlations between categories\n",
    "cov_effect = np.array([\n",
    "    [1.0, 0.5],\n",
    "    [0.5, 2.0]\n",
    "])\n",
    "\n",
    "group_effects = multivariate_normal.rvs(mean=mean_effect, cov=cov_effect, size=num_groups)\n",
    "# Add pivot logits = 0\n",
    "group_effects = np.hstack([np.zeros((num_groups, 1)), group_effects])\n",
    "\n",
    "# Store group random effects in a DataFrame\n",
    "group_ids = [f'group_{i}' for i in range(num_groups)]\n",
    "group_effects_df = pd.DataFrame(group_effects, columns=[f'logit_{i}' for i in range(num_categories)])\n",
    "group_effects_df['group'] = group_ids\n",
    "\n",
    "# Generate observations per group\n",
    "data = []\n",
    "for idx, group in enumerate(group_ids):\n",
    "    n_obs = np.random.poisson(30)  #  average 30 observations per group\n",
    "    \n",
    "  \n",
    "    logits = group_effects[idx]\n",
    "    probs = softmax(logits)\n",
    "    for obs in range(n_obs):\n",
    "          \n",
    "        observed_cat = np.random.choice(num_categories, p=probs)\n",
    "        \n",
    "        # Append observation\n",
    "        data.append({\n",
    "            'group': group,\n",
    "            'group_id' : idx,\n",
    "            'cat': f'cat_{observed_cat}',\n",
    "            'cat_id': observed_cat,\n",
    "        })\n",
    "\n",
    "# Convert to DataFrame\n",
    "simulated_df = pd.DataFrame(data)\n",
    "\n",
    "\n",
    "print(simulated_df.head(10))\n"
   ]
  },
  {
   "cell_type": "markdown",
   "id": "44b31359",
   "metadata": {},
   "source": [
    "Check empirical covariance of logits"
   ]
  },
  {
   "cell_type": "code",
   "execution_count": 29,
   "id": "bb80e8bf",
   "metadata": {},
   "outputs": [
    {
     "name": "stdout",
     "output_type": "stream",
     "text": [
      "[[1.01255788 0.50686814]\n",
      " [0.50686814 2.28913477]]\n"
     ]
    }
   ],
   "source": [
    " \n",
    "emp_cov = np.cov(group_effects[:,1:].T)\n",
    "print(emp_cov)\n"
   ]
  },
  {
   "cell_type": "markdown",
   "id": "8865e38c",
   "metadata": {},
   "source": [
    "We can try to use bambi here, but it doesn't support correlated random effects in this case. In BRMS we can do it with `(1|ID|group)` syntax. I dont believe bambi has a simular feature. Best we can do is to estimate uncorrelated effects."
   ]
  },
  {
   "cell_type": "code",
   "execution_count": 7,
   "id": "2edec5b7",
   "metadata": {},
   "outputs": [
    {
     "name": "stderr",
     "output_type": "stream",
     "text": [
      "Initializing NUTS using jitter+adapt_diag...\n",
      "Multiprocess sampling (4 chains in 4 jobs)\n",
      "NUTS: [Intercept, 1|group_sigma, 1|group_offset]\n"
     ]
    },
    {
     "data": {
      "application/vnd.jupyter.widget-view+json": {
       "model_id": "87e2389b918a4bb4ba75ca0fec7ec607",
       "version_major": 2,
       "version_minor": 0
      },
      "text/plain": [
       "Output()"
      ]
     },
     "metadata": {},
     "output_type": "display_data"
    },
    {
     "data": {
      "text/html": [
       "<pre style=\"white-space:pre;overflow-x:auto;line-height:normal;font-family:Menlo,'DejaVu Sans Mono',consolas,'Courier New',monospace\"></pre>\n"
      ],
      "text/plain": []
     },
     "metadata": {},
     "output_type": "display_data"
    },
    {
     "name": "stderr",
     "output_type": "stream",
     "text": [
      "Sampling 4 chains for 1_000 tune and 1_000 draw iterations (4_000 + 4_000 draws total) took 4 seconds.\n"
     ]
    }
   ],
   "source": [
    "import bambi as bmb\n",
    "\n",
    "model = bmb.Model('cat ~  (1| group)', data=simulated_df, family='categorical')\n",
    "results = model.fit()\n"
   ]
  },
  {
   "cell_type": "code",
   "execution_count": 8,
   "id": "8751bd6c",
   "metadata": {},
   "outputs": [
    {
     "data": {
      "application/vnd.microsoft.datawrangler.viewer.v0+json": {
       "columns": [
        {
         "name": "index",
         "rawType": "object",
         "type": "string"
        },
        {
         "name": "mean",
         "rawType": "float64",
         "type": "float"
        },
        {
         "name": "sd",
         "rawType": "float64",
         "type": "float"
        },
        {
         "name": "hdi_3%",
         "rawType": "float64",
         "type": "float"
        },
        {
         "name": "hdi_97%",
         "rawType": "float64",
         "type": "float"
        },
        {
         "name": "mcse_mean",
         "rawType": "float64",
         "type": "float"
        },
        {
         "name": "mcse_sd",
         "rawType": "float64",
         "type": "float"
        },
        {
         "name": "ess_bulk",
         "rawType": "float64",
         "type": "float"
        },
        {
         "name": "ess_tail",
         "rawType": "float64",
         "type": "float"
        },
        {
         "name": "r_hat",
         "rawType": "float64",
         "type": "float"
        }
       ],
       "conversionMethod": "pd.DataFrame",
       "ref": "061076c4-9f6b-4510-88b2-d999171284f7",
       "rows": [
        [
         "Intercept[cat_1]",
         "-0.375",
         "0.159",
         "-0.679",
         "-0.086",
         "0.003",
         "0.002",
         "2470.0",
         "2894.0",
         "1.0"
        ],
        [
         "Intercept[cat_2]",
         "-0.193",
         "0.161",
         "-0.505",
         "0.095",
         "0.003",
         "0.002",
         "2443.0",
         "2689.0",
         "1.0"
        ],
        [
         "1|group_sigma",
         "1.277",
         "0.116",
         "1.071",
         "1.502",
         "0.003",
         "0.002",
         "1422.0",
         "2424.0",
         "1.0"
        ],
        [
         "1|group[cat_1, group_0]",
         "-1.456",
         "0.886",
         "-3.29",
         "0.056",
         "0.011",
         "0.016",
         "7072.0",
         "3153.0",
         "1.0"
        ],
        [
         "1|group[cat_1, group_1]",
         "0.192",
         "0.786",
         "-1.253",
         "1.674",
         "0.009",
         "0.013",
         "7236.0",
         "3142.0",
         "1.0"
        ],
        [
         "1|group[cat_1, group_10]",
         "0.014",
         "0.959",
         "-1.899",
         "1.726",
         "0.012",
         "0.017",
         "6119.0",
         "3054.0",
         "1.0"
        ],
        [
         "1|group[cat_1, group_11]",
         "0.347",
         "0.701",
         "-1.002",
         "1.61",
         "0.008",
         "0.011",
         "7197.0",
         "3136.0",
         "1.0"
        ],
        [
         "1|group[cat_1, group_12]",
         "0.128",
         "0.801",
         "-1.443",
         "1.545",
         "0.01",
         "0.013",
         "5999.0",
         "3114.0",
         "1.0"
        ],
        [
         "1|group[cat_1, group_13]",
         "0.774",
         "0.59",
         "-0.389",
         "1.854",
         "0.007",
         "0.01",
         "6462.0",
         "2903.0",
         "1.0"
        ],
        [
         "1|group[cat_1, group_14]",
         "-1.066",
         "0.977",
         "-2.825",
         "0.802",
         "0.012",
         "0.016",
         "6529.0",
         "2856.0",
         "1.0"
        ],
        [
         "1|group[cat_1, group_15]",
         "-0.638",
         "0.699",
         "-1.921",
         "0.684",
         "0.008",
         "0.013",
         "8106.0",
         "2895.0",
         "1.0"
        ],
        [
         "1|group[cat_1, group_16]",
         "0.201",
         "0.793",
         "-1.299",
         "1.699",
         "0.01",
         "0.013",
         "6426.0",
         "2898.0",
         "1.0"
        ],
        [
         "1|group[cat_1, group_17]",
         "0.041",
         "0.772",
         "-1.422",
         "1.478",
         "0.01",
         "0.014",
         "6474.0",
         "2800.0",
         "1.0"
        ],
        [
         "1|group[cat_1, group_18]",
         "0.395",
         "0.858",
         "-1.32",
         "1.998",
         "0.01",
         "0.016",
         "7477.0",
         "2951.0",
         "1.0"
        ],
        [
         "1|group[cat_1, group_19]",
         "1.348",
         "0.634",
         "0.182",
         "2.536",
         "0.008",
         "0.01",
         "6603.0",
         "2896.0",
         "1.0"
        ],
        [
         "1|group[cat_1, group_2]",
         "0.523",
         "0.613",
         "-0.528",
         "1.781",
         "0.008",
         "0.011",
         "6753.0",
         "3133.0",
         "1.0"
        ],
        [
         "1|group[cat_1, group_20]",
         "1.153",
         "0.585",
         "0.017",
         "2.221",
         "0.008",
         "0.01",
         "5916.0",
         "2742.0",
         "1.0"
        ],
        [
         "1|group[cat_1, group_21]",
         "-0.648",
         "0.807",
         "-2.123",
         "0.921",
         "0.01",
         "0.014",
         "7097.0",
         "2821.0",
         "1.0"
        ],
        [
         "1|group[cat_1, group_22]",
         "-1.149",
         "0.737",
         "-2.603",
         "0.162",
         "0.008",
         "0.013",
         "7670.0",
         "2563.0",
         "1.0"
        ],
        [
         "1|group[cat_1, group_23]",
         "-1.546",
         "0.887",
         "-3.305",
         "0.024",
         "0.011",
         "0.016",
         "7066.0",
         "2673.0",
         "1.0"
        ],
        [
         "1|group[cat_1, group_24]",
         "0.566",
         "0.569",
         "-0.496",
         "1.623",
         "0.006",
         "0.009",
         "7807.0",
         "3263.0",
         "1.0"
        ],
        [
         "1|group[cat_1, group_25]",
         "-1.071",
         "0.992",
         "-2.888",
         "0.722",
         "0.012",
         "0.019",
         "7232.0",
         "2451.0",
         "1.0"
        ],
        [
         "1|group[cat_1, group_26]",
         "-0.192",
         "0.732",
         "-1.551",
         "1.173",
         "0.009",
         "0.012",
         "6806.0",
         "2993.0",
         "1.0"
        ],
        [
         "1|group[cat_1, group_27]",
         "1.329",
         "0.562",
         "0.312",
         "2.425",
         "0.007",
         "0.009",
         "6128.0",
         "3097.0",
         "1.0"
        ],
        [
         "1|group[cat_1, group_28]",
         "1.669",
         "0.714",
         "0.303",
         "3.004",
         "0.009",
         "0.012",
         "6218.0",
         "2911.0",
         "1.0"
        ],
        [
         "1|group[cat_1, group_29]",
         "-0.109",
         "0.935",
         "-1.834",
         "1.665",
         "0.011",
         "0.016",
         "7202.0",
         "3190.0",
         "1.0"
        ],
        [
         "1|group[cat_1, group_3]",
         "1.423",
         "0.529",
         "0.469",
         "2.426",
         "0.007",
         "0.009",
         "5285.0",
         "3121.0",
         "1.0"
        ],
        [
         "1|group[cat_1, group_30]",
         "-0.396",
         "0.826",
         "-1.995",
         "1.119",
         "0.01",
         "0.014",
         "7717.0",
         "3079.0",
         "1.0"
        ],
        [
         "1|group[cat_1, group_31]",
         "-1.287",
         "0.958",
         "-3.159",
         "0.383",
         "0.011",
         "0.017",
         "7541.0",
         "2943.0",
         "1.0"
        ],
        [
         "1|group[cat_1, group_32]",
         "-0.031",
         "0.749",
         "-1.405",
         "1.361",
         "0.008",
         "0.013",
         "8244.0",
         "3023.0",
         "1.0"
        ],
        [
         "1|group[cat_1, group_33]",
         "0.523",
         "1.014",
         "-1.377",
         "2.405",
         "0.011",
         "0.016",
         "8632.0",
         "3454.0",
         "1.0"
        ],
        [
         "1|group[cat_1, group_34]",
         "0.7",
         "0.703",
         "-0.582",
         "2.034",
         "0.008",
         "0.013",
         "8150.0",
         "2844.0",
         "1.0"
        ],
        [
         "1|group[cat_1, group_35]",
         "-0.893",
         "1.005",
         "-2.764",
         "1.024",
         "0.012",
         "0.019",
         "7224.0",
         "2616.0",
         "1.0"
        ],
        [
         "1|group[cat_1, group_36]",
         "0.846",
         "0.718",
         "-0.479",
         "2.231",
         "0.008",
         "0.013",
         "7234.0",
         "3055.0",
         "1.0"
        ],
        [
         "1|group[cat_1, group_37]",
         "-0.895",
         "1.059",
         "-3.032",
         "0.924",
         "0.013",
         "0.019",
         "6869.0",
         "2523.0",
         "1.0"
        ],
        [
         "1|group[cat_1, group_38]",
         "0.675",
         "0.774",
         "-0.711",
         "2.189",
         "0.01",
         "0.012",
         "6593.0",
         "3223.0",
         "1.0"
        ],
        [
         "1|group[cat_1, group_39]",
         "1.167",
         "0.772",
         "-0.219",
         "2.666",
         "0.009",
         "0.013",
         "7083.0",
         "2930.0",
         "1.0"
        ],
        [
         "1|group[cat_1, group_4]",
         "1.871",
         "0.682",
         "0.604",
         "3.173",
         "0.008",
         "0.011",
         "7328.0",
         "3150.0",
         "1.0"
        ],
        [
         "1|group[cat_1, group_40]",
         "1.063",
         "0.739",
         "-0.278",
         "2.457",
         "0.011",
         "0.012",
         "4945.0",
         "3100.0",
         "1.0"
        ],
        [
         "1|group[cat_1, group_41]",
         "0.586",
         "0.847",
         "-0.959",
         "2.23",
         "0.011",
         "0.014",
         "5599.0",
         "3339.0",
         "1.0"
        ],
        [
         "1|group[cat_1, group_42]",
         "-0.047",
         "0.914",
         "-1.791",
         "1.63",
         "0.011",
         "0.015",
         "7107.0",
         "2889.0",
         "1.0"
        ],
        [
         "1|group[cat_1, group_43]",
         "0.043",
         "0.917",
         "-1.789",
         "1.684",
         "0.011",
         "0.014",
         "6702.0",
         "3273.0",
         "1.0"
        ],
        [
         "1|group[cat_1, group_44]",
         "0.8",
         "0.597",
         "-0.317",
         "1.943",
         "0.008",
         "0.01",
         "6046.0",
         "2952.0",
         "1.0"
        ],
        [
         "1|group[cat_1, group_45]",
         "0.205",
         "0.619",
         "-0.951",
         "1.369",
         "0.007",
         "0.011",
         "7406.0",
         "3017.0",
         "1.0"
        ],
        [
         "1|group[cat_1, group_46]",
         "0.024",
         "0.671",
         "-1.242",
         "1.312",
         "0.008",
         "0.011",
         "7161.0",
         "3192.0",
         "1.0"
        ],
        [
         "1|group[cat_1, group_47]",
         "0.192",
         "0.795",
         "-1.271",
         "1.694",
         "0.009",
         "0.018",
         "7466.0",
         "2136.0",
         "1.0"
        ],
        [
         "1|group[cat_1, group_48]",
         "1.522",
         "0.758",
         "0.167",
         "2.999",
         "0.011",
         "0.014",
         "4862.0",
         "2505.0",
         "1.0"
        ],
        [
         "1|group[cat_1, group_49]",
         "0.8",
         "0.791",
         "-0.703",
         "2.333",
         "0.011",
         "0.014",
         "5641.0",
         "2631.0",
         "1.0"
        ],
        [
         "1|group[cat_1, group_5]",
         "-0.131",
         "0.773",
         "-1.507",
         "1.345",
         "0.009",
         "0.014",
         "6857.0",
         "2953.0",
         "1.0"
        ],
        [
         "1|group[cat_1, group_50]",
         "-0.853",
         "0.786",
         "-2.304",
         "0.598",
         "0.009",
         "0.013",
         "7348.0",
         "3138.0",
         "1.0"
        ]
       ],
       "shape": {
        "columns": 9,
        "rows": 203
       }
      },
      "text/html": [
       "<div>\n",
       "<style scoped>\n",
       "    .dataframe tbody tr th:only-of-type {\n",
       "        vertical-align: middle;\n",
       "    }\n",
       "\n",
       "    .dataframe tbody tr th {\n",
       "        vertical-align: top;\n",
       "    }\n",
       "\n",
       "    .dataframe thead th {\n",
       "        text-align: right;\n",
       "    }\n",
       "</style>\n",
       "<table border=\"1\" class=\"dataframe\">\n",
       "  <thead>\n",
       "    <tr style=\"text-align: right;\">\n",
       "      <th></th>\n",
       "      <th>mean</th>\n",
       "      <th>sd</th>\n",
       "      <th>hdi_3%</th>\n",
       "      <th>hdi_97%</th>\n",
       "      <th>mcse_mean</th>\n",
       "      <th>mcse_sd</th>\n",
       "      <th>ess_bulk</th>\n",
       "      <th>ess_tail</th>\n",
       "      <th>r_hat</th>\n",
       "    </tr>\n",
       "  </thead>\n",
       "  <tbody>\n",
       "    <tr>\n",
       "      <th>Intercept[cat_1]</th>\n",
       "      <td>-0.375</td>\n",
       "      <td>0.159</td>\n",
       "      <td>-0.679</td>\n",
       "      <td>-0.086</td>\n",
       "      <td>0.003</td>\n",
       "      <td>0.002</td>\n",
       "      <td>2470.0</td>\n",
       "      <td>2894.0</td>\n",
       "      <td>1.00</td>\n",
       "    </tr>\n",
       "    <tr>\n",
       "      <th>Intercept[cat_2]</th>\n",
       "      <td>-0.193</td>\n",
       "      <td>0.161</td>\n",
       "      <td>-0.505</td>\n",
       "      <td>0.095</td>\n",
       "      <td>0.003</td>\n",
       "      <td>0.002</td>\n",
       "      <td>2443.0</td>\n",
       "      <td>2689.0</td>\n",
       "      <td>1.00</td>\n",
       "    </tr>\n",
       "    <tr>\n",
       "      <th>1|group_sigma</th>\n",
       "      <td>1.277</td>\n",
       "      <td>0.116</td>\n",
       "      <td>1.071</td>\n",
       "      <td>1.502</td>\n",
       "      <td>0.003</td>\n",
       "      <td>0.002</td>\n",
       "      <td>1422.0</td>\n",
       "      <td>2424.0</td>\n",
       "      <td>1.00</td>\n",
       "    </tr>\n",
       "    <tr>\n",
       "      <th>1|group[cat_1, group_0]</th>\n",
       "      <td>-1.456</td>\n",
       "      <td>0.886</td>\n",
       "      <td>-3.290</td>\n",
       "      <td>0.056</td>\n",
       "      <td>0.011</td>\n",
       "      <td>0.016</td>\n",
       "      <td>7072.0</td>\n",
       "      <td>3153.0</td>\n",
       "      <td>1.00</td>\n",
       "    </tr>\n",
       "    <tr>\n",
       "      <th>1|group[cat_1, group_1]</th>\n",
       "      <td>0.192</td>\n",
       "      <td>0.786</td>\n",
       "      <td>-1.253</td>\n",
       "      <td>1.674</td>\n",
       "      <td>0.009</td>\n",
       "      <td>0.013</td>\n",
       "      <td>7236.0</td>\n",
       "      <td>3142.0</td>\n",
       "      <td>1.00</td>\n",
       "    </tr>\n",
       "    <tr>\n",
       "      <th>...</th>\n",
       "      <td>...</td>\n",
       "      <td>...</td>\n",
       "      <td>...</td>\n",
       "      <td>...</td>\n",
       "      <td>...</td>\n",
       "      <td>...</td>\n",
       "      <td>...</td>\n",
       "      <td>...</td>\n",
       "      <td>...</td>\n",
       "    </tr>\n",
       "    <tr>\n",
       "      <th>1|group[cat_2, group_95]</th>\n",
       "      <td>-0.990</td>\n",
       "      <td>0.803</td>\n",
       "      <td>-2.531</td>\n",
       "      <td>0.467</td>\n",
       "      <td>0.010</td>\n",
       "      <td>0.015</td>\n",
       "      <td>6544.0</td>\n",
       "      <td>2807.0</td>\n",
       "      <td>1.00</td>\n",
       "    </tr>\n",
       "    <tr>\n",
       "      <th>1|group[cat_2, group_96]</th>\n",
       "      <td>-1.828</td>\n",
       "      <td>0.871</td>\n",
       "      <td>-3.427</td>\n",
       "      <td>-0.129</td>\n",
       "      <td>0.011</td>\n",
       "      <td>0.017</td>\n",
       "      <td>7018.0</td>\n",
       "      <td>2733.0</td>\n",
       "      <td>1.00</td>\n",
       "    </tr>\n",
       "    <tr>\n",
       "      <th>1|group[cat_2, group_97]</th>\n",
       "      <td>-1.011</td>\n",
       "      <td>0.651</td>\n",
       "      <td>-2.185</td>\n",
       "      <td>0.266</td>\n",
       "      <td>0.008</td>\n",
       "      <td>0.011</td>\n",
       "      <td>6790.0</td>\n",
       "      <td>2946.0</td>\n",
       "      <td>1.01</td>\n",
       "    </tr>\n",
       "    <tr>\n",
       "      <th>1|group[cat_2, group_98]</th>\n",
       "      <td>1.765</td>\n",
       "      <td>0.947</td>\n",
       "      <td>0.065</td>\n",
       "      <td>3.553</td>\n",
       "      <td>0.012</td>\n",
       "      <td>0.018</td>\n",
       "      <td>6988.0</td>\n",
       "      <td>2845.0</td>\n",
       "      <td>1.00</td>\n",
       "    </tr>\n",
       "    <tr>\n",
       "      <th>1|group[cat_2, group_99]</th>\n",
       "      <td>0.057</td>\n",
       "      <td>0.788</td>\n",
       "      <td>-1.481</td>\n",
       "      <td>1.482</td>\n",
       "      <td>0.010</td>\n",
       "      <td>0.013</td>\n",
       "      <td>5992.0</td>\n",
       "      <td>3019.0</td>\n",
       "      <td>1.00</td>\n",
       "    </tr>\n",
       "  </tbody>\n",
       "</table>\n",
       "<p>203 rows × 9 columns</p>\n",
       "</div>"
      ],
      "text/plain": [
       "                           mean     sd  hdi_3%  hdi_97%  mcse_mean  mcse_sd  \\\n",
       "Intercept[cat_1]         -0.375  0.159  -0.679   -0.086      0.003    0.002   \n",
       "Intercept[cat_2]         -0.193  0.161  -0.505    0.095      0.003    0.002   \n",
       "1|group_sigma             1.277  0.116   1.071    1.502      0.003    0.002   \n",
       "1|group[cat_1, group_0]  -1.456  0.886  -3.290    0.056      0.011    0.016   \n",
       "1|group[cat_1, group_1]   0.192  0.786  -1.253    1.674      0.009    0.013   \n",
       "...                         ...    ...     ...      ...        ...      ...   \n",
       "1|group[cat_2, group_95] -0.990  0.803  -2.531    0.467      0.010    0.015   \n",
       "1|group[cat_2, group_96] -1.828  0.871  -3.427   -0.129      0.011    0.017   \n",
       "1|group[cat_2, group_97] -1.011  0.651  -2.185    0.266      0.008    0.011   \n",
       "1|group[cat_2, group_98]  1.765  0.947   0.065    3.553      0.012    0.018   \n",
       "1|group[cat_2, group_99]  0.057  0.788  -1.481    1.482      0.010    0.013   \n",
       "\n",
       "                          ess_bulk  ess_tail  r_hat  \n",
       "Intercept[cat_1]            2470.0    2894.0   1.00  \n",
       "Intercept[cat_2]            2443.0    2689.0   1.00  \n",
       "1|group_sigma               1422.0    2424.0   1.00  \n",
       "1|group[cat_1, group_0]     7072.0    3153.0   1.00  \n",
       "1|group[cat_1, group_1]     7236.0    3142.0   1.00  \n",
       "...                            ...       ...    ...  \n",
       "1|group[cat_2, group_95]    6544.0    2807.0   1.00  \n",
       "1|group[cat_2, group_96]    7018.0    2733.0   1.00  \n",
       "1|group[cat_2, group_97]    6790.0    2946.0   1.01  \n",
       "1|group[cat_2, group_98]    6988.0    2845.0   1.00  \n",
       "1|group[cat_2, group_99]    5992.0    3019.0   1.00  \n",
       "\n",
       "[203 rows x 9 columns]"
      ]
     },
     "execution_count": 8,
     "metadata": {},
     "output_type": "execute_result"
    }
   ],
   "source": [
    "import arviz as az\n",
    "az.summary(results)"
   ]
  },
  {
   "cell_type": "markdown",
   "id": "518ffd50",
   "metadata": {},
   "source": [
    "The model we really want looks like this:"
   ]
  },
  {
   "cell_type": "code",
   "execution_count": 9,
   "id": "4ab67776",
   "metadata": {},
   "outputs": [
    {
     "data": {
      "text/plain": [
       "100"
      ]
     },
     "execution_count": 9,
     "metadata": {},
     "output_type": "execute_result"
    }
   ],
   "source": [
    "num_groups"
   ]
  },
  {
   "cell_type": "code",
   "execution_count": 31,
   "id": "0f0b8a8d",
   "metadata": {},
   "outputs": [
    {
     "name": "stderr",
     "output_type": "stream",
     "text": [
      "Initializing NUTS using jitter+adapt_diag...\n",
      "Multiprocess sampling (4 chains in 4 jobs)\n",
      "NUTS: [chol_corr, z, mean_effect]\n"
     ]
    },
    {
     "data": {
      "application/vnd.jupyter.widget-view+json": {
       "model_id": "89a971a9aa9f427287b4cea8196dd342",
       "version_major": 2,
       "version_minor": 0
      },
      "text/plain": [
       "Output()"
      ]
     },
     "metadata": {},
     "output_type": "display_data"
    },
    {
     "data": {
      "text/html": [
       "<pre style=\"white-space:pre;overflow-x:auto;line-height:normal;font-family:Menlo,'DejaVu Sans Mono',consolas,'Courier New',monospace\"></pre>\n"
      ],
      "text/plain": []
     },
     "metadata": {},
     "output_type": "display_data"
    },
    {
     "name": "stderr",
     "output_type": "stream",
     "text": [
      "Sampling 4 chains for 1_000 tune and 1_000 draw iterations (4_000 + 4_000 draws total) took 12 seconds.\n",
      "The rhat statistic is larger than 1.01 for some parameters. This indicates problems during sampling. See https://arxiv.org/abs/1903.08008 for details\n",
      "The effective sample size per chain is smaller than 100 for some parameters.  A higher number is needed for reliable rhat and ess computation. See https://arxiv.org/abs/1903.08008 for details\n"
     ]
    }
   ],
   "source": [
    "import pymc as pm\n",
    "import pytensor.tensor as pt\n",
    "\n",
    "num_obs = simulated_df.shape[0]\n",
    "\n",
    "with pm.Model() as model:\n",
    "     \n",
    "    group_idx = pm.Data(\"group_idx\", simulated_df[\"group_id\"].values)\n",
    "    cat_obs = pm.Data(\"cat_obs\", simulated_df[\"cat_id\"].values)\n",
    "    sd_dist = pm.HalfStudentT.dist(nu=3, sigma=10)\n",
    "    \n",
    "    chol_corr,_, _ = pm.LKJCholeskyCov(\n",
    "        \"chol_corr\",\n",
    "        n=num_categories - 1,\n",
    "        eta=1,\n",
    "         sd_dist=sd_dist\n",
    "    )\n",
    "\n",
    "    z = pm.Normal(\n",
    "        \"z\",\n",
    "        0, 1,\n",
    "        shape=(num_groups, num_categories - 1)\n",
    "    )\n",
    "\n",
    "    group_effects_m = pm.Deterministic(\n",
    "        \"group_effects\",\n",
    "        pt.dot(z, chol_corr.T), \n",
    "    )\n",
    "\n",
    "    mean_effect = pm.Normal(\n",
    "        \"mean_effect\",\n",
    "        0, 1,\n",
    "        shape=(num_categories - 1)\n",
    "    )\n",
    "\n",
    "\n",
    "    group_eff_obs = group_effects_m[group_idx, :]  # (num_obs, num_categories - 1)\n",
    "\n",
    "    logits = pt.concatenate(\n",
    "        [pt.zeros((num_obs, 1)), group_eff_obs + mean_effect],\n",
    "        axis=1\n",
    "    ) \n",
    "\n",
    "    \n",
    "    pm.Categorical(\"obs\", logit_p=logits, observed=cat_obs)\n",
    "\n",
    "    trace = pm.sample()\n"
   ]
  },
  {
   "cell_type": "code",
   "execution_count": 32,
   "id": "2e2f378c",
   "metadata": {},
   "outputs": [
    {
     "name": "stderr",
     "output_type": "stream",
     "text": [
      "/Users/ronaldlegere/miniconda3/envs/multinom/lib/python3.13/site-packages/arviz/stats/diagnostics.py:596: RuntimeWarning: invalid value encountered in scalar divide\n",
      "  (between_chain_variance / within_chain_variance + num_samples - 1) / (num_samples)\n",
      "/Users/ronaldlegere/miniconda3/envs/multinom/lib/python3.13/site-packages/arviz/stats/diagnostics.py:991: RuntimeWarning: invalid value encountered in scalar divide\n",
      "  varsd = varvar / evar / 4\n"
     ]
    },
    {
     "data": {
      "application/vnd.microsoft.datawrangler.viewer.v0+json": {
       "columns": [
        {
         "name": "index",
         "rawType": "object",
         "type": "string"
        },
        {
         "name": "mean",
         "rawType": "float64",
         "type": "float"
        },
        {
         "name": "sd",
         "rawType": "float64",
         "type": "float"
        },
        {
         "name": "hdi_3%",
         "rawType": "float64",
         "type": "float"
        },
        {
         "name": "hdi_97%",
         "rawType": "float64",
         "type": "float"
        },
        {
         "name": "mcse_mean",
         "rawType": "float64",
         "type": "float"
        },
        {
         "name": "mcse_sd",
         "rawType": "float64",
         "type": "float"
        },
        {
         "name": "ess_bulk",
         "rawType": "float64",
         "type": "float"
        },
        {
         "name": "ess_tail",
         "rawType": "float64",
         "type": "float"
        },
        {
         "name": "r_hat",
         "rawType": "float64",
         "type": "float"
        }
       ],
       "conversionMethod": "pd.DataFrame",
       "ref": "17fef9b4-5339-4a00-8444-15e24cf2c760",
       "rows": [
        [
         "mean_effect[0]",
         "-0.128",
         "0.128",
         "-0.373",
         "0.106",
         "0.005",
         "0.002",
         "640.0",
         "1011.0",
         "1.0"
        ],
        [
         "mean_effect[1]",
         "-0.236",
         "0.167",
         "-0.534",
         "0.099",
         "0.007",
         "0.004",
         "621.0",
         "852.0",
         "1.0"
        ],
        [
         "chol_corr[0]",
         "1.139",
         "0.111",
         "0.942",
         "1.349",
         "0.003",
         "0.002",
         "1265.0",
         "2248.0",
         "1.0"
        ],
        [
         "chol_corr[1]",
         "0.549",
         "0.206",
         "0.145",
         "0.912",
         "0.012",
         "0.005",
         "294.0",
         "911.0",
         "1.02"
        ],
        [
         "chol_corr[2]",
         "1.5",
         "0.134",
         "1.244",
         "1.74",
         "0.004",
         "0.002",
         "989.0",
         "1768.0",
         "1.0"
        ],
        [
         "chol_corr_corr[0, 0]",
         "1.0",
         "0.0",
         "1.0",
         "1.0",
         "0.0",
         null,
         "4000.0",
         "4000.0",
         null
        ],
        [
         "chol_corr_corr[0, 1]",
         "0.338",
         "0.115",
         "0.121",
         "0.545",
         "0.006",
         "0.002",
         "352.0",
         "1088.0",
         "1.02"
        ],
        [
         "chol_corr_corr[1, 0]",
         "0.338",
         "0.115",
         "0.121",
         "0.545",
         "0.006",
         "0.002",
         "352.0",
         "1088.0",
         "1.02"
        ],
        [
         "chol_corr_corr[1, 1]",
         "1.0",
         "0.0",
         "1.0",
         "1.0",
         "0.0",
         "0.0",
         "3954.0",
         "3588.0",
         "1.0"
        ],
        [
         "chol_corr_stds[0]",
         "1.139",
         "0.111",
         "0.942",
         "1.349",
         "0.003",
         "0.002",
         "1265.0",
         "2248.0",
         "1.0"
        ],
        [
         "chol_corr_stds[1]",
         "1.609",
         "0.147",
         "1.349",
         "1.892",
         "0.007",
         "0.003",
         "440.0",
         "1156.0",
         "1.01"
        ]
       ],
       "shape": {
        "columns": 9,
        "rows": 11
       }
      },
      "text/html": [
       "<div>\n",
       "<style scoped>\n",
       "    .dataframe tbody tr th:only-of-type {\n",
       "        vertical-align: middle;\n",
       "    }\n",
       "\n",
       "    .dataframe tbody tr th {\n",
       "        vertical-align: top;\n",
       "    }\n",
       "\n",
       "    .dataframe thead th {\n",
       "        text-align: right;\n",
       "    }\n",
       "</style>\n",
       "<table border=\"1\" class=\"dataframe\">\n",
       "  <thead>\n",
       "    <tr style=\"text-align: right;\">\n",
       "      <th></th>\n",
       "      <th>mean</th>\n",
       "      <th>sd</th>\n",
       "      <th>hdi_3%</th>\n",
       "      <th>hdi_97%</th>\n",
       "      <th>mcse_mean</th>\n",
       "      <th>mcse_sd</th>\n",
       "      <th>ess_bulk</th>\n",
       "      <th>ess_tail</th>\n",
       "      <th>r_hat</th>\n",
       "    </tr>\n",
       "  </thead>\n",
       "  <tbody>\n",
       "    <tr>\n",
       "      <th>mean_effect[0]</th>\n",
       "      <td>-0.128</td>\n",
       "      <td>0.128</td>\n",
       "      <td>-0.373</td>\n",
       "      <td>0.106</td>\n",
       "      <td>0.005</td>\n",
       "      <td>0.002</td>\n",
       "      <td>640.0</td>\n",
       "      <td>1011.0</td>\n",
       "      <td>1.00</td>\n",
       "    </tr>\n",
       "    <tr>\n",
       "      <th>mean_effect[1]</th>\n",
       "      <td>-0.236</td>\n",
       "      <td>0.167</td>\n",
       "      <td>-0.534</td>\n",
       "      <td>0.099</td>\n",
       "      <td>0.007</td>\n",
       "      <td>0.004</td>\n",
       "      <td>621.0</td>\n",
       "      <td>852.0</td>\n",
       "      <td>1.00</td>\n",
       "    </tr>\n",
       "    <tr>\n",
       "      <th>chol_corr[0]</th>\n",
       "      <td>1.139</td>\n",
       "      <td>0.111</td>\n",
       "      <td>0.942</td>\n",
       "      <td>1.349</td>\n",
       "      <td>0.003</td>\n",
       "      <td>0.002</td>\n",
       "      <td>1265.0</td>\n",
       "      <td>2248.0</td>\n",
       "      <td>1.00</td>\n",
       "    </tr>\n",
       "    <tr>\n",
       "      <th>chol_corr[1]</th>\n",
       "      <td>0.549</td>\n",
       "      <td>0.206</td>\n",
       "      <td>0.145</td>\n",
       "      <td>0.912</td>\n",
       "      <td>0.012</td>\n",
       "      <td>0.005</td>\n",
       "      <td>294.0</td>\n",
       "      <td>911.0</td>\n",
       "      <td>1.02</td>\n",
       "    </tr>\n",
       "    <tr>\n",
       "      <th>chol_corr[2]</th>\n",
       "      <td>1.500</td>\n",
       "      <td>0.134</td>\n",
       "      <td>1.244</td>\n",
       "      <td>1.740</td>\n",
       "      <td>0.004</td>\n",
       "      <td>0.002</td>\n",
       "      <td>989.0</td>\n",
       "      <td>1768.0</td>\n",
       "      <td>1.00</td>\n",
       "    </tr>\n",
       "    <tr>\n",
       "      <th>chol_corr_corr[0, 0]</th>\n",
       "      <td>1.000</td>\n",
       "      <td>0.000</td>\n",
       "      <td>1.000</td>\n",
       "      <td>1.000</td>\n",
       "      <td>0.000</td>\n",
       "      <td>NaN</td>\n",
       "      <td>4000.0</td>\n",
       "      <td>4000.0</td>\n",
       "      <td>NaN</td>\n",
       "    </tr>\n",
       "    <tr>\n",
       "      <th>chol_corr_corr[0, 1]</th>\n",
       "      <td>0.338</td>\n",
       "      <td>0.115</td>\n",
       "      <td>0.121</td>\n",
       "      <td>0.545</td>\n",
       "      <td>0.006</td>\n",
       "      <td>0.002</td>\n",
       "      <td>352.0</td>\n",
       "      <td>1088.0</td>\n",
       "      <td>1.02</td>\n",
       "    </tr>\n",
       "    <tr>\n",
       "      <th>chol_corr_corr[1, 0]</th>\n",
       "      <td>0.338</td>\n",
       "      <td>0.115</td>\n",
       "      <td>0.121</td>\n",
       "      <td>0.545</td>\n",
       "      <td>0.006</td>\n",
       "      <td>0.002</td>\n",
       "      <td>352.0</td>\n",
       "      <td>1088.0</td>\n",
       "      <td>1.02</td>\n",
       "    </tr>\n",
       "    <tr>\n",
       "      <th>chol_corr_corr[1, 1]</th>\n",
       "      <td>1.000</td>\n",
       "      <td>0.000</td>\n",
       "      <td>1.000</td>\n",
       "      <td>1.000</td>\n",
       "      <td>0.000</td>\n",
       "      <td>0.000</td>\n",
       "      <td>3954.0</td>\n",
       "      <td>3588.0</td>\n",
       "      <td>1.00</td>\n",
       "    </tr>\n",
       "    <tr>\n",
       "      <th>chol_corr_stds[0]</th>\n",
       "      <td>1.139</td>\n",
       "      <td>0.111</td>\n",
       "      <td>0.942</td>\n",
       "      <td>1.349</td>\n",
       "      <td>0.003</td>\n",
       "      <td>0.002</td>\n",
       "      <td>1265.0</td>\n",
       "      <td>2248.0</td>\n",
       "      <td>1.00</td>\n",
       "    </tr>\n",
       "    <tr>\n",
       "      <th>chol_corr_stds[1]</th>\n",
       "      <td>1.609</td>\n",
       "      <td>0.147</td>\n",
       "      <td>1.349</td>\n",
       "      <td>1.892</td>\n",
       "      <td>0.007</td>\n",
       "      <td>0.003</td>\n",
       "      <td>440.0</td>\n",
       "      <td>1156.0</td>\n",
       "      <td>1.01</td>\n",
       "    </tr>\n",
       "  </tbody>\n",
       "</table>\n",
       "</div>"
      ],
      "text/plain": [
       "                       mean     sd  hdi_3%  hdi_97%  mcse_mean  mcse_sd  \\\n",
       "mean_effect[0]       -0.128  0.128  -0.373    0.106      0.005    0.002   \n",
       "mean_effect[1]       -0.236  0.167  -0.534    0.099      0.007    0.004   \n",
       "chol_corr[0]          1.139  0.111   0.942    1.349      0.003    0.002   \n",
       "chol_corr[1]          0.549  0.206   0.145    0.912      0.012    0.005   \n",
       "chol_corr[2]          1.500  0.134   1.244    1.740      0.004    0.002   \n",
       "chol_corr_corr[0, 0]  1.000  0.000   1.000    1.000      0.000      NaN   \n",
       "chol_corr_corr[0, 1]  0.338  0.115   0.121    0.545      0.006    0.002   \n",
       "chol_corr_corr[1, 0]  0.338  0.115   0.121    0.545      0.006    0.002   \n",
       "chol_corr_corr[1, 1]  1.000  0.000   1.000    1.000      0.000    0.000   \n",
       "chol_corr_stds[0]     1.139  0.111   0.942    1.349      0.003    0.002   \n",
       "chol_corr_stds[1]     1.609  0.147   1.349    1.892      0.007    0.003   \n",
       "\n",
       "                      ess_bulk  ess_tail  r_hat  \n",
       "mean_effect[0]           640.0    1011.0   1.00  \n",
       "mean_effect[1]           621.0     852.0   1.00  \n",
       "chol_corr[0]            1265.0    2248.0   1.00  \n",
       "chol_corr[1]             294.0     911.0   1.02  \n",
       "chol_corr[2]             989.0    1768.0   1.00  \n",
       "chol_corr_corr[0, 0]    4000.0    4000.0    NaN  \n",
       "chol_corr_corr[0, 1]     352.0    1088.0   1.02  \n",
       "chol_corr_corr[1, 0]     352.0    1088.0   1.02  \n",
       "chol_corr_corr[1, 1]    3954.0    3588.0   1.00  \n",
       "chol_corr_stds[0]       1265.0    2248.0   1.00  \n",
       "chol_corr_stds[1]        440.0    1156.0   1.01  "
      ]
     },
     "execution_count": 32,
     "metadata": {},
     "output_type": "execute_result"
    }
   ],
   "source": [
    "az.summary(trace, var_names = [\"~z\",\"~group_effects\"])"
   ]
  },
  {
   "cell_type": "code",
   "execution_count": 42,
   "id": "b74054bc",
   "metadata": {},
   "outputs": [],
   "source": [
    "import arviz as az"
   ]
  },
  {
   "cell_type": "code",
   "execution_count": 33,
   "id": "3afeee59",
   "metadata": {},
   "outputs": [],
   "source": [
    "dat = az.extract(trace, group = 'posterior', var_names = [\"chol_corr_corr\",\"chol_corr_stds\"], combined = True)\n",
    "corr = dat[\"chol_corr_corr\"].values\n",
    "stds = dat[\"chol_corr_stds\"].values[:,None,:]"
   ]
  },
  {
   "cell_type": "code",
   "execution_count": 34,
   "id": "89838419",
   "metadata": {},
   "outputs": [],
   "source": [
    "covariances = corr * stds * stds.transpose(1, 0, 2) "
   ]
  },
  {
   "cell_type": "code",
   "execution_count": 39,
   "id": "12378481",
   "metadata": {},
   "outputs": [
    {
     "data": {
      "text/plain": [
       "(2, 1, 4000)"
      ]
     },
     "execution_count": 39,
     "metadata": {},
     "output_type": "execute_result"
    }
   ],
   "source": [
    "stds.shape"
   ]
  },
  {
   "cell_type": "code",
   "execution_count": null,
   "id": "edc03536",
   "metadata": {},
   "outputs": [],
   "source": [
    "covariances =  corr * stds * stds.transpose(1, 0, 2) "
   ]
  },
  {
   "cell_type": "code",
   "execution_count": 35,
   "id": "4b596bff",
   "metadata": {},
   "outputs": [
    {
     "name": "stdout",
     "output_type": "stream",
     "text": [
      "[[1.30903602 0.63027184]\n",
      " [0.63027184 2.61169674]]\n"
     ]
    }
   ],
   "source": [
    "mean_covariance = np.mean(covariances, axis=2)\n",
    "\n",
    "print(mean_covariance)"
   ]
  },
  {
   "cell_type": "code",
   "execution_count": 36,
   "id": "5a11e44b",
   "metadata": {},
   "outputs": [
    {
     "data": {
      "image/png": "[encoded data removed]",
      "text/plain": [
       "<Figure size 1000x400 with 2 Axes>"
      ]
     },
     "metadata": {},
     "output_type": "display_data"
    }
   ],
   "source": [
    " \n",
    "true_effects = group_effects[:, 1:]  # exclude baseline logits\n",
    "\n",
    " \n",
    "posterior_means = trace.posterior[\"group_effects\"].mean(dim=[\"chain\", \"draw\"]).values\n",
    "\n",
    "import matplotlib.pyplot as plt\n",
    "\n",
    "fig, axes = plt.subplots(1, 2, figsize=(10, 4))\n",
    "\n",
    "for i in range(2):\n",
    "    axes[i].scatter(true_effects[:, i], posterior_means[:, i])\n",
    "    axes[i].set_xlabel(\"True Logits\")\n",
    "    axes[i].set_ylabel(\"Posterior Means\")\n",
    "    axes[i].set_title(f\"Category {i+1}\")\n",
    "\n",
    "plt.tight_layout()\n",
    "plt.show()\n"
   ]
  },
  {
   "cell_type": "code",
   "execution_count": null,
   "id": "9f6229f7",
   "metadata": {},
   "outputs": [],
   "source": []
  }
 ],
 "metadata": {
  "kernelspec": {
   "display_name": "multinom",
   "language": "python",
   "name": "python3"
  },
  "language_info": {
   "codemirror_mode": {
    "name": "ipython",
    "version": 3
   },
   "file_extension": ".py",
   "mimetype": "text/x-python",
   "name": "python",
   "nbconvert_exporter": "python",
   "pygments_lexer": "ipython3",
   "version": "3.13.3"
  }
 },
 "nbformat": 4,
 "nbformat_minor": 5
}
