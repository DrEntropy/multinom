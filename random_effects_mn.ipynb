{
 "cells": [
  {
   "cell_type": "markdown",
   "id": "1857a195",
   "metadata": {},
   "source": [
    "This notebook looks at the random effects multinomial logistic regression. The simpleset case is just one grouping variable and three levels (2 levels would just be a binary logistic regression). The model is:\n",
    "\n",
    "TODO: add priors and such\n",
    "$$\n",
    "\\log \\left( \\frac{p_{ij}}{p_{i1}} \\right) = \\beta_j + u_{ij}  \n",
    "$$\n",
    "\n",
    "where $p_{ij}$ is the probability of the $j$ th outcome for the $i$ th group and $u_{ij}$ is the random effect for the $i$ th group.\n",
    "\n",
    "The random effects are assumed to be normally distributed with mean 0 and covariance matrix $\\Sigma_u$\n",
    "\n",
    "If we consider the random effect as a hidden latent variable, one per observation (aggregate counts), this is can be used instead of Dirichlet-multinomial regression to model overdispersed multinomial data. In that case when looking at posterior predictions, it is important to always use a 'new group' to get overdispersion.  )"
   ]
  },
  {
   "cell_type": "code",
   "execution_count": 1,
   "id": "bbe24fd2",
   "metadata": {},
   "outputs": [
    {
     "name": "stdout",
     "output_type": "stream",
     "text": [
      "     group  group_id    cat  cat_id\n",
      "0  group_0         0  cat_1       1\n",
      "1  group_0         0  cat_2       2\n",
      "2  group_0         0  cat_0       0\n",
      "3  group_0         0  cat_1       1\n",
      "4  group_0         0  cat_1       1\n",
      "5  group_0         0  cat_2       2\n",
      "6  group_0         0  cat_2       2\n",
      "7  group_0         0  cat_1       1\n",
      "8  group_0         0  cat_0       0\n",
      "9  group_0         0  cat_1       1\n"
     ]
    }
   ],
   "source": [
    "import numpy as np\n",
    "import pandas as pd\n",
    "from scipy.stats import multivariate_normal\n",
    "from scipy.special import softmax\n",
    "import pymc as pm\n",
    "import matplotlib.pyplot as plt\n",
    "import bambi as bmb\n",
    "import arviz as az\n",
    "import pytensor.tensor as pt\n",
    "\n",
    "np.random.seed(33)\n",
    "\n",
    "# Settings\n",
    "num_groups = 100\n",
    "num_categories = 3  # categories: 0 (pivot), 1, 2 minimal non-trivial \n",
    " \n",
    "# mean effect is zero, but we could set it to something else\n",
    "mean_effect = np.zeros(num_categories - 1)\n",
    "\n",
    "corr_effect = np.array([\n",
    "    [1.0, 0.7],\n",
    "    [0.7, 1.0]\n",
    "])\n",
    "\n",
    "sds = [0.5, 1.0]\n",
    "\n",
    "cov_effect = np.diag(sds) @ corr_effect @ np.diag(sds)\n",
    "\n",
    " \n",
    "\n",
    "group_effects = multivariate_normal.rvs(mean=mean_effect, cov=cov_effect, size=num_groups)\n",
    "# Add pivot logits = 0\n",
    "group_effects = np.hstack([np.zeros((num_groups, 1)), group_effects])\n",
    "\n",
    "# Store group random effects in a DataFrame\n",
    "group_ids = [f'group_{i}' for i in range(num_groups)]\n",
    "group_effects_df = pd.DataFrame(group_effects, columns=[f'logit_{i}' for i in range(num_categories)])\n",
    "group_effects_df['group'] = group_ids\n",
    "\n",
    "# Generate observations per group\n",
    "data = []\n",
    "for idx, group in enumerate(group_ids):\n",
    "    n_obs = np.random.poisson(30)  #  average 30 observations per group\n",
    "    \n",
    "  \n",
    "    logits = group_effects[idx]\n",
    "    probs = softmax(logits)\n",
    "    for obs in range(n_obs):\n",
    "          \n",
    "        observed_cat = np.random.choice(num_categories, p=probs)\n",
    "        \n",
    "        # Append observation\n",
    "        data.append({\n",
    "            'group': group,\n",
    "            'group_id' : idx,\n",
    "            'cat': f'cat_{observed_cat}',\n",
    "            'cat_id': observed_cat,\n",
    "        })\n",
    "\n",
    "# Convert to DataFrame\n",
    "simulated_df = pd.DataFrame(data)\n",
    "\n",
    "\n",
    "print(simulated_df.head(10))\n"
   ]
  },
  {
   "cell_type": "code",
   "execution_count": 2,
   "id": "50201e7a",
   "metadata": {},
   "outputs": [
    {
     "data": {
      "text/plain": [
       "array([[0.25, 0.35],\n",
       "       [0.35, 1.  ]])"
      ]
     },
     "execution_count": 2,
     "metadata": {},
     "output_type": "execute_result"
    }
   ],
   "source": [
    "cov_effect"
   ]
  },
  {
   "cell_type": "markdown",
   "id": "44b31359",
   "metadata": {},
   "source": [
    "Check empirical covariance of logits"
   ]
  },
  {
   "cell_type": "code",
   "execution_count": 3,
   "id": "bb80e8bf",
   "metadata": {},
   "outputs": [
    {
     "name": "stdout",
     "output_type": "stream",
     "text": [
      "[[0.25635594 0.37392667]\n",
      " [0.37392667 1.13115093]]\n"
     ]
    }
   ],
   "source": [
    " \n",
    "emp_cov = np.cov(group_effects[:,1:].T)\n",
    "print(emp_cov)\n"
   ]
  },
  {
   "cell_type": "markdown",
   "id": "8865e38c",
   "metadata": {},
   "source": [
    "We can try to use bambi here, but it doesn't support correlated random effects in this case. It doesnt even estimate a different random effect for each log_odds. In BRMS we can do it with `(1|ID|group)` syntax. I dont believe bambi has a simular feature. Best we can do is to estimate uncorrelated effects."
   ]
  },
  {
   "cell_type": "code",
   "execution_count": 6,
   "id": "2edec5b7",
   "metadata": {},
   "outputs": [
    {
     "name": "stderr",
     "output_type": "stream",
     "text": [
      "Initializing NUTS using jitter+adapt_diag...\n",
      "Multiprocess sampling (4 chains in 4 jobs)\n",
      "NUTS: [Intercept, 1|group_sigma, 1|group_offset]\n"
     ]
    },
    {
     "data": {
      "application/vnd.jupyter.widget-view+json": {
       "model_id": "eb62d4e33a8c486384bcac854d4e3f9e",
       "version_major": 2,
       "version_minor": 0
      },
      "text/plain": [
       "Output()"
      ]
     },
     "metadata": {},
     "output_type": "display_data"
    },
    {
     "data": {
      "text/html": [
       "<pre style=\"white-space:pre;overflow-x:auto;line-height:normal;font-family:Menlo,'DejaVu Sans Mono',consolas,'Courier New',monospace\"></pre>\n"
      ],
      "text/plain": []
     },
     "metadata": {},
     "output_type": "display_data"
    },
    {
     "name": "stderr",
     "output_type": "stream",
     "text": [
      "Sampling 4 chains for 1_000 tune and 1_000 draw iterations (4_000 + 4_000 draws total) took 31 seconds.\n"
     ]
    }
   ],
   "source": [
    " \n",
    "\n",
    "model = bmb.Model('cat ~  (1| group)', data=simulated_df, family='categorical')\n",
    "results = model.fit()\n"
   ]
  },
  {
   "cell_type": "code",
   "execution_count": 7,
   "id": "8751bd6c",
   "metadata": {},
   "outputs": [
    {
     "data": {
      "application/vnd.microsoft.datawrangler.viewer.v0+json": {
       "columns": [
        {
         "name": "index",
         "rawType": "object",
         "type": "string"
        },
        {
         "name": "mean",
         "rawType": "float64",
         "type": "float"
        },
        {
         "name": "sd",
         "rawType": "float64",
         "type": "float"
        },
        {
         "name": "hdi_3%",
         "rawType": "float64",
         "type": "float"
        },
        {
         "name": "hdi_97%",
         "rawType": "float64",
         "type": "float"
        },
        {
         "name": "mcse_mean",
         "rawType": "float64",
         "type": "float"
        },
        {
         "name": "mcse_sd",
         "rawType": "float64",
         "type": "float"
        },
        {
         "name": "ess_bulk",
         "rawType": "float64",
         "type": "float"
        },
        {
         "name": "ess_tail",
         "rawType": "float64",
         "type": "float"
        },
        {
         "name": "r_hat",
         "rawType": "float64",
         "type": "float"
        }
       ],
       "conversionMethod": "pd.DataFrame",
       "ref": "852f1131-03b0-4db4-a775-60e189758d02",
       "rows": [
        [
         "Intercept[cat_1]",
         "-0.078",
         "0.081",
         "-0.223",
         "0.077",
         "0.002",
         "0.001",
         "2372.0",
         "2643.0",
         "1.0"
        ],
        [
         "Intercept[cat_2]",
         "0.102",
         "0.079",
         "-0.045",
         "0.253",
         "0.002",
         "0.001",
         "2381.0",
         "2769.0",
         "1.0"
        ],
        [
         "1|group_sigma",
         "0.651",
         "0.055",
         "0.555",
         "0.757",
         "0.002",
         "0.001",
         "1202.0",
         "1713.0",
         "1.01"
        ],
        [
         "1|group[cat_1, group_0]",
         "0.172",
         "0.359",
         "-0.521",
         "0.82",
         "0.004",
         "0.006",
         "6905.0",
         "2647.0",
         "1.0"
        ],
        [
         "1|group[cat_1, group_1]",
         "0.046",
         "0.416",
         "-0.741",
         "0.828",
         "0.005",
         "0.008",
         "6448.0",
         "2696.0",
         "1.0"
        ],
        [
         "1|group[cat_1, group_10]",
         "-0.897",
         "0.345",
         "-1.563",
         "-0.268",
         "0.004",
         "0.006",
         "6453.0",
         "2629.0",
         "1.0"
        ],
        [
         "1|group[cat_1, group_11]",
         "0.262",
         "0.416",
         "-0.525",
         "1.042",
         "0.005",
         "0.007",
         "6484.0",
         "2591.0",
         "1.0"
        ],
        [
         "1|group[cat_1, group_12]",
         "0.013",
         "0.343",
         "-0.6",
         "0.66",
         "0.004",
         "0.005",
         "5955.0",
         "3114.0",
         "1.0"
        ],
        [
         "1|group[cat_1, group_13]",
         "-0.142",
         "0.423",
         "-0.97",
         "0.61",
         "0.005",
         "0.007",
         "8158.0",
         "3146.0",
         "1.0"
        ],
        [
         "1|group[cat_1, group_14]",
         "0.007",
         "0.313",
         "-0.612",
         "0.568",
         "0.004",
         "0.005",
         "6428.0",
         "3123.0",
         "1.0"
        ],
        [
         "1|group[cat_1, group_15]",
         "0.174",
         "0.398",
         "-0.547",
         "0.933",
         "0.005",
         "0.006",
         "5897.0",
         "3338.0",
         "1.0"
        ],
        [
         "1|group[cat_1, group_16]",
         "-0.071",
         "0.4",
         "-0.822",
         "0.686",
         "0.005",
         "0.007",
         "6737.0",
         "2954.0",
         "1.0"
        ],
        [
         "1|group[cat_1, group_17]",
         "0.534",
         "0.417",
         "-0.238",
         "1.294",
         "0.005",
         "0.007",
         "6613.0",
         "2805.0",
         "1.0"
        ],
        [
         "1|group[cat_1, group_18]",
         "0.144",
         "0.391",
         "-0.58",
         "0.886",
         "0.005",
         "0.006",
         "6311.0",
         "2836.0",
         "1.0"
        ],
        [
         "1|group[cat_1, group_19]",
         "-0.242",
         "0.423",
         "-1.054",
         "0.551",
         "0.005",
         "0.007",
         "6295.0",
         "3182.0",
         "1.0"
        ],
        [
         "1|group[cat_1, group_2]",
         "-0.37",
         "0.374",
         "-1.119",
         "0.286",
         "0.005",
         "0.006",
         "6546.0",
         "3245.0",
         "1.0"
        ],
        [
         "1|group[cat_1, group_20]",
         "0.345",
         "0.376",
         "-0.368",
         "1.031",
         "0.005",
         "0.006",
         "6597.0",
         "3047.0",
         "1.0"
        ],
        [
         "1|group[cat_1, group_21]",
         "0.007",
         "0.344",
         "-0.613",
         "0.681",
         "0.004",
         "0.006",
         "6369.0",
         "2791.0",
         "1.0"
        ],
        [
         "1|group[cat_1, group_22]",
         "-0.197",
         "0.376",
         "-0.931",
         "0.461",
         "0.005",
         "0.006",
         "6824.0",
         "3007.0",
         "1.0"
        ],
        [
         "1|group[cat_1, group_23]",
         "-0.304",
         "0.368",
         "-0.992",
         "0.377",
         "0.005",
         "0.006",
         "6259.0",
         "3160.0",
         "1.0"
        ],
        [
         "1|group[cat_1, group_24]",
         "-0.179",
         "0.369",
         "-0.892",
         "0.481",
         "0.004",
         "0.006",
         "6672.0",
         "3116.0",
         "1.0"
        ],
        [
         "1|group[cat_1, group_25]",
         "0.378",
         "0.366",
         "-0.28",
         "1.088",
         "0.004",
         "0.006",
         "6746.0",
         "2732.0",
         "1.0"
        ],
        [
         "1|group[cat_1, group_26]",
         "-0.165",
         "0.364",
         "-0.899",
         "0.454",
         "0.005",
         "0.006",
         "5619.0",
         "3450.0",
         "1.0"
        ],
        [
         "1|group[cat_1, group_27]",
         "0.324",
         "0.389",
         "-0.426",
         "1.025",
         "0.005",
         "0.006",
         "6536.0",
         "3322.0",
         "1.0"
        ],
        [
         "1|group[cat_1, group_28]",
         "-0.163",
         "0.341",
         "-0.789",
         "0.484",
         "0.004",
         "0.006",
         "6027.0",
         "2470.0",
         "1.0"
        ],
        [
         "1|group[cat_1, group_29]",
         "0.001",
         "0.312",
         "-0.559",
         "0.59",
         "0.004",
         "0.005",
         "6508.0",
         "3196.0",
         "1.0"
        ],
        [
         "1|group[cat_1, group_3]",
         "0.076",
         "0.371",
         "-0.547",
         "0.829",
         "0.005",
         "0.006",
         "6606.0",
         "3380.0",
         "1.0"
        ],
        [
         "1|group[cat_1, group_30]",
         "-0.4",
         "0.354",
         "-1.067",
         "0.263",
         "0.004",
         "0.006",
         "7173.0",
         "3009.0",
         "1.0"
        ],
        [
         "1|group[cat_1, group_31]",
         "-0.1",
         "0.353",
         "-0.78",
         "0.528",
         "0.004",
         "0.006",
         "6387.0",
         "2930.0",
         "1.0"
        ],
        [
         "1|group[cat_1, group_32]",
         "0.335",
         "0.39",
         "-0.376",
         "1.093",
         "0.005",
         "0.007",
         "6352.0",
         "3070.0",
         "1.0"
        ],
        [
         "1|group[cat_1, group_33]",
         "-0.639",
         "0.383",
         "-1.345",
         "0.08",
         "0.004",
         "0.007",
         "7442.0",
         "2914.0",
         "1.0"
        ],
        [
         "1|group[cat_1, group_34]",
         "-0.415",
         "0.421",
         "-1.18",
         "0.399",
         "0.005",
         "0.007",
         "6611.0",
         "3096.0",
         "1.0"
        ],
        [
         "1|group[cat_1, group_35]",
         "-0.191",
         "0.351",
         "-0.847",
         "0.484",
         "0.004",
         "0.006",
         "7241.0",
         "3186.0",
         "1.0"
        ],
        [
         "1|group[cat_1, group_36]",
         "-0.911",
         "0.42",
         "-1.684",
         "-0.096",
         "0.006",
         "0.008",
         "5511.0",
         "2622.0",
         "1.0"
        ],
        [
         "1|group[cat_1, group_37]",
         "0.981",
         "0.364",
         "0.286",
         "1.655",
         "0.005",
         "0.006",
         "6477.0",
         "3324.0",
         "1.0"
        ],
        [
         "1|group[cat_1, group_38]",
         "-0.03",
         "0.323",
         "-0.649",
         "0.562",
         "0.004",
         "0.006",
         "6987.0",
         "3075.0",
         "1.0"
        ],
        [
         "1|group[cat_1, group_39]",
         "0.187",
         "0.41",
         "-0.629",
         "0.931",
         "0.005",
         "0.007",
         "6538.0",
         "3176.0",
         "1.0"
        ],
        [
         "1|group[cat_1, group_4]",
         "0.18",
         "0.346",
         "-0.464",
         "0.828",
         "0.004",
         "0.006",
         "7101.0",
         "3329.0",
         "1.0"
        ],
        [
         "1|group[cat_1, group_40]",
         "0.397",
         "0.391",
         "-0.353",
         "1.13",
         "0.005",
         "0.008",
         "6496.0",
         "2622.0",
         "1.0"
        ],
        [
         "1|group[cat_1, group_41]",
         "-0.202",
         "0.347",
         "-0.864",
         "0.445",
         "0.004",
         "0.006",
         "7714.0",
         "2862.0",
         "1.0"
        ],
        [
         "1|group[cat_1, group_42]",
         "0.056",
         "0.359",
         "-0.602",
         "0.755",
         "0.004",
         "0.006",
         "6918.0",
         "2807.0",
         "1.0"
        ],
        [
         "1|group[cat_1, group_43]",
         "0.253",
         "0.326",
         "-0.369",
         "0.859",
         "0.004",
         "0.006",
         "6963.0",
         "2767.0",
         "1.0"
        ],
        [
         "1|group[cat_1, group_44]",
         "-0.433",
         "0.368",
         "-1.074",
         "0.282",
         "0.004",
         "0.007",
         "6816.0",
         "2606.0",
         "1.0"
        ],
        [
         "1|group[cat_1, group_45]",
         "-0.091",
         "0.433",
         "-0.89",
         "0.727",
         "0.006",
         "0.007",
         "5895.0",
         "2803.0",
         "1.0"
        ],
        [
         "1|group[cat_1, group_46]",
         "0.692",
         "0.371",
         "0.041",
         "1.43",
         "0.005",
         "0.006",
         "6302.0",
         "3286.0",
         "1.0"
        ],
        [
         "1|group[cat_1, group_47]",
         "0.374",
         "0.365",
         "-0.323",
         "1.033",
         "0.005",
         "0.007",
         "6355.0",
         "2708.0",
         "1.0"
        ],
        [
         "1|group[cat_1, group_48]",
         "0.023",
         "0.398",
         "-0.742",
         "0.73",
         "0.005",
         "0.007",
         "6241.0",
         "2828.0",
         "1.0"
        ],
        [
         "1|group[cat_1, group_49]",
         "-0.676",
         "0.426",
         "-1.498",
         "0.094",
         "0.005",
         "0.008",
         "6830.0",
         "3036.0",
         "1.0"
        ],
        [
         "1|group[cat_1, group_5]",
         "0.285",
         "0.353",
         "-0.406",
         "0.922",
         "0.004",
         "0.006",
         "6894.0",
         "3098.0",
         "1.0"
        ],
        [
         "1|group[cat_1, group_50]",
         "-0.032",
         "0.431",
         "-0.82",
         "0.785",
         "0.005",
         "0.007",
         "6605.0",
         "3180.0",
         "1.0"
        ]
       ],
       "shape": {
        "columns": 9,
        "rows": 203
       }
      },
      "text/html": [
       "<div>\n",
       "<style scoped>\n",
       "    .dataframe tbody tr th:only-of-type {\n",
       "        vertical-align: middle;\n",
       "    }\n",
       "\n",
       "    .dataframe tbody tr th {\n",
       "        vertical-align: top;\n",
       "    }\n",
       "\n",
       "    .dataframe thead th {\n",
       "        text-align: right;\n",
       "    }\n",
       "</style>\n",
       "<table border=\"1\" class=\"dataframe\">\n",
       "  <thead>\n",
       "    <tr style=\"text-align: right;\">\n",
       "      <th></th>\n",
       "      <th>mean</th>\n",
       "      <th>sd</th>\n",
       "      <th>hdi_3%</th>\n",
       "      <th>hdi_97%</th>\n",
       "      <th>mcse_mean</th>\n",
       "      <th>mcse_sd</th>\n",
       "      <th>ess_bulk</th>\n",
       "      <th>ess_tail</th>\n",
       "      <th>r_hat</th>\n",
       "    </tr>\n",
       "  </thead>\n",
       "  <tbody>\n",
       "    <tr>\n",
       "      <th>Intercept[cat_1]</th>\n",
       "      <td>-0.078</td>\n",
       "      <td>0.081</td>\n",
       "      <td>-0.223</td>\n",
       "      <td>0.077</td>\n",
       "      <td>0.002</td>\n",
       "      <td>0.001</td>\n",
       "      <td>2372.0</td>\n",
       "      <td>2643.0</td>\n",
       "      <td>1.00</td>\n",
       "    </tr>\n",
       "    <tr>\n",
       "      <th>Intercept[cat_2]</th>\n",
       "      <td>0.102</td>\n",
       "      <td>0.079</td>\n",
       "      <td>-0.045</td>\n",
       "      <td>0.253</td>\n",
       "      <td>0.002</td>\n",
       "      <td>0.001</td>\n",
       "      <td>2381.0</td>\n",
       "      <td>2769.0</td>\n",
       "      <td>1.00</td>\n",
       "    </tr>\n",
       "    <tr>\n",
       "      <th>1|group_sigma</th>\n",
       "      <td>0.651</td>\n",
       "      <td>0.055</td>\n",
       "      <td>0.555</td>\n",
       "      <td>0.757</td>\n",
       "      <td>0.002</td>\n",
       "      <td>0.001</td>\n",
       "      <td>1202.0</td>\n",
       "      <td>1713.0</td>\n",
       "      <td>1.01</td>\n",
       "    </tr>\n",
       "    <tr>\n",
       "      <th>1|group[cat_1, group_0]</th>\n",
       "      <td>0.172</td>\n",
       "      <td>0.359</td>\n",
       "      <td>-0.521</td>\n",
       "      <td>0.820</td>\n",
       "      <td>0.004</td>\n",
       "      <td>0.006</td>\n",
       "      <td>6905.0</td>\n",
       "      <td>2647.0</td>\n",
       "      <td>1.00</td>\n",
       "    </tr>\n",
       "    <tr>\n",
       "      <th>1|group[cat_1, group_1]</th>\n",
       "      <td>0.046</td>\n",
       "      <td>0.416</td>\n",
       "      <td>-0.741</td>\n",
       "      <td>0.828</td>\n",
       "      <td>0.005</td>\n",
       "      <td>0.008</td>\n",
       "      <td>6448.0</td>\n",
       "      <td>2696.0</td>\n",
       "      <td>1.00</td>\n",
       "    </tr>\n",
       "    <tr>\n",
       "      <th>...</th>\n",
       "      <td>...</td>\n",
       "      <td>...</td>\n",
       "      <td>...</td>\n",
       "      <td>...</td>\n",
       "      <td>...</td>\n",
       "      <td>...</td>\n",
       "      <td>...</td>\n",
       "      <td>...</td>\n",
       "      <td>...</td>\n",
       "    </tr>\n",
       "    <tr>\n",
       "      <th>1|group[cat_2, group_95]</th>\n",
       "      <td>0.751</td>\n",
       "      <td>0.338</td>\n",
       "      <td>0.146</td>\n",
       "      <td>1.416</td>\n",
       "      <td>0.004</td>\n",
       "      <td>0.006</td>\n",
       "      <td>5802.0</td>\n",
       "      <td>2818.0</td>\n",
       "      <td>1.00</td>\n",
       "    </tr>\n",
       "    <tr>\n",
       "      <th>1|group[cat_2, group_96]</th>\n",
       "      <td>0.201</td>\n",
       "      <td>0.416</td>\n",
       "      <td>-0.599</td>\n",
       "      <td>0.956</td>\n",
       "      <td>0.005</td>\n",
       "      <td>0.007</td>\n",
       "      <td>5844.0</td>\n",
       "      <td>2864.0</td>\n",
       "      <td>1.00</td>\n",
       "    </tr>\n",
       "    <tr>\n",
       "      <th>1|group[cat_2, group_97]</th>\n",
       "      <td>0.601</td>\n",
       "      <td>0.383</td>\n",
       "      <td>-0.133</td>\n",
       "      <td>1.301</td>\n",
       "      <td>0.005</td>\n",
       "      <td>0.006</td>\n",
       "      <td>5907.0</td>\n",
       "      <td>3232.0</td>\n",
       "      <td>1.00</td>\n",
       "    </tr>\n",
       "    <tr>\n",
       "      <th>1|group[cat_2, group_98]</th>\n",
       "      <td>0.041</td>\n",
       "      <td>0.351</td>\n",
       "      <td>-0.646</td>\n",
       "      <td>0.678</td>\n",
       "      <td>0.004</td>\n",
       "      <td>0.006</td>\n",
       "      <td>6649.0</td>\n",
       "      <td>3281.0</td>\n",
       "      <td>1.00</td>\n",
       "    </tr>\n",
       "    <tr>\n",
       "      <th>1|group[cat_2, group_99]</th>\n",
       "      <td>0.407</td>\n",
       "      <td>0.321</td>\n",
       "      <td>-0.175</td>\n",
       "      <td>1.025</td>\n",
       "      <td>0.004</td>\n",
       "      <td>0.005</td>\n",
       "      <td>5747.0</td>\n",
       "      <td>3102.0</td>\n",
       "      <td>1.00</td>\n",
       "    </tr>\n",
       "  </tbody>\n",
       "</table>\n",
       "<p>203 rows × 9 columns</p>\n",
       "</div>"
      ],
      "text/plain": [
       "                           mean     sd  hdi_3%  hdi_97%  mcse_mean  mcse_sd  \\\n",
       "Intercept[cat_1]         -0.078  0.081  -0.223    0.077      0.002    0.001   \n",
       "Intercept[cat_2]          0.102  0.079  -0.045    0.253      0.002    0.001   \n",
       "1|group_sigma             0.651  0.055   0.555    0.757      0.002    0.001   \n",
       "1|group[cat_1, group_0]   0.172  0.359  -0.521    0.820      0.004    0.006   \n",
       "1|group[cat_1, group_1]   0.046  0.416  -0.741    0.828      0.005    0.008   \n",
       "...                         ...    ...     ...      ...        ...      ...   \n",
       "1|group[cat_2, group_95]  0.751  0.338   0.146    1.416      0.004    0.006   \n",
       "1|group[cat_2, group_96]  0.201  0.416  -0.599    0.956      0.005    0.007   \n",
       "1|group[cat_2, group_97]  0.601  0.383  -0.133    1.301      0.005    0.006   \n",
       "1|group[cat_2, group_98]  0.041  0.351  -0.646    0.678      0.004    0.006   \n",
       "1|group[cat_2, group_99]  0.407  0.321  -0.175    1.025      0.004    0.005   \n",
       "\n",
       "                          ess_bulk  ess_tail  r_hat  \n",
       "Intercept[cat_1]            2372.0    2643.0   1.00  \n",
       "Intercept[cat_2]            2381.0    2769.0   1.00  \n",
       "1|group_sigma               1202.0    1713.0   1.01  \n",
       "1|group[cat_1, group_0]     6905.0    2647.0   1.00  \n",
       "1|group[cat_1, group_1]     6448.0    2696.0   1.00  \n",
       "...                            ...       ...    ...  \n",
       "1|group[cat_2, group_95]    5802.0    2818.0   1.00  \n",
       "1|group[cat_2, group_96]    5844.0    2864.0   1.00  \n",
       "1|group[cat_2, group_97]    5907.0    3232.0   1.00  \n",
       "1|group[cat_2, group_98]    6649.0    3281.0   1.00  \n",
       "1|group[cat_2, group_99]    5747.0    3102.0   1.00  \n",
       "\n",
       "[203 rows x 9 columns]"
      ]
     },
     "execution_count": 7,
     "metadata": {},
     "output_type": "execute_result"
    }
   ],
   "source": [
    " \n",
    "az.summary(results)"
   ]
  },
  {
   "cell_type": "markdown",
   "id": "518ffd50",
   "metadata": {},
   "source": [
    "The model we really want looks like this:"
   ]
  },
  {
   "cell_type": "code",
   "execution_count": 4,
   "id": "0f0b8a8d",
   "metadata": {},
   "outputs": [
    {
     "name": "stderr",
     "output_type": "stream",
     "text": [
      "Initializing NUTS using jitter+adapt_diag...\n",
      "Multiprocess sampling (4 chains in 4 jobs)\n",
      "NUTS: [chol_cov, z, mean_effect]\n"
     ]
    },
    {
     "data": {
      "application/vnd.jupyter.widget-view+json": {
       "model_id": "f5b580e11e26430daf4fd18bac74effc",
       "version_major": 2,
       "version_minor": 0
      },
      "text/plain": [
       "Output()"
      ]
     },
     "metadata": {},
     "output_type": "display_data"
    },
    {
     "data": {
      "text/html": [
       "<pre style=\"white-space:pre;overflow-x:auto;line-height:normal;font-family:Menlo,'DejaVu Sans Mono',consolas,'Courier New',monospace\"></pre>\n"
      ],
      "text/plain": []
     },
     "metadata": {},
     "output_type": "display_data"
    },
    {
     "name": "stderr",
     "output_type": "stream",
     "text": [
      "Sampling 4 chains for 1_000 tune and 1_000 draw iterations (4_000 + 4_000 draws total) took 49 seconds.\n",
      "There were 2 divergences after tuning. Increase `target_accept` or reparameterize.\n"
     ]
    }
   ],
   "source": [
    "# categorical model\n",
    "num_obs = simulated_df.shape[0]\n",
    "\n",
    "with pm.Model() as model:\n",
    "     \n",
    "    group_idx = pm.Data(\"group_idx\", simulated_df[\"group_id\"].values)\n",
    "    cat_obs = pm.Data(\"cat_obs\", simulated_df[\"cat_id\"].values)\n",
    "    sd_dist = pm.HalfStudentT.dist(nu=3, sigma=10)\n",
    "    \n",
    "    chol_cov,_, _ = pm.LKJCholeskyCov(\n",
    "        \"chol_cov\",\n",
    "        n=num_categories - 1,\n",
    "        eta=1,\n",
    "         sd_dist=sd_dist\n",
    "    )\n",
    "\n",
    "    z = pm.Normal(\n",
    "        \"z\",\n",
    "        0, 1,\n",
    "        shape=(num_groups, num_categories - 1)\n",
    "    )\n",
    "\n",
    "    group_effects_m = pm.Deterministic(\n",
    "        \"group_effects\",\n",
    "        pt.dot(z, chol_cov.T), \n",
    "    )\n",
    "\n",
    "    mean_effect = pm.Normal(\n",
    "        \"mean_effect\",\n",
    "        0, 1,\n",
    "        shape=(num_categories - 1)\n",
    "    )\n",
    "\n",
    "\n",
    "    group_eff_obs = group_effects_m[group_idx, :]  # (num_obs, num_categories - 1)\n",
    "\n",
    "    logits = pt.concatenate(\n",
    "        [pt.zeros((num_obs, 1)), group_eff_obs + mean_effect],\n",
    "        axis=1\n",
    "    ) \n",
    "\n",
    "    \n",
    "    pm.Categorical(\"obs\", logit_p=logits, observed=cat_obs)\n",
    "\n",
    "    trace = pm.sample()\n"
   ]
  },
  {
   "cell_type": "code",
   "execution_count": 5,
   "id": "2e2f378c",
   "metadata": {},
   "outputs": [
    {
     "name": "stderr",
     "output_type": "stream",
     "text": [
      "c:\\Users\\rjljr\\miniconda3\\envs\\multinom\\Lib\\site-packages\\arviz\\stats\\diagnostics.py:596: RuntimeWarning: invalid value encountered in scalar divide\n",
      "  (between_chain_variance / within_chain_variance + num_samples - 1) / (num_samples)\n",
      "c:\\Users\\rjljr\\miniconda3\\envs\\multinom\\Lib\\site-packages\\arviz\\stats\\diagnostics.py:991: RuntimeWarning: invalid value encountered in scalar divide\n",
      "  varsd = varvar / evar / 4\n"
     ]
    },
    {
     "data": {
      "application/vnd.microsoft.datawrangler.viewer.v0+json": {
       "columns": [
        {
         "name": "index",
         "rawType": "object",
         "type": "string"
        },
        {
         "name": "mean",
         "rawType": "float64",
         "type": "float"
        },
        {
         "name": "sd",
         "rawType": "float64",
         "type": "float"
        },
        {
         "name": "hdi_3%",
         "rawType": "float64",
         "type": "float"
        },
        {
         "name": "hdi_97%",
         "rawType": "float64",
         "type": "float"
        },
        {
         "name": "mcse_mean",
         "rawType": "float64",
         "type": "float"
        },
        {
         "name": "mcse_sd",
         "rawType": "float64",
         "type": "float"
        },
        {
         "name": "ess_bulk",
         "rawType": "float64",
         "type": "float"
        },
        {
         "name": "ess_tail",
         "rawType": "float64",
         "type": "float"
        },
        {
         "name": "r_hat",
         "rawType": "float64",
         "type": "float"
        }
       ],
       "conversionMethod": "pd.DataFrame",
       "ref": "e0c2e2e0-3632-4ede-ae2f-bb974833dee1",
       "rows": [
        [
         "mean_effect[0]",
         "-0.005",
         "0.064",
         "-0.124",
         "0.116",
         "0.001",
         "0.001",
         "3061.0",
         "2810.0",
         "1.0"
        ],
        [
         "mean_effect[1]",
         "0.106",
         "0.113",
         "-0.105",
         "0.317",
         "0.002",
         "0.002",
         "3329.0",
         "2786.0",
         "1.0"
        ],
        [
         "chol_cov[0]",
         "0.4",
         "0.071",
         "0.27",
         "0.534",
         "0.002",
         "0.001",
         "1691.0",
         "3012.0",
         "1.0"
        ],
        [
         "chol_cov[1]",
         "0.781",
         "0.137",
         "0.529",
         "1.044",
         "0.005",
         "0.003",
         "886.0",
         "1420.0",
         "1.0"
        ],
        [
         "chol_cov[2]",
         "0.566",
         "0.13",
         "0.322",
         "0.814",
         "0.005",
         "0.004",
         "784.0",
         "933.0",
         "1.0"
        ],
        [
         "chol_cov_corr[0, 0]",
         "1.0",
         "0.0",
         "1.0",
         "1.0",
         "0.0",
         null,
         "4000.0",
         "4000.0",
         null
        ],
        [
         "chol_cov_corr[0, 1]",
         "0.796",
         "0.1",
         "0.619",
         "0.981",
         "0.004",
         "0.003",
         "746.0",
         "937.0",
         "1.0"
        ],
        [
         "chol_cov_corr[1, 0]",
         "0.796",
         "0.1",
         "0.619",
         "0.981",
         "0.004",
         "0.003",
         "746.0",
         "937.0",
         "1.0"
        ],
        [
         "chol_cov_corr[1, 1]",
         "1.0",
         "0.0",
         "1.0",
         "1.0",
         "0.0",
         "0.0",
         "3757.0",
         "3539.0",
         "1.0"
        ],
        [
         "chol_cov_stds[0]",
         "0.4",
         "0.071",
         "0.27",
         "0.534",
         "0.002",
         "0.001",
         "1691.0",
         "3012.0",
         "1.0"
        ],
        [
         "chol_cov_stds[1]",
         "0.979",
         "0.093",
         "0.812",
         "1.155",
         "0.003",
         "0.001",
         "1203.0",
         "2476.0",
         "1.0"
        ]
       ],
       "shape": {
        "columns": 9,
        "rows": 11
       }
      },
      "text/html": [
       "<div>\n",
       "<style scoped>\n",
       "    .dataframe tbody tr th:only-of-type {\n",
       "        vertical-align: middle;\n",
       "    }\n",
       "\n",
       "    .dataframe tbody tr th {\n",
       "        vertical-align: top;\n",
       "    }\n",
       "\n",
       "    .dataframe thead th {\n",
       "        text-align: right;\n",
       "    }\n",
       "</style>\n",
       "<table border=\"1\" class=\"dataframe\">\n",
       "  <thead>\n",
       "    <tr style=\"text-align: right;\">\n",
       "      <th></th>\n",
       "      <th>mean</th>\n",
       "      <th>sd</th>\n",
       "      <th>hdi_3%</th>\n",
       "      <th>hdi_97%</th>\n",
       "      <th>mcse_mean</th>\n",
       "      <th>mcse_sd</th>\n",
       "      <th>ess_bulk</th>\n",
       "      <th>ess_tail</th>\n",
       "      <th>r_hat</th>\n",
       "    </tr>\n",
       "  </thead>\n",
       "  <tbody>\n",
       "    <tr>\n",
       "      <th>mean_effect[0]</th>\n",
       "      <td>-0.005</td>\n",
       "      <td>0.064</td>\n",
       "      <td>-0.124</td>\n",
       "      <td>0.116</td>\n",
       "      <td>0.001</td>\n",
       "      <td>0.001</td>\n",
       "      <td>3061.0</td>\n",
       "      <td>2810.0</td>\n",
       "      <td>1.0</td>\n",
       "    </tr>\n",
       "    <tr>\n",
       "      <th>mean_effect[1]</th>\n",
       "      <td>0.106</td>\n",
       "      <td>0.113</td>\n",
       "      <td>-0.105</td>\n",
       "      <td>0.317</td>\n",
       "      <td>0.002</td>\n",
       "      <td>0.002</td>\n",
       "      <td>3329.0</td>\n",
       "      <td>2786.0</td>\n",
       "      <td>1.0</td>\n",
       "    </tr>\n",
       "    <tr>\n",
       "      <th>chol_cov[0]</th>\n",
       "      <td>0.400</td>\n",
       "      <td>0.071</td>\n",
       "      <td>0.270</td>\n",
       "      <td>0.534</td>\n",
       "      <td>0.002</td>\n",
       "      <td>0.001</td>\n",
       "      <td>1691.0</td>\n",
       "      <td>3012.0</td>\n",
       "      <td>1.0</td>\n",
       "    </tr>\n",
       "    <tr>\n",
       "      <th>chol_cov[1]</th>\n",
       "      <td>0.781</td>\n",
       "      <td>0.137</td>\n",
       "      <td>0.529</td>\n",
       "      <td>1.044</td>\n",
       "      <td>0.005</td>\n",
       "      <td>0.003</td>\n",
       "      <td>886.0</td>\n",
       "      <td>1420.0</td>\n",
       "      <td>1.0</td>\n",
       "    </tr>\n",
       "    <tr>\n",
       "      <th>chol_cov[2]</th>\n",
       "      <td>0.566</td>\n",
       "      <td>0.130</td>\n",
       "      <td>0.322</td>\n",
       "      <td>0.814</td>\n",
       "      <td>0.005</td>\n",
       "      <td>0.004</td>\n",
       "      <td>784.0</td>\n",
       "      <td>933.0</td>\n",
       "      <td>1.0</td>\n",
       "    </tr>\n",
       "    <tr>\n",
       "      <th>chol_cov_corr[0, 0]</th>\n",
       "      <td>1.000</td>\n",
       "      <td>0.000</td>\n",
       "      <td>1.000</td>\n",
       "      <td>1.000</td>\n",
       "      <td>0.000</td>\n",
       "      <td>NaN</td>\n",
       "      <td>4000.0</td>\n",
       "      <td>4000.0</td>\n",
       "      <td>NaN</td>\n",
       "    </tr>\n",
       "    <tr>\n",
       "      <th>chol_cov_corr[0, 1]</th>\n",
       "      <td>0.796</td>\n",
       "      <td>0.100</td>\n",
       "      <td>0.619</td>\n",
       "      <td>0.981</td>\n",
       "      <td>0.004</td>\n",
       "      <td>0.003</td>\n",
       "      <td>746.0</td>\n",
       "      <td>937.0</td>\n",
       "      <td>1.0</td>\n",
       "    </tr>\n",
       "    <tr>\n",
       "      <th>chol_cov_corr[1, 0]</th>\n",
       "      <td>0.796</td>\n",
       "      <td>0.100</td>\n",
       "      <td>0.619</td>\n",
       "      <td>0.981</td>\n",
       "      <td>0.004</td>\n",
       "      <td>0.003</td>\n",
       "      <td>746.0</td>\n",
       "      <td>937.0</td>\n",
       "      <td>1.0</td>\n",
       "    </tr>\n",
       "    <tr>\n",
       "      <th>chol_cov_corr[1, 1]</th>\n",
       "      <td>1.000</td>\n",
       "      <td>0.000</td>\n",
       "      <td>1.000</td>\n",
       "      <td>1.000</td>\n",
       "      <td>0.000</td>\n",
       "      <td>0.000</td>\n",
       "      <td>3757.0</td>\n",
       "      <td>3539.0</td>\n",
       "      <td>1.0</td>\n",
       "    </tr>\n",
       "    <tr>\n",
       "      <th>chol_cov_stds[0]</th>\n",
       "      <td>0.400</td>\n",
       "      <td>0.071</td>\n",
       "      <td>0.270</td>\n",
       "      <td>0.534</td>\n",
       "      <td>0.002</td>\n",
       "      <td>0.001</td>\n",
       "      <td>1691.0</td>\n",
       "      <td>3012.0</td>\n",
       "      <td>1.0</td>\n",
       "    </tr>\n",
       "    <tr>\n",
       "      <th>chol_cov_stds[1]</th>\n",
       "      <td>0.979</td>\n",
       "      <td>0.093</td>\n",
       "      <td>0.812</td>\n",
       "      <td>1.155</td>\n",
       "      <td>0.003</td>\n",
       "      <td>0.001</td>\n",
       "      <td>1203.0</td>\n",
       "      <td>2476.0</td>\n",
       "      <td>1.0</td>\n",
       "    </tr>\n",
       "  </tbody>\n",
       "</table>\n",
       "</div>"
      ],
      "text/plain": [
       "                      mean     sd  hdi_3%  hdi_97%  mcse_mean  mcse_sd  \\\n",
       "mean_effect[0]      -0.005  0.064  -0.124    0.116      0.001    0.001   \n",
       "mean_effect[1]       0.106  0.113  -0.105    0.317      0.002    0.002   \n",
       "chol_cov[0]          0.400  0.071   0.270    0.534      0.002    0.001   \n",
       "chol_cov[1]          0.781  0.137   0.529    1.044      0.005    0.003   \n",
       "chol_cov[2]          0.566  0.130   0.322    0.814      0.005    0.004   \n",
       "chol_cov_corr[0, 0]  1.000  0.000   1.000    1.000      0.000      NaN   \n",
       "chol_cov_corr[0, 1]  0.796  0.100   0.619    0.981      0.004    0.003   \n",
       "chol_cov_corr[1, 0]  0.796  0.100   0.619    0.981      0.004    0.003   \n",
       "chol_cov_corr[1, 1]  1.000  0.000   1.000    1.000      0.000    0.000   \n",
       "chol_cov_stds[0]     0.400  0.071   0.270    0.534      0.002    0.001   \n",
       "chol_cov_stds[1]     0.979  0.093   0.812    1.155      0.003    0.001   \n",
       "\n",
       "                     ess_bulk  ess_tail  r_hat  \n",
       "mean_effect[0]         3061.0    2810.0    1.0  \n",
       "mean_effect[1]         3329.0    2786.0    1.0  \n",
       "chol_cov[0]            1691.0    3012.0    1.0  \n",
       "chol_cov[1]             886.0    1420.0    1.0  \n",
       "chol_cov[2]             784.0     933.0    1.0  \n",
       "chol_cov_corr[0, 0]    4000.0    4000.0    NaN  \n",
       "chol_cov_corr[0, 1]     746.0     937.0    1.0  \n",
       "chol_cov_corr[1, 0]     746.0     937.0    1.0  \n",
       "chol_cov_corr[1, 1]    3757.0    3539.0    1.0  \n",
       "chol_cov_stds[0]       1691.0    3012.0    1.0  \n",
       "chol_cov_stds[1]       1203.0    2476.0    1.0  "
      ]
     },
     "execution_count": 5,
     "metadata": {},
     "output_type": "execute_result"
    }
   ],
   "source": [
    "az.summary(trace, var_names = [\"~z\",\"~group_effects\"])"
   ]
  },
  {
   "cell_type": "code",
   "execution_count": 6,
   "id": "edc03536",
   "metadata": {},
   "outputs": [
    {
     "name": "stdout",
     "output_type": "stream",
     "text": [
      "[[0.16521333 0.31493019]\n",
      " [0.31493019 0.96695628]]\n"
     ]
    }
   ],
   "source": [
    "dat = az.extract(trace, group = 'posterior', var_names = [\"chol_cov_corr\",\"chol_cov_stds\"], combined = True)\n",
    "corr = dat[\"chol_cov_corr\"].values\n",
    "stds = dat[\"chol_cov_stds\"].values[:,None,:]\n",
    "covariances =  corr * stds * stds.transpose(1, 0, 2) \n",
    "mean_covariance = np.mean(covariances, axis=2)\n",
    "\n",
    "print(mean_covariance)"
   ]
  },
  {
   "cell_type": "code",
   "execution_count": 11,
   "id": "5a11e44b",
   "metadata": {},
   "outputs": [
    {
     "data": {
      "image/png": "[encoded data removed]",
      "text/plain": [
       "<Figure size 1000x400 with 2 Axes>"
      ]
     },
     "metadata": {},
     "output_type": "display_data"
    }
   ],
   "source": [
    " \n",
    "true_effects = group_effects[:, 1:]  # exclude baseline logits\n",
    "\n",
    " \n",
    "posterior_means = trace.posterior[\"group_effects\"].mean(dim=[\"chain\", \"draw\"]).values\n",
    "\n",
    "import matplotlib.pyplot as plt\n",
    "\n",
    "fig, axes = plt.subplots(1, 2, figsize=(10, 4))\n",
    "\n",
    "for i in range(2):\n",
    "    axes[i].scatter(true_effects[:, i], posterior_means[:, i])\n",
    "    axes[i].set_xlabel(\"True Logits\")\n",
    "    axes[i].set_ylabel(\"Posterior Means\")\n",
    "    axes[i].set_title(f\"Category {i+1}\")\n",
    "\n",
    "plt.tight_layout()\n",
    "plt.show()\n"
   ]
  },
  {
   "cell_type": "markdown",
   "id": "4b41736b",
   "metadata": {},
   "source": [
    "## Group into aggregated data"
   ]
  },
  {
   "cell_type": "code",
   "execution_count": 8,
   "id": "9f6229f7",
   "metadata": {},
   "outputs": [
    {
     "data": {
      "application/vnd.microsoft.datawrangler.viewer.v0+json": {
       "columns": [
        {
         "name": "index",
         "rawType": "int64",
         "type": "integer"
        },
        {
         "name": "group_id",
         "rawType": "int64",
         "type": "integer"
        },
        {
         "name": "cat_0",
         "rawType": "int64",
         "type": "integer"
        },
        {
         "name": "cat_1",
         "rawType": "int64",
         "type": "integer"
        },
        {
         "name": "cat_2",
         "rawType": "int64",
         "type": "integer"
        },
        {
         "name": "total",
         "rawType": "int64",
         "type": "integer"
        }
       ],
       "conversionMethod": "pd.DataFrame",
       "ref": "dfa24b39-4c17-4f46-9d83-774988b687ca",
       "rows": [
        [
         "28",
         "28",
         "15",
         "11",
         "14",
         "40"
        ],
        [
         "50",
         "50",
         "8",
         "6",
         "3",
         "17"
        ],
        [
         "3",
         "3",
         "9",
         "10",
         "14",
         "33"
        ],
        [
         "98",
         "98",
         "10",
         "11",
         "12",
         "33"
        ],
        [
         "89",
         "89",
         "11",
         "7",
         "7",
         "25"
        ],
        [
         "90",
         "90",
         "14",
         "12",
         "7",
         "33"
        ],
        [
         "6",
         "6",
         "9",
         "4",
         "16",
         "29"
        ],
        [
         "59",
         "59",
         "0",
         "9",
         "19",
         "28"
        ],
        [
         "5",
         "5",
         "8",
         "12",
         "13",
         "33"
        ],
        [
         "76",
         "76",
         "14",
         "9",
         "2",
         "25"
        ],
        [
         "78",
         "78",
         "10",
         "8",
         "7",
         "25"
        ],
        [
         "16",
         "16",
         "10",
         "7",
         "3",
         "20"
        ],
        [
         "95",
         "95",
         "7",
         "8",
         "22",
         "37"
        ],
        [
         "64",
         "64",
         "10",
         "10",
         "4",
         "24"
        ],
        [
         "33",
         "33",
         "16",
         "5",
         "7",
         "28"
        ],
        [
         "36",
         "36",
         "17",
         "3",
         "6",
         "26"
        ],
        [
         "18",
         "18",
         "5",
         "8",
         "18",
         "31"
        ],
        [
         "24",
         "24",
         "10",
         "8",
         "21",
         "39"
        ],
        [
         "26",
         "26",
         "14",
         "10",
         "11",
         "35"
        ],
        [
         "60",
         "60",
         "17",
         "7",
         "6",
         "30"
        ]
       ],
       "shape": {
        "columns": 5,
        "rows": 20
       }
      },
      "text/html": [
       "<div>\n",
       "<style scoped>\n",
       "    .dataframe tbody tr th:only-of-type {\n",
       "        vertical-align: middle;\n",
       "    }\n",
       "\n",
       "    .dataframe tbody tr th {\n",
       "        vertical-align: top;\n",
       "    }\n",
       "\n",
       "    .dataframe thead th {\n",
       "        text-align: right;\n",
       "    }\n",
       "</style>\n",
       "<table border=\"1\" class=\"dataframe\">\n",
       "  <thead>\n",
       "    <tr style=\"text-align: right;\">\n",
       "      <th>cat</th>\n",
       "      <th>group_id</th>\n",
       "      <th>cat_0</th>\n",
       "      <th>cat_1</th>\n",
       "      <th>cat_2</th>\n",
       "      <th>total</th>\n",
       "    </tr>\n",
       "  </thead>\n",
       "  <tbody>\n",
       "    <tr>\n",
       "      <th>28</th>\n",
       "      <td>28</td>\n",
       "      <td>15</td>\n",
       "      <td>11</td>\n",
       "      <td>14</td>\n",
       "      <td>40</td>\n",
       "    </tr>\n",
       "    <tr>\n",
       "      <th>50</th>\n",
       "      <td>50</td>\n",
       "      <td>8</td>\n",
       "      <td>6</td>\n",
       "      <td>3</td>\n",
       "      <td>17</td>\n",
       "    </tr>\n",
       "    <tr>\n",
       "      <th>3</th>\n",
       "      <td>3</td>\n",
       "      <td>9</td>\n",
       "      <td>10</td>\n",
       "      <td>14</td>\n",
       "      <td>33</td>\n",
       "    </tr>\n",
       "    <tr>\n",
       "      <th>98</th>\n",
       "      <td>98</td>\n",
       "      <td>10</td>\n",
       "      <td>11</td>\n",
       "      <td>12</td>\n",
       "      <td>33</td>\n",
       "    </tr>\n",
       "    <tr>\n",
       "      <th>89</th>\n",
       "      <td>89</td>\n",
       "      <td>11</td>\n",
       "      <td>7</td>\n",
       "      <td>7</td>\n",
       "      <td>25</td>\n",
       "    </tr>\n",
       "    <tr>\n",
       "      <th>90</th>\n",
       "      <td>90</td>\n",
       "      <td>14</td>\n",
       "      <td>12</td>\n",
       "      <td>7</td>\n",
       "      <td>33</td>\n",
       "    </tr>\n",
       "    <tr>\n",
       "      <th>6</th>\n",
       "      <td>6</td>\n",
       "      <td>9</td>\n",
       "      <td>4</td>\n",
       "      <td>16</td>\n",
       "      <td>29</td>\n",
       "    </tr>\n",
       "    <tr>\n",
       "      <th>59</th>\n",
       "      <td>59</td>\n",
       "      <td>0</td>\n",
       "      <td>9</td>\n",
       "      <td>19</td>\n",
       "      <td>28</td>\n",
       "    </tr>\n",
       "    <tr>\n",
       "      <th>5</th>\n",
       "      <td>5</td>\n",
       "      <td>8</td>\n",
       "      <td>12</td>\n",
       "      <td>13</td>\n",
       "      <td>33</td>\n",
       "    </tr>\n",
       "    <tr>\n",
       "      <th>76</th>\n",
       "      <td>76</td>\n",
       "      <td>14</td>\n",
       "      <td>9</td>\n",
       "      <td>2</td>\n",
       "      <td>25</td>\n",
       "    </tr>\n",
       "    <tr>\n",
       "      <th>78</th>\n",
       "      <td>78</td>\n",
       "      <td>10</td>\n",
       "      <td>8</td>\n",
       "      <td>7</td>\n",
       "      <td>25</td>\n",
       "    </tr>\n",
       "    <tr>\n",
       "      <th>16</th>\n",
       "      <td>16</td>\n",
       "      <td>10</td>\n",
       "      <td>7</td>\n",
       "      <td>3</td>\n",
       "      <td>20</td>\n",
       "    </tr>\n",
       "    <tr>\n",
       "      <th>95</th>\n",
       "      <td>95</td>\n",
       "      <td>7</td>\n",
       "      <td>8</td>\n",
       "      <td>22</td>\n",
       "      <td>37</td>\n",
       "    </tr>\n",
       "    <tr>\n",
       "      <th>64</th>\n",
       "      <td>64</td>\n",
       "      <td>10</td>\n",
       "      <td>10</td>\n",
       "      <td>4</td>\n",
       "      <td>24</td>\n",
       "    </tr>\n",
       "    <tr>\n",
       "      <th>33</th>\n",
       "      <td>33</td>\n",
       "      <td>16</td>\n",
       "      <td>5</td>\n",
       "      <td>7</td>\n",
       "      <td>28</td>\n",
       "    </tr>\n",
       "    <tr>\n",
       "      <th>36</th>\n",
       "      <td>36</td>\n",
       "      <td>17</td>\n",
       "      <td>3</td>\n",
       "      <td>6</td>\n",
       "      <td>26</td>\n",
       "    </tr>\n",
       "    <tr>\n",
       "      <th>18</th>\n",
       "      <td>18</td>\n",
       "      <td>5</td>\n",
       "      <td>8</td>\n",
       "      <td>18</td>\n",
       "      <td>31</td>\n",
       "    </tr>\n",
       "    <tr>\n",
       "      <th>24</th>\n",
       "      <td>24</td>\n",
       "      <td>10</td>\n",
       "      <td>8</td>\n",
       "      <td>21</td>\n",
       "      <td>39</td>\n",
       "    </tr>\n",
       "    <tr>\n",
       "      <th>26</th>\n",
       "      <td>26</td>\n",
       "      <td>14</td>\n",
       "      <td>10</td>\n",
       "      <td>11</td>\n",
       "      <td>35</td>\n",
       "    </tr>\n",
       "    <tr>\n",
       "      <th>60</th>\n",
       "      <td>60</td>\n",
       "      <td>17</td>\n",
       "      <td>7</td>\n",
       "      <td>6</td>\n",
       "      <td>30</td>\n",
       "    </tr>\n",
       "  </tbody>\n",
       "</table>\n",
       "</div>"
      ],
      "text/plain": [
       "cat  group_id  cat_0  cat_1  cat_2  total\n",
       "28         28     15     11     14     40\n",
       "50         50      8      6      3     17\n",
       "3           3      9     10     14     33\n",
       "98         98     10     11     12     33\n",
       "89         89     11      7      7     25\n",
       "90         90     14     12      7     33\n",
       "6           6      9      4     16     29\n",
       "59         59      0      9     19     28\n",
       "5           5      8     12     13     33\n",
       "76         76     14      9      2     25\n",
       "78         78     10      8      7     25\n",
       "16         16     10      7      3     20\n",
       "95         95      7      8     22     37\n",
       "64         64     10     10      4     24\n",
       "33         33     16      5      7     28\n",
       "36         36     17      3      6     26\n",
       "18         18      5      8     18     31\n",
       "24         24     10      8     21     39\n",
       "26         26     14     10     11     35\n",
       "60         60     17      7      6     30"
      ]
     },
     "execution_count": 8,
     "metadata": {},
     "output_type": "execute_result"
    }
   ],
   "source": [
    "agg_df = (\n",
    "    simulated_df[[\"group_id\",\"cat\"]]\n",
    "        .groupby([\"group_id\",\"cat\"])\n",
    "        .size()\n",
    "        .reset_index()\n",
    "        .pivot(index = \"group_id\", columns = \"cat\", values = 0)\n",
    "        .fillna(0)\n",
    "        .assign(total = lambda x:x.cat_0+ x.cat_1 + x.cat_2)\n",
    "        .reset_index() # pandas please\n",
    "\n",
    ").astype(int)\n",
    "agg_df.sample(20)"
   ]
  },
  {
   "cell_type": "markdown",
   "id": "a02ba3dd",
   "metadata": {},
   "source": [
    "Bambi doesnt yet support multinomial logistic regression at all, but we can do this in pymc."
   ]
  },
  {
   "cell_type": "code",
   "execution_count": 9,
   "id": "d22096a2",
   "metadata": {},
   "outputs": [
    {
     "name": "stderr",
     "output_type": "stream",
     "text": [
      "Initializing NUTS using jitter+adapt_diag...\n",
      "Multiprocess sampling (4 chains in 4 jobs)\n",
      "NUTS: [chol_cov, z, mean_effect]\n"
     ]
    },
    {
     "data": {
      "application/vnd.jupyter.widget-view+json": {
       "model_id": "aaf62b5f746046b49b4a1973f193954f",
       "version_major": 2,
       "version_minor": 0
      },
      "text/plain": [
       "Output()"
      ]
     },
     "metadata": {},
     "output_type": "display_data"
    },
    {
     "data": {
      "text/html": [
       "<pre style=\"white-space:pre;overflow-x:auto;line-height:normal;font-family:Menlo,'DejaVu Sans Mono',consolas,'Courier New',monospace\"></pre>\n"
      ],
      "text/plain": []
     },
     "metadata": {},
     "output_type": "display_data"
    },
    {
     "name": "stderr",
     "output_type": "stream",
     "text": [
      "Sampling 4 chains for 1_000 tune and 1_000 draw iterations (4_000 + 4_000 draws total) took 23 seconds.\n",
      "There were 2 divergences after tuning. Increase `target_accept` or reparameterize.\n"
     ]
    }
   ],
   "source": [
    " \n",
    "\n",
    "with pm.Model() as model:\n",
    "     \n",
    "    group_idx = pm.Data(\"group_idx\", agg_df[\"group_id\"].values)\n",
    "    count_obs = pm.Data(\"count_obs\", agg_df[[\"cat_0\",\"cat_1\",\"cat_2\"]].values) # 3x num_groups\n",
    "    total_obs = pm.Data(\"total_obs\", agg_df[\"total\"].values) # num_groups\n",
    "\n",
    "\n",
    "    sd_dist = pm.HalfStudentT.dist(nu=3, sigma=10)\n",
    "    \n",
    "    chol_cov,_, _ = pm.LKJCholeskyCov(\n",
    "        \"chol_cov\",\n",
    "        n=num_categories - 1,\n",
    "        eta=1,\n",
    "         sd_dist=sd_dist\n",
    "    )\n",
    "\n",
    "    z = pm.Normal(\n",
    "        \"z\",\n",
    "        0, 1,\n",
    "        shape=(num_groups, num_categories - 1)\n",
    "    )\n",
    "\n",
    "    group_effects_m = pm.Deterministic(\n",
    "        \"group_effects\",\n",
    "        pt.dot(z, chol_cov.T), \n",
    "    )\n",
    "\n",
    "    mean_effect = pm.Normal(\n",
    "        \"mean_effect\",\n",
    "        0, 1,\n",
    "        shape=(num_categories - 1)\n",
    "    )\n",
    "\n",
    "\n",
    "    group_eff_obs = group_effects_m[group_idx, :]  # (num_groups, num_categories - 1)\n",
    "\n",
    "    logits = pt.concatenate(\n",
    "        [pt.zeros((num_groups, 1)), group_eff_obs + mean_effect],\n",
    "        axis=1\n",
    "    ) \n",
    "\n",
    "    # Pymc doesnt support logit_p in multinomial\n",
    "    p = pm.math.softmax(logits, axis=1)   \n",
    "\n",
    "    \n",
    "    pm.Multinomial(\"obs\", p=p, n=total_obs , observed=count_obs)\n",
    "\n",
    "    trace = pm.sample(idata_kwargs={\"log_likelihood\": True})\n"
   ]
  },
  {
   "cell_type": "code",
   "execution_count": 10,
   "id": "825b4323",
   "metadata": {},
   "outputs": [
    {
     "name": "stderr",
     "output_type": "stream",
     "text": [
      "c:\\Users\\rjljr\\miniconda3\\envs\\multinom\\Lib\\site-packages\\arviz\\stats\\diagnostics.py:596: RuntimeWarning: invalid value encountered in scalar divide\n",
      "  (between_chain_variance / within_chain_variance + num_samples - 1) / (num_samples)\n",
      "c:\\Users\\rjljr\\miniconda3\\envs\\multinom\\Lib\\site-packages\\arviz\\stats\\diagnostics.py:991: RuntimeWarning: invalid value encountered in scalar divide\n",
      "  varsd = varvar / evar / 4\n"
     ]
    },
    {
     "data": {
      "application/vnd.microsoft.datawrangler.viewer.v0+json": {
       "columns": [
        {
         "name": "index",
         "rawType": "object",
         "type": "string"
        },
        {
         "name": "mean",
         "rawType": "float64",
         "type": "float"
        },
        {
         "name": "sd",
         "rawType": "float64",
         "type": "float"
        },
        {
         "name": "hdi_3%",
         "rawType": "float64",
         "type": "float"
        },
        {
         "name": "hdi_97%",
         "rawType": "float64",
         "type": "float"
        },
        {
         "name": "mcse_mean",
         "rawType": "float64",
         "type": "float"
        },
        {
         "name": "mcse_sd",
         "rawType": "float64",
         "type": "float"
        },
        {
         "name": "ess_bulk",
         "rawType": "float64",
         "type": "float"
        },
        {
         "name": "ess_tail",
         "rawType": "float64",
         "type": "float"
        },
        {
         "name": "r_hat",
         "rawType": "float64",
         "type": "float"
        }
       ],
       "conversionMethod": "pd.DataFrame",
       "ref": "8e3f5121-b02a-4ebd-935b-a488285deea0",
       "rows": [
        [
         "mean_effect[0]",
         "-0.006",
         "0.062",
         "-0.126",
         "0.106",
         "0.001",
         "0.001",
         "3074.0",
         "2634.0",
         "1.0"
        ],
        [
         "mean_effect[1]",
         "0.107",
         "0.109",
         "-0.079",
         "0.339",
         "0.002",
         "0.002",
         "3024.0",
         "2503.0",
         "1.0"
        ],
        [
         "chol_cov[0]",
         "0.396",
         "0.071",
         "0.266",
         "0.533",
         "0.002",
         "0.001",
         "1979.0",
         "2164.0",
         "1.0"
        ],
        [
         "chol_cov[1]",
         "0.782",
         "0.138",
         "0.521",
         "1.031",
         "0.006",
         "0.002",
         "608.0",
         "1439.0",
         "1.01"
        ],
        [
         "chol_cov[2]",
         "0.557",
         "0.14",
         "0.286",
         "0.806",
         "0.007",
         "0.005",
         "486.0",
         "499.0",
         "1.01"
        ],
        [
         "chol_cov_corr[0, 0]",
         "1.0",
         "0.0",
         "1.0",
         "1.0",
         "0.0",
         null,
         "4000.0",
         "4000.0",
         null
        ],
        [
         "chol_cov_corr[0, 1]",
         "0.799",
         "0.103",
         "0.62",
         "0.995",
         "0.005",
         "0.002",
         "443.0",
         "552.0",
         "1.01"
        ],
        [
         "chol_cov_corr[1, 0]",
         "0.799",
         "0.103",
         "0.62",
         "0.995",
         "0.005",
         "0.002",
         "443.0",
         "552.0",
         "1.01"
        ],
        [
         "chol_cov_corr[1, 1]",
         "1.0",
         "0.0",
         "1.0",
         "1.0",
         "0.0",
         "0.0",
         "3820.0",
         "3627.0",
         "1.0"
        ],
        [
         "chol_cov_stds[0]",
         "0.396",
         "0.071",
         "0.266",
         "0.533",
         "0.002",
         "0.001",
         "1979.0",
         "2164.0",
         "1.0"
        ],
        [
         "chol_cov_stds[1]",
         "0.976",
         "0.089",
         "0.803",
         "1.136",
         "0.002",
         "0.001",
         "1437.0",
         "2561.0",
         "1.0"
        ]
       ],
       "shape": {
        "columns": 9,
        "rows": 11
       }
      },
      "text/html": [
       "<div>\n",
       "<style scoped>\n",
       "    .dataframe tbody tr th:only-of-type {\n",
       "        vertical-align: middle;\n",
       "    }\n",
       "\n",
       "    .dataframe tbody tr th {\n",
       "        vertical-align: top;\n",
       "    }\n",
       "\n",
       "    .dataframe thead th {\n",
       "        text-align: right;\n",
       "    }\n",
       "</style>\n",
       "<table border=\"1\" class=\"dataframe\">\n",
       "  <thead>\n",
       "    <tr style=\"text-align: right;\">\n",
       "      <th></th>\n",
       "      <th>mean</th>\n",
       "      <th>sd</th>\n",
       "      <th>hdi_3%</th>\n",
       "      <th>hdi_97%</th>\n",
       "      <th>mcse_mean</th>\n",
       "      <th>mcse_sd</th>\n",
       "      <th>ess_bulk</th>\n",
       "      <th>ess_tail</th>\n",
       "      <th>r_hat</th>\n",
       "    </tr>\n",
       "  </thead>\n",
       "  <tbody>\n",
       "    <tr>\n",
       "      <th>mean_effect[0]</th>\n",
       "      <td>-0.006</td>\n",
       "      <td>0.062</td>\n",
       "      <td>-0.126</td>\n",
       "      <td>0.106</td>\n",
       "      <td>0.001</td>\n",
       "      <td>0.001</td>\n",
       "      <td>3074.0</td>\n",
       "      <td>2634.0</td>\n",
       "      <td>1.00</td>\n",
       "    </tr>\n",
       "    <tr>\n",
       "      <th>mean_effect[1]</th>\n",
       "      <td>0.107</td>\n",
       "      <td>0.109</td>\n",
       "      <td>-0.079</td>\n",
       "      <td>0.339</td>\n",
       "      <td>0.002</td>\n",
       "      <td>0.002</td>\n",
       "      <td>3024.0</td>\n",
       "      <td>2503.0</td>\n",
       "      <td>1.00</td>\n",
       "    </tr>\n",
       "    <tr>\n",
       "      <th>chol_cov[0]</th>\n",
       "      <td>0.396</td>\n",
       "      <td>0.071</td>\n",
       "      <td>0.266</td>\n",
       "      <td>0.533</td>\n",
       "      <td>0.002</td>\n",
       "      <td>0.001</td>\n",
       "      <td>1979.0</td>\n",
       "      <td>2164.0</td>\n",
       "      <td>1.00</td>\n",
       "    </tr>\n",
       "    <tr>\n",
       "      <th>chol_cov[1]</th>\n",
       "      <td>0.782</td>\n",
       "      <td>0.138</td>\n",
       "      <td>0.521</td>\n",
       "      <td>1.031</td>\n",
       "      <td>0.006</td>\n",
       "      <td>0.002</td>\n",
       "      <td>608.0</td>\n",
       "      <td>1439.0</td>\n",
       "      <td>1.01</td>\n",
       "    </tr>\n",
       "    <tr>\n",
       "      <th>chol_cov[2]</th>\n",
       "      <td>0.557</td>\n",
       "      <td>0.140</td>\n",
       "      <td>0.286</td>\n",
       "      <td>0.806</td>\n",
       "      <td>0.007</td>\n",
       "      <td>0.005</td>\n",
       "      <td>486.0</td>\n",
       "      <td>499.0</td>\n",
       "      <td>1.01</td>\n",
       "    </tr>\n",
       "    <tr>\n",
       "      <th>chol_cov_corr[0, 0]</th>\n",
       "      <td>1.000</td>\n",
       "      <td>0.000</td>\n",
       "      <td>1.000</td>\n",
       "      <td>1.000</td>\n",
       "      <td>0.000</td>\n",
       "      <td>NaN</td>\n",
       "      <td>4000.0</td>\n",
       "      <td>4000.0</td>\n",
       "      <td>NaN</td>\n",
       "    </tr>\n",
       "    <tr>\n",
       "      <th>chol_cov_corr[0, 1]</th>\n",
       "      <td>0.799</td>\n",
       "      <td>0.103</td>\n",
       "      <td>0.620</td>\n",
       "      <td>0.995</td>\n",
       "      <td>0.005</td>\n",
       "      <td>0.002</td>\n",
       "      <td>443.0</td>\n",
       "      <td>552.0</td>\n",
       "      <td>1.01</td>\n",
       "    </tr>\n",
       "    <tr>\n",
       "      <th>chol_cov_corr[1, 0]</th>\n",
       "      <td>0.799</td>\n",
       "      <td>0.103</td>\n",
       "      <td>0.620</td>\n",
       "      <td>0.995</td>\n",
       "      <td>0.005</td>\n",
       "      <td>0.002</td>\n",
       "      <td>443.0</td>\n",
       "      <td>552.0</td>\n",
       "      <td>1.01</td>\n",
       "    </tr>\n",
       "    <tr>\n",
       "      <th>chol_cov_corr[1, 1]</th>\n",
       "      <td>1.000</td>\n",
       "      <td>0.000</td>\n",
       "      <td>1.000</td>\n",
       "      <td>1.000</td>\n",
       "      <td>0.000</td>\n",
       "      <td>0.000</td>\n",
       "      <td>3820.0</td>\n",
       "      <td>3627.0</td>\n",
       "      <td>1.00</td>\n",
       "    </tr>\n",
       "    <tr>\n",
       "      <th>chol_cov_stds[0]</th>\n",
       "      <td>0.396</td>\n",
       "      <td>0.071</td>\n",
       "      <td>0.266</td>\n",
       "      <td>0.533</td>\n",
       "      <td>0.002</td>\n",
       "      <td>0.001</td>\n",
       "      <td>1979.0</td>\n",
       "      <td>2164.0</td>\n",
       "      <td>1.00</td>\n",
       "    </tr>\n",
       "    <tr>\n",
       "      <th>chol_cov_stds[1]</th>\n",
       "      <td>0.976</td>\n",
       "      <td>0.089</td>\n",
       "      <td>0.803</td>\n",
       "      <td>1.136</td>\n",
       "      <td>0.002</td>\n",
       "      <td>0.001</td>\n",
       "      <td>1437.0</td>\n",
       "      <td>2561.0</td>\n",
       "      <td>1.00</td>\n",
       "    </tr>\n",
       "  </tbody>\n",
       "</table>\n",
       "</div>"
      ],
      "text/plain": [
       "                      mean     sd  hdi_3%  hdi_97%  mcse_mean  mcse_sd  \\\n",
       "mean_effect[0]      -0.006  0.062  -0.126    0.106      0.001    0.001   \n",
       "mean_effect[1]       0.107  0.109  -0.079    0.339      0.002    0.002   \n",
       "chol_cov[0]          0.396  0.071   0.266    0.533      0.002    0.001   \n",
       "chol_cov[1]          0.782  0.138   0.521    1.031      0.006    0.002   \n",
       "chol_cov[2]          0.557  0.140   0.286    0.806      0.007    0.005   \n",
       "chol_cov_corr[0, 0]  1.000  0.000   1.000    1.000      0.000      NaN   \n",
       "chol_cov_corr[0, 1]  0.799  0.103   0.620    0.995      0.005    0.002   \n",
       "chol_cov_corr[1, 0]  0.799  0.103   0.620    0.995      0.005    0.002   \n",
       "chol_cov_corr[1, 1]  1.000  0.000   1.000    1.000      0.000    0.000   \n",
       "chol_cov_stds[0]     0.396  0.071   0.266    0.533      0.002    0.001   \n",
       "chol_cov_stds[1]     0.976  0.089   0.803    1.136      0.002    0.001   \n",
       "\n",
       "                     ess_bulk  ess_tail  r_hat  \n",
       "mean_effect[0]         3074.0    2634.0   1.00  \n",
       "mean_effect[1]         3024.0    2503.0   1.00  \n",
       "chol_cov[0]            1979.0    2164.0   1.00  \n",
       "chol_cov[1]             608.0    1439.0   1.01  \n",
       "chol_cov[2]             486.0     499.0   1.01  \n",
       "chol_cov_corr[0, 0]    4000.0    4000.0    NaN  \n",
       "chol_cov_corr[0, 1]     443.0     552.0   1.01  \n",
       "chol_cov_corr[1, 0]     443.0     552.0   1.01  \n",
       "chol_cov_corr[1, 1]    3820.0    3627.0   1.00  \n",
       "chol_cov_stds[0]       1979.0    2164.0   1.00  \n",
       "chol_cov_stds[1]       1437.0    2561.0   1.00  "
      ]
     },
     "execution_count": 10,
     "metadata": {},
     "output_type": "execute_result"
    }
   ],
   "source": [
    "az.summary(trace, var_names = [\"~z\",\"~group_effects\"])"
   ]
  },
  {
   "cell_type": "code",
   "execution_count": 11,
   "id": "0bc9772c",
   "metadata": {},
   "outputs": [
    {
     "name": "stdout",
     "output_type": "stream",
     "text": [
      "[[0.1621778  0.31149575]\n",
      " [0.31149575 0.96054296]]\n"
     ]
    }
   ],
   "source": [
    "dat = az.extract(trace, group = 'posterior', var_names = [\"chol_cov_corr\",\"chol_cov_stds\"], combined = True)\n",
    "corr = dat[\"chol_cov_corr\"].values\n",
    "stds = dat[\"chol_cov_stds\"].values[:,None,:]\n",
    "covariances =  corr * stds * stds.transpose(1, 0, 2) \n",
    "mean_covariance = np.mean(covariances, axis=2)\n",
    "\n",
    "print(mean_covariance)"
   ]
  },
  {
   "cell_type": "markdown",
   "id": "55ac616e",
   "metadata": {},
   "source": [
    "Posterior checking"
   ]
  },
  {
   "cell_type": "code",
   "execution_count": 12,
   "id": "511aa9b4",
   "metadata": {},
   "outputs": [
    {
     "name": "stderr",
     "output_type": "stream",
     "text": [
      "Sampling: [obs]\n"
     ]
    },
    {
     "data": {
      "application/vnd.jupyter.widget-view+json": {
       "model_id": "69a59507653d4009b3b61f5784a1eb6f",
       "version_major": 2,
       "version_minor": 0
      },
      "text/plain": [
       "Output()"
      ]
     },
     "metadata": {},
     "output_type": "display_data"
    },
    {
     "data": {
      "text/html": [
       "<pre style=\"white-space:pre;overflow-x:auto;line-height:normal;font-family:Menlo,'DejaVu Sans Mono',consolas,'Courier New',monospace\"></pre>\n"
      ],
      "text/plain": []
     },
     "metadata": {},
     "output_type": "display_data"
    }
   ],
   "source": [
    "with model:\n",
    "    ppc = pm.sample_posterior_predictive(trace)\n"
   ]
  },
  {
   "cell_type": "code",
   "execution_count": 13,
   "id": "42a131c6",
   "metadata": {},
   "outputs": [
    {
     "data": {
      "image/png": "[encoded data removed]",
      "text/plain": [
       "<Figure size 1000x1500 with 6 Axes>"
      ]
     },
     "metadata": {},
     "output_type": "display_data"
    }
   ],
   "source": [
    "\n",
    "import seaborn as sns\n",
    "\n",
    "\n",
    "selected_groups = [0, 1, 3, 4,5,6]\n",
    "num_selected = len(selected_groups)\n",
    "\n",
    "all_pp_counts = az.extract(\n",
    "    ppc, group=\"posterior_predictive\", var_names=[\"obs\"], combined=True\n",
    ")\n",
    "pp_counts = all_pp_counts[selected_groups, :, :].values  # (num_groups, num_categories, num_samples)\n",
    "\n",
    "# observed counts for comparison\n",
    "obs_counts = agg_df.loc[selected_groups, [\"cat_0\", \"cat_1\", \"cat_2\"]].values\n",
    "\n",
    "fig, axes = plt.subplots(num_selected // 2, 2, figsize=(10, 2.5 * num_selected))\n",
    "axes = axes.flatten() if num_selected > 1 else [axes]\n",
    "categories = [\"cat_0\", \"cat_1\", \"cat_2\"]\n",
    "\n",
    "for idx, group in enumerate(selected_groups):\n",
    "    ax = axes[idx]\n",
    "\n",
    "    # Prepare data for seaborn boxplot\n",
    "    data = [pp_counts[idx, cat_idx, :] for cat_idx in range(len(categories))]\n",
    "    sns.boxplot(data=data, ax=ax, color='lightblue')\n",
    "\n",
    "    # Overlay observed data\n",
    "    ax.scatter(range(len(categories)), obs_counts[idx], color='red', zorder=5, label='Observed')\n",
    "    ax.set_xticks(range(len(categories)))\n",
    "    ax.set_xticklabels(categories)\n",
    "    ax.set_title(f'Group {group}')\n",
    "    ax.set_ylabel('Counts')\n",
    "    ax.legend()\n",
    "\n",
    "plt.tight_layout()\n",
    "plt.show()\n"
   ]
  },
  {
   "cell_type": "code",
   "execution_count": 14,
   "id": "5da3e16d",
   "metadata": {},
   "outputs": [
    {
     "data": {
      "text/plain": [
       "<Axes: xlabel='obs'>"
      ]
     },
     "execution_count": 14,
     "metadata": {},
     "output_type": "execute_result"
    },
    {
     "data": {
      "image/png": "[encoded data removed]",
      "text/plain": [
       "<Figure size 640x480 with 1 Axes>"
      ]
     },
     "metadata": {},
     "output_type": "display_data"
    }
   ],
   "source": [
    "az.plot_ppc(ppc, group = \"posterior\")"
   ]
  },
  {
   "cell_type": "markdown",
   "id": "523dd570",
   "metadata": {},
   "source": [
    "## Try direchlet-multinomial"
   ]
  },
  {
   "cell_type": "code",
   "execution_count": 15,
   "id": "93216bdb",
   "metadata": {},
   "outputs": [
    {
     "name": "stderr",
     "output_type": "stream",
     "text": [
      "Initializing NUTS using jitter+adapt_diag...\n",
      "Multiprocess sampling (4 chains in 4 jobs)\n",
      "NUTS: [concentration, group_alpha]\n"
     ]
    },
    {
     "data": {
      "application/vnd.jupyter.widget-view+json": {
       "model_id": "d6510217805f4db8bfd871eb9482a0c0",
       "version_major": 2,
       "version_minor": 0
      },
      "text/plain": [
       "Output()"
      ]
     },
     "metadata": {},
     "output_type": "display_data"
    },
    {
     "data": {
      "text/html": [
       "<pre style=\"white-space:pre;overflow-x:auto;line-height:normal;font-family:Menlo,'DejaVu Sans Mono',consolas,'Courier New',monospace\"></pre>\n"
      ],
      "text/plain": []
     },
     "metadata": {},
     "output_type": "display_data"
    },
    {
     "name": "stderr",
     "output_type": "stream",
     "text": [
      "Sampling 4 chains for 1_000 tune and 1_000 draw iterations (4_000 + 4_000 draws total) took 21 seconds.\n"
     ]
    }
   ],
   "source": [
    "\n",
    "with pm.Model() as dm_model:\n",
    "    \n",
    "    group_idx = pm.Data(\"group_idx\", agg_df[\"group_id\"].values)\n",
    "    count_obs = pm.Data(\"count_obs\", agg_df[[\"cat_0\",\"cat_1\",\"cat_2\"]].values)\n",
    "    total_obs = pm.Data(\"total_obs\", agg_df[\"total\"].values)\n",
    "    \n",
    "    num_categories = count_obs.shape[1]\n",
    "\n",
    "    concentration = pm.HalfNormal('concentration', sigma=5, shape=num_categories) #prior for Dirichlet\n",
    "    group_alpha = pm.Dirichlet('group_alpha', a=concentration, shape=(agg_df[\"group_id\"].nunique(), num_categories))\n",
    "    \n",
    "    \n",
    "    \n",
    "    pm.DirichletMultinomial('obs', a=group_alpha[group_idx] , n=total_obs, observed=count_obs)\n",
    "    \n",
    "    dm_trace = pm.sample(idata_kwargs={\"log_likelihood\": True})\n"
   ]
  },
  {
   "cell_type": "code",
   "execution_count": 16,
   "id": "49d780a7",
   "metadata": {},
   "outputs": [
    {
     "name": "stderr",
     "output_type": "stream",
     "text": [
      "Sampling: [obs]\n"
     ]
    },
    {
     "data": {
      "application/vnd.jupyter.widget-view+json": {
       "model_id": "71c7c49eec9e4dc188bd4286cf2bc53a",
       "version_major": 2,
       "version_minor": 0
      },
      "text/plain": [
       "Output()"
      ]
     },
     "metadata": {},
     "output_type": "display_data"
    },
    {
     "data": {
      "text/html": [
       "<pre style=\"white-space:pre;overflow-x:auto;line-height:normal;font-family:Menlo,'DejaVu Sans Mono',consolas,'Courier New',monospace\"></pre>\n"
      ],
      "text/plain": []
     },
     "metadata": {},
     "output_type": "display_data"
    },
    {
     "data": {
      "text/plain": [
       "<Axes: xlabel='obs'>"
      ]
     },
     "execution_count": 16,
     "metadata": {},
     "output_type": "execute_result"
    },
    {
     "data": {
      "image/png": "[encoded data removed]",
      "text/plain": [
       "<Figure size 640x480 with 1 Axes>"
      ]
     },
     "metadata": {},
     "output_type": "display_data"
    }
   ],
   "source": [
    "with dm_model:\n",
    "    dm_ppc = pm.sample_posterior_predictive(dm_trace)\n",
    "\n",
    "az.plot_ppc(dm_ppc)"
   ]
  },
  {
   "cell_type": "code",
   "execution_count": 17,
   "id": "7d0e2c2f",
   "metadata": {},
   "outputs": [],
   "source": [
    "import seaborn as sns"
   ]
  },
  {
   "cell_type": "code",
   "execution_count": 30,
   "id": "54d60916",
   "metadata": {},
   "outputs": [
    {
     "data": {
      "image/png": "[encoded data removed]",
      "text/plain": [
       "<Figure size 1800x500 with 6 Axes>"
      ]
     },
     "metadata": {},
     "output_type": "display_data"
    }
   ],
   "source": [
    "# Observed correlation\n",
    "obs_counts = agg_df[[\"cat_0\", \"cat_1\", \"cat_2\"]].values\n",
    "obs_corr = np.corrcoef(obs_counts.T)\n",
    "\n",
    "# Dirichlet-Multinomial posterior predictive extraction\n",
    "dm_pred_obs = az.extract(dm_ppc, group=\"posterior_predictive\", var_names=[\"obs\"], combined=True)\n",
    "dm_ppc_means = dm_pred_obs.mean(axis=2)\n",
    "dm_ppc_corr = np.corrcoef(dm_ppc_means.T)\n",
    "\n",
    "# Logistic model posterior predictive extraction\n",
    "logistic_pred_obs = az.extract(ppc, group=\"posterior_predictive\", var_names=[\"obs\"], combined=True)\n",
    "logistic_ppc_means = logistic_pred_obs.mean(axis=2)\n",
    "logistic_ppc_corr = np.corrcoef(logistic_ppc_means.T)\n",
    "\n",
    "\n",
    "fig, axes = plt.subplots(1, 3, figsize=(18, 5))\n",
    "\n",
    "sns.heatmap(obs_corr, annot=True, xticklabels=categories, yticklabels=categories,\n",
    "            ax=axes[0], cmap='coolwarm', vmin=-1, vmax=1)\n",
    "axes[0].set_title('Observed correlations')\n",
    "\n",
    "sns.heatmap(dm_ppc_corr, annot=True, xticklabels=categories, yticklabels=categories,\n",
    "            ax=axes[1], cmap='coolwarm', vmin=-1, vmax=1)\n",
    "axes[1].set_title('Dirichlet-Multinomial predicted correlations')\n",
    "\n",
    "sns.heatmap(logistic_ppc_corr, annot=True, xticklabels=categories, yticklabels=categories,\n",
    "            ax=axes[2], cmap='coolwarm', vmin=-1, vmax=1)\n",
    "axes[2].set_title('Logistic-Normal Multinomial model predicted correlations')\n",
    "\n",
    "plt.tight_layout()\n",
    "plt.show()\n"
   ]
  },
  {
   "cell_type": "code",
   "execution_count": 20,
   "id": "6466ad4d",
   "metadata": {},
   "outputs": [
    {
     "name": "stderr",
     "output_type": "stream",
     "text": [
      "c:\\Users\\rjljr\\miniconda3\\envs\\multinom\\Lib\\site-packages\\arviz\\stats\\stats.py:797: UserWarning: Estimated shape parameter of Pareto distribution is greater than 0.70 for one or more samples. You should consider using a more robust model, this is because importance sampling is less likely to work well if the marginal posterior and LOO posterior are very different. This is more likely to happen with a non-robust model and highly influential observations.\n",
      "  warnings.warn(\n"
     ]
    },
    {
     "data": {
      "text/plain": [
       "<Axes: title={'center': 'Model comparison\\nhigher is better'}, xlabel='elpd_loo (log)', ylabel='ranked models'>"
      ]
     },
     "execution_count": 20,
     "metadata": {},
     "output_type": "execute_result"
    },
    {
     "data": {
      "image/png": "[encoded data removed]",
      "text/plain": [
       "<Figure size 600x200 with 1 Axes>"
      ]
     },
     "metadata": {},
     "output_type": "display_data"
    }
   ],
   "source": [
    "loo_logistic = az.loo(trace)\n",
    "loo_dm = az.loo(dm_trace)\n",
    "\n",
    "comparison = az.compare({'Logistic': loo_logistic, 'Dirichlet-Multinomial': loo_dm})\n",
    "\n",
    "az.plot_compare(comparison)\n"
   ]
  }
 ],
 "metadata": {
  "kernelspec": {
   "display_name": "multinom",
   "language": "python",
   "name": "python3"
  },
  "language_info": {
   "codemirror_mode": {
    "name": "ipython",
    "version": 3
   },
   "file_extension": ".py",
   "mimetype": "text/x-python",
   "name": "python",
   "nbconvert_exporter": "python",
   "pygments_lexer": "ipython3",
   "version": "3.13.3"
  }
 },
 "nbformat": 4,
 "nbformat_minor": 5
}
