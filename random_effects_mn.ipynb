{
 "cells": [
  {
   "cell_type": "code",
   "execution_count": 70,
   "id": "bbe24fd2",
   "metadata": {},
   "outputs": [
    {
     "name": "stdout",
     "output_type": "stream",
     "text": [
      "     company  company_id    type  type_id\n",
      "0  company_0           0  type_0        0\n",
      "1  company_0           0  type_2        2\n",
      "2  company_0           0  type_2        2\n",
      "3  company_0           0  type_0        0\n",
      "4  company_0           0  type_2        2\n",
      "5  company_0           0  type_2        2\n",
      "6  company_0           0  type_2        2\n",
      "7  company_0           0  type_2        2\n",
      "8  company_1           1  type_2        2\n",
      "9  company_1           1  type_1        1\n"
     ]
    }
   ],
   "source": [
    "import numpy as np\n",
    "import pandas as pd\n",
    "from scipy.stats import multivariate_normal, multinomial\n",
    "from scipy.special import softmax\n",
    "\n",
    "np.random.seed(42)\n",
    "\n",
    "# Settings\n",
    "num_companies = 40\n",
    "num_categories = 3  # categories: 0 (pivot), 1, 2 minimal non-trivial \n",
    "\n",
    "\n",
    "# 1. Generate random effects for each company (for categories 1-3, pivot is category 0)\n",
    "mean_effect = np.zeros(num_categories - 1)\n",
    "# Define covariance matrix with correlations between categories\n",
    "cov_effect = np.array([\n",
    "    [1.0, 0.5],\n",
    "    [0.5, 2.0]\n",
    "])\n",
    "\n",
    "company_effects = multivariate_normal.rvs(mean=mean_effect, cov=cov_effect, size=num_companies)\n",
    "# Add pivot logits = 0\n",
    "company_effects = np.hstack([np.zeros((num_companies, 1)), company_effects])\n",
    "\n",
    "# Store company random effects in a DataFrame\n",
    "company_ids = [f'company_{i}' for i in range(num_companies)]\n",
    "company_effects_df = pd.DataFrame(company_effects, columns=[f'logit_{i}' for i in range(num_categories)])\n",
    "company_effects_df['company'] = company_ids\n",
    "\n",
    "# 2. Generate observations per company\n",
    "data = []\n",
    "for idx, company in enumerate(company_ids):\n",
    "    n_obs = np.random.randint(7, 11)  # Between 1 and 10 observations per company\n",
    "    \n",
    "  \n",
    "    logits = company_effects[idx]\n",
    "    probs = softmax(logits)\n",
    "    for obs in range(n_obs):\n",
    "          \n",
    "        observed_type = np.random.choice(num_categories, p=probs)\n",
    "        \n",
    "        # Append observation\n",
    "        data.append({\n",
    "            'company': company,\n",
    "            'company_id' : idx,\n",
    "            'type': f'type_{observed_type}',\n",
    "            'type_id': observed_type,\n",
    "        })\n",
    "\n",
    "# Convert to DataFrame\n",
    "simulated_df = pd.DataFrame(data)\n",
    "\n",
    "\n",
    "print(simulated_df.head(10))\n"
   ]
  },
  {
   "cell_type": "markdown",
   "id": "16f0100a",
   "metadata": {},
   "source": [
    "Work in progress... still not doing what i think it should be doing. I want it to do what (1 | type | company) does in brms"
   ]
  },
  {
   "cell_type": "code",
   "execution_count": 35,
   "id": "2edec5b7",
   "metadata": {},
   "outputs": [
    {
     "name": "stderr",
     "output_type": "stream",
     "text": [
      "Initializing NUTS using jitter+adapt_diag...\n",
      "Multiprocess sampling (4 chains in 4 jobs)\n",
      "NUTS: [1|company_sigma, 1|company_offset]\n"
     ]
    },
    {
     "data": {
      "application/vnd.jupyter.widget-view+json": {
       "model_id": "3b88d0181bf34c84a5887df29c53024d",
       "version_major": 2,
       "version_minor": 0
      },
      "text/plain": [
       "Output()"
      ]
     },
     "metadata": {},
     "output_type": "display_data"
    },
    {
     "data": {
      "text/html": [
       "<pre style=\"white-space:pre;overflow-x:auto;line-height:normal;font-family:Menlo,'DejaVu Sans Mono',consolas,'Courier New',monospace\"></pre>\n"
      ],
      "text/plain": []
     },
     "metadata": {},
     "output_type": "display_data"
    },
    {
     "name": "stderr",
     "output_type": "stream",
     "text": [
      "Sampling 4 chains for 1_000 tune and 1_000 draw iterations (4_000 + 4_000 draws total) took 2 seconds.\n"
     ]
    }
   ],
   "source": [
    "import bambi as bmb\n",
    "\n",
    "model = bmb.Model('type ~  0+ (1| company)', data=simulated_df, family='categorical')\n",
    "results = model.fit()\n"
   ]
  },
  {
   "cell_type": "code",
   "execution_count": 36,
   "id": "8751bd6c",
   "metadata": {},
   "outputs": [
    {
     "data": {
      "application/vnd.microsoft.datawrangler.viewer.v0+json": {
       "columns": [
        {
         "name": "index",
         "rawType": "object",
         "type": "string"
        },
        {
         "name": "mean",
         "rawType": "float64",
         "type": "float"
        },
        {
         "name": "sd",
         "rawType": "float64",
         "type": "float"
        },
        {
         "name": "hdi_3%",
         "rawType": "float64",
         "type": "float"
        },
        {
         "name": "hdi_97%",
         "rawType": "float64",
         "type": "float"
        },
        {
         "name": "mcse_mean",
         "rawType": "float64",
         "type": "float"
        },
        {
         "name": "mcse_sd",
         "rawType": "float64",
         "type": "float"
        },
        {
         "name": "ess_bulk",
         "rawType": "float64",
         "type": "float"
        },
        {
         "name": "ess_tail",
         "rawType": "float64",
         "type": "float"
        },
        {
         "name": "r_hat",
         "rawType": "float64",
         "type": "float"
        }
       ],
       "conversionMethod": "pd.DataFrame",
       "ref": "ec7c6f78-56d2-4478-9d84-423cd616bc7f",
       "rows": [
        [
         "1|company_sigma",
         "0.873",
         "0.16",
         "0.585",
         "1.185",
         "0.004",
         "0.003",
         "1389.0",
         "2249.0",
         "1.0"
        ],
        [
         "1|company[type_1, company_0]",
         "-0.804",
         "0.723",
         "-2.202",
         "0.477",
         "0.012",
         "0.012",
         "3974.0",
         "2464.0",
         "1.0"
        ],
        [
         "1|company[type_1, company_1]",
         "0.634",
         "0.64",
         "-0.549",
         "1.854",
         "0.011",
         "0.01",
         "3529.0",
         "3155.0",
         "1.0"
        ],
        [
         "1|company[type_1, company_10]",
         "-0.167",
         "0.713",
         "-1.489",
         "1.19",
         "0.011",
         "0.011",
         "3957.0",
         "2898.0",
         "1.0"
        ],
        [
         "1|company[type_1, company_11]",
         "-0.923",
         "0.706",
         "-2.246",
         "0.422",
         "0.012",
         "0.012",
         "3325.0",
         "2671.0",
         "1.0"
        ],
        [
         "1|company[type_1, company_12]",
         "-0.094",
         "0.571",
         "-1.194",
         "0.925",
         "0.009",
         "0.01",
         "4324.0",
         "3037.0",
         "1.0"
        ],
        [
         "1|company[type_1, company_13]",
         "0.289",
         "0.533",
         "-0.611",
         "1.392",
         "0.008",
         "0.008",
         "4459.0",
         "3291.0",
         "1.0"
        ],
        [
         "1|company[type_1, company_14]",
         "-0.168",
         "0.641",
         "-1.436",
         "1.002",
         "0.009",
         "0.01",
         "4892.0",
         "2828.0",
         "1.0"
        ],
        [
         "1|company[type_1, company_15]",
         "0.564",
         "0.538",
         "-0.461",
         "1.544",
         "0.008",
         "0.008",
         "4490.0",
         "3189.0",
         "1.0"
        ],
        [
         "1|company[type_1, company_16]",
         "-0.474",
         "0.594",
         "-1.649",
         "0.589",
         "0.01",
         "0.011",
         "3637.0",
         "2575.0",
         "1.0"
        ],
        [
         "1|company[type_1, company_17]",
         "-0.8",
         "0.743",
         "-2.16",
         "0.662",
         "0.014",
         "0.013",
         "2888.0",
         "2021.0",
         "1.0"
        ],
        [
         "1|company[type_1, company_18]",
         "-0.443",
         "0.651",
         "-1.725",
         "0.699",
         "0.01",
         "0.01",
         "3942.0",
         "3078.0",
         "1.0"
        ],
        [
         "1|company[type_1, company_19]",
         "0.282",
         "0.53",
         "-0.753",
         "1.221",
         "0.009",
         "0.009",
         "3695.0",
         "2757.0",
         "1.0"
        ],
        [
         "1|company[type_1, company_2]",
         "-0.311",
         "0.542",
         "-1.302",
         "0.715",
         "0.009",
         "0.009",
         "4014.0",
         "2950.0",
         "1.0"
        ],
        [
         "1|company[type_1, company_20]",
         "0.26",
         "0.617",
         "-0.821",
         "1.503",
         "0.01",
         "0.01",
         "4008.0",
         "2897.0",
         "1.0"
        ],
        [
         "1|company[type_1, company_21]",
         "-0.313",
         "0.609",
         "-1.542",
         "0.745",
         "0.01",
         "0.01",
         "4148.0",
         "2823.0",
         "1.0"
        ],
        [
         "1|company[type_1, company_22]",
         "-0.652",
         "0.657",
         "-1.968",
         "0.478",
         "0.01",
         "0.012",
         "4059.0",
         "2769.0",
         "1.0"
        ],
        [
         "1|company[type_1, company_23]",
         "0.443",
         "0.562",
         "-0.581",
         "1.488",
         "0.008",
         "0.009",
         "4586.0",
         "3013.0",
         "1.0"
        ],
        [
         "1|company[type_1, company_24]",
         "-0.428",
         "0.678",
         "-1.712",
         "0.835",
         "0.01",
         "0.011",
         "4577.0",
         "3141.0",
         "1.0"
        ],
        [
         "1|company[type_1, company_25]",
         "-0.481",
         "0.582",
         "-1.612",
         "0.547",
         "0.01",
         "0.01",
         "3594.0",
         "2741.0",
         "1.0"
        ],
        [
         "1|company[type_1, company_26]",
         "0.293",
         "0.575",
         "-0.78",
         "1.371",
         "0.009",
         "0.01",
         "4225.0",
         "2861.0",
         "1.0"
        ],
        [
         "1|company[type_1, company_27]",
         "0.278",
         "0.632",
         "-0.87",
         "1.458",
         "0.011",
         "0.011",
         "3229.0",
         "2591.0",
         "1.0"
        ],
        [
         "1|company[type_1, company_28]",
         "0.598",
         "0.586",
         "-0.482",
         "1.715",
         "0.01",
         "0.009",
         "3716.0",
         "3192.0",
         "1.0"
        ],
        [
         "1|company[type_1, company_29]",
         "-0.734",
         "0.641",
         "-1.976",
         "0.388",
         "0.01",
         "0.012",
         "3958.0",
         "2445.0",
         "1.0"
        ],
        [
         "1|company[type_1, company_3]",
         "0.725",
         "0.642",
         "-0.516",
         "1.918",
         "0.011",
         "0.01",
         "3273.0",
         "2814.0",
         "1.0"
        ],
        [
         "1|company[type_1, company_30]",
         "0.06",
         "0.549",
         "-0.925",
         "1.145",
         "0.008",
         "0.01",
         "4460.0",
         "2818.0",
         "1.0"
        ],
        [
         "1|company[type_1, company_31]",
         "-0.275",
         "0.612",
         "-1.387",
         "0.893",
         "0.01",
         "0.009",
         "4088.0",
         "3112.0",
         "1.0"
        ],
        [
         "1|company[type_1, company_32]",
         "1.354",
         "0.669",
         "0.197",
         "2.673",
         "0.012",
         "0.01",
         "3132.0",
         "2659.0",
         "1.0"
        ],
        [
         "1|company[type_1, company_33]",
         "0.509",
         "0.608",
         "-0.624",
         "1.646",
         "0.01",
         "0.009",
         "3398.0",
         "2808.0",
         "1.0"
        ],
        [
         "1|company[type_1, company_34]",
         "-0.602",
         "0.658",
         "-1.869",
         "0.614",
         "0.01",
         "0.013",
         "4368.0",
         "2277.0",
         "1.0"
        ],
        [
         "1|company[type_1, company_35]",
         "0.739",
         "0.606",
         "-0.34",
         "1.948",
         "0.009",
         "0.009",
         "4503.0",
         "3307.0",
         "1.0"
        ],
        [
         "1|company[type_1, company_36]",
         "1.42",
         "0.655",
         "0.199",
         "2.638",
         "0.013",
         "0.011",
         "2774.0",
         "2866.0",
         "1.0"
        ],
        [
         "1|company[type_1, company_37]",
         "-0.261",
         "0.616",
         "-1.415",
         "0.914",
         "0.01",
         "0.011",
         "3911.0",
         "2521.0",
         "1.0"
        ],
        [
         "1|company[type_1, company_38]",
         "0.464",
         "0.558",
         "-0.54",
         "1.541",
         "0.009",
         "0.009",
         "3678.0",
         "3066.0",
         "1.0"
        ],
        [
         "1|company[type_1, company_39]",
         "-0.949",
         "0.697",
         "-2.306",
         "0.25",
         "0.012",
         "0.012",
         "3465.0",
         "2669.0",
         "1.0"
        ],
        [
         "1|company[type_1, company_4]",
         "-0.264",
         "0.624",
         "-1.469",
         "0.87",
         "0.01",
         "0.011",
         "4154.0",
         "2765.0",
         "1.0"
        ],
        [
         "1|company[type_1, company_5]",
         "-0.301",
         "0.596",
         "-1.45",
         "0.775",
         "0.009",
         "0.01",
         "4640.0",
         "3197.0",
         "1.0"
        ],
        [
         "1|company[type_1, company_6]",
         "-0.846",
         "0.724",
         "-2.194",
         "0.507",
         "0.013",
         "0.013",
         "3175.0",
         "2743.0",
         "1.0"
        ],
        [
         "1|company[type_1, company_7]",
         "-1.113",
         "0.722",
         "-2.543",
         "0.121",
         "0.013",
         "0.014",
         "3146.0",
         "2721.0",
         "1.0"
        ],
        [
         "1|company[type_1, company_8]",
         "0.126",
         "0.574",
         "-0.925",
         "1.234",
         "0.009",
         "0.01",
         "4202.0",
         "3010.0",
         "1.0"
        ],
        [
         "1|company[type_1, company_9]",
         "-0.722",
         "0.637",
         "-1.828",
         "0.542",
         "0.01",
         "0.014",
         "3901.0",
         "2784.0",
         "1.0"
        ],
        [
         "1|company[type_2, company_0]",
         "0.853",
         "0.584",
         "-0.231",
         "1.976",
         "0.009",
         "0.01",
         "3837.0",
         "2755.0",
         "1.0"
        ],
        [
         "1|company[type_2, company_1]",
         "0.635",
         "0.645",
         "-0.604",
         "1.821",
         "0.012",
         "0.01",
         "3012.0",
         "2913.0",
         "1.0"
        ],
        [
         "1|company[type_2, company_10]",
         "1.21",
         "0.646",
         "-0.03",
         "2.361",
         "0.012",
         "0.011",
         "3174.0",
         "2713.0",
         "1.0"
        ],
        [
         "1|company[type_2, company_11]",
         "0.026",
         "0.601",
         "-1.143",
         "1.129",
         "0.009",
         "0.011",
         "4286.0",
         "2582.0",
         "1.0"
        ],
        [
         "1|company[type_2, company_12]",
         "-0.362",
         "0.6",
         "-1.46",
         "0.785",
         "0.009",
         "0.01",
         "4240.0",
         "2863.0",
         "1.0"
        ],
        [
         "1|company[type_2, company_13]",
         "-0.67",
         "0.633",
         "-1.939",
         "0.443",
         "0.01",
         "0.01",
         "4067.0",
         "3199.0",
         "1.0"
        ],
        [
         "1|company[type_2, company_14]",
         "-0.167",
         "0.633",
         "-1.42",
         "0.945",
         "0.009",
         "0.01",
         "4729.0",
         "2942.0",
         "1.0"
        ],
        [
         "1|company[type_2, company_15]",
         "-0.596",
         "0.662",
         "-1.922",
         "0.591",
         "0.011",
         "0.012",
         "3986.0",
         "2853.0",
         "1.0"
        ],
        [
         "1|company[type_2, company_16]",
         "-0.231",
         "0.561",
         "-1.321",
         "0.756",
         "0.009",
         "0.009",
         "4339.0",
         "2862.0",
         "1.0"
        ]
       ],
       "shape": {
        "columns": 9,
        "rows": 81
       }
      },
      "text/html": [
       "<div>\n",
       "<style scoped>\n",
       "    .dataframe tbody tr th:only-of-type {\n",
       "        vertical-align: middle;\n",
       "    }\n",
       "\n",
       "    .dataframe tbody tr th {\n",
       "        vertical-align: top;\n",
       "    }\n",
       "\n",
       "    .dataframe thead th {\n",
       "        text-align: right;\n",
       "    }\n",
       "</style>\n",
       "<table border=\"1\" class=\"dataframe\">\n",
       "  <thead>\n",
       "    <tr style=\"text-align: right;\">\n",
       "      <th></th>\n",
       "      <th>mean</th>\n",
       "      <th>sd</th>\n",
       "      <th>hdi_3%</th>\n",
       "      <th>hdi_97%</th>\n",
       "      <th>mcse_mean</th>\n",
       "      <th>mcse_sd</th>\n",
       "      <th>ess_bulk</th>\n",
       "      <th>ess_tail</th>\n",
       "      <th>r_hat</th>\n",
       "    </tr>\n",
       "  </thead>\n",
       "  <tbody>\n",
       "    <tr>\n",
       "      <th>1|company_sigma</th>\n",
       "      <td>0.873</td>\n",
       "      <td>0.160</td>\n",
       "      <td>0.585</td>\n",
       "      <td>1.185</td>\n",
       "      <td>0.004</td>\n",
       "      <td>0.003</td>\n",
       "      <td>1389.0</td>\n",
       "      <td>2249.0</td>\n",
       "      <td>1.0</td>\n",
       "    </tr>\n",
       "    <tr>\n",
       "      <th>1|company[type_1, company_0]</th>\n",
       "      <td>-0.804</td>\n",
       "      <td>0.723</td>\n",
       "      <td>-2.202</td>\n",
       "      <td>0.477</td>\n",
       "      <td>0.012</td>\n",
       "      <td>0.012</td>\n",
       "      <td>3974.0</td>\n",
       "      <td>2464.0</td>\n",
       "      <td>1.0</td>\n",
       "    </tr>\n",
       "    <tr>\n",
       "      <th>1|company[type_1, company_1]</th>\n",
       "      <td>0.634</td>\n",
       "      <td>0.640</td>\n",
       "      <td>-0.549</td>\n",
       "      <td>1.854</td>\n",
       "      <td>0.011</td>\n",
       "      <td>0.010</td>\n",
       "      <td>3529.0</td>\n",
       "      <td>3155.0</td>\n",
       "      <td>1.0</td>\n",
       "    </tr>\n",
       "    <tr>\n",
       "      <th>1|company[type_1, company_10]</th>\n",
       "      <td>-0.167</td>\n",
       "      <td>0.713</td>\n",
       "      <td>-1.489</td>\n",
       "      <td>1.190</td>\n",
       "      <td>0.011</td>\n",
       "      <td>0.011</td>\n",
       "      <td>3957.0</td>\n",
       "      <td>2898.0</td>\n",
       "      <td>1.0</td>\n",
       "    </tr>\n",
       "    <tr>\n",
       "      <th>1|company[type_1, company_11]</th>\n",
       "      <td>-0.923</td>\n",
       "      <td>0.706</td>\n",
       "      <td>-2.246</td>\n",
       "      <td>0.422</td>\n",
       "      <td>0.012</td>\n",
       "      <td>0.012</td>\n",
       "      <td>3325.0</td>\n",
       "      <td>2671.0</td>\n",
       "      <td>1.0</td>\n",
       "    </tr>\n",
       "    <tr>\n",
       "      <th>...</th>\n",
       "      <td>...</td>\n",
       "      <td>...</td>\n",
       "      <td>...</td>\n",
       "      <td>...</td>\n",
       "      <td>...</td>\n",
       "      <td>...</td>\n",
       "      <td>...</td>\n",
       "      <td>...</td>\n",
       "      <td>...</td>\n",
       "    </tr>\n",
       "    <tr>\n",
       "      <th>1|company[type_2, company_5]</th>\n",
       "      <td>-0.304</td>\n",
       "      <td>0.603</td>\n",
       "      <td>-1.504</td>\n",
       "      <td>0.745</td>\n",
       "      <td>0.009</td>\n",
       "      <td>0.010</td>\n",
       "      <td>4337.0</td>\n",
       "      <td>2993.0</td>\n",
       "      <td>1.0</td>\n",
       "    </tr>\n",
       "    <tr>\n",
       "      <th>1|company[type_2, company_6]</th>\n",
       "      <td>1.088</td>\n",
       "      <td>0.574</td>\n",
       "      <td>0.053</td>\n",
       "      <td>2.193</td>\n",
       "      <td>0.009</td>\n",
       "      <td>0.009</td>\n",
       "      <td>4074.0</td>\n",
       "      <td>2551.0</td>\n",
       "      <td>1.0</td>\n",
       "    </tr>\n",
       "    <tr>\n",
       "      <th>1|company[type_2, company_7]</th>\n",
       "      <td>-1.106</td>\n",
       "      <td>0.713</td>\n",
       "      <td>-2.443</td>\n",
       "      <td>0.203</td>\n",
       "      <td>0.012</td>\n",
       "      <td>0.013</td>\n",
       "      <td>3807.0</td>\n",
       "      <td>2773.0</td>\n",
       "      <td>1.0</td>\n",
       "    </tr>\n",
       "    <tr>\n",
       "      <th>1|company[type_2, company_8]</th>\n",
       "      <td>-0.654</td>\n",
       "      <td>0.626</td>\n",
       "      <td>-1.843</td>\n",
       "      <td>0.489</td>\n",
       "      <td>0.010</td>\n",
       "      <td>0.011</td>\n",
       "      <td>4100.0</td>\n",
       "      <td>2720.0</td>\n",
       "      <td>1.0</td>\n",
       "    </tr>\n",
       "    <tr>\n",
       "      <th>1|company[type_2, company_9]</th>\n",
       "      <td>-0.180</td>\n",
       "      <td>0.564</td>\n",
       "      <td>-1.275</td>\n",
       "      <td>0.824</td>\n",
       "      <td>0.009</td>\n",
       "      <td>0.010</td>\n",
       "      <td>4022.0</td>\n",
       "      <td>2835.0</td>\n",
       "      <td>1.0</td>\n",
       "    </tr>\n",
       "  </tbody>\n",
       "</table>\n",
       "<p>81 rows × 9 columns</p>\n",
       "</div>"
      ],
      "text/plain": [
       "                                mean     sd  hdi_3%  hdi_97%  mcse_mean  \\\n",
       "1|company_sigma                0.873  0.160   0.585    1.185      0.004   \n",
       "1|company[type_1, company_0]  -0.804  0.723  -2.202    0.477      0.012   \n",
       "1|company[type_1, company_1]   0.634  0.640  -0.549    1.854      0.011   \n",
       "1|company[type_1, company_10] -0.167  0.713  -1.489    1.190      0.011   \n",
       "1|company[type_1, company_11] -0.923  0.706  -2.246    0.422      0.012   \n",
       "...                              ...    ...     ...      ...        ...   \n",
       "1|company[type_2, company_5]  -0.304  0.603  -1.504    0.745      0.009   \n",
       "1|company[type_2, company_6]   1.088  0.574   0.053    2.193      0.009   \n",
       "1|company[type_2, company_7]  -1.106  0.713  -2.443    0.203      0.012   \n",
       "1|company[type_2, company_8]  -0.654  0.626  -1.843    0.489      0.010   \n",
       "1|company[type_2, company_9]  -0.180  0.564  -1.275    0.824      0.009   \n",
       "\n",
       "                               mcse_sd  ess_bulk  ess_tail  r_hat  \n",
       "1|company_sigma                  0.003    1389.0    2249.0    1.0  \n",
       "1|company[type_1, company_0]     0.012    3974.0    2464.0    1.0  \n",
       "1|company[type_1, company_1]     0.010    3529.0    3155.0    1.0  \n",
       "1|company[type_1, company_10]    0.011    3957.0    2898.0    1.0  \n",
       "1|company[type_1, company_11]    0.012    3325.0    2671.0    1.0  \n",
       "...                                ...       ...       ...    ...  \n",
       "1|company[type_2, company_5]     0.010    4337.0    2993.0    1.0  \n",
       "1|company[type_2, company_6]     0.009    4074.0    2551.0    1.0  \n",
       "1|company[type_2, company_7]     0.013    3807.0    2773.0    1.0  \n",
       "1|company[type_2, company_8]     0.011    4100.0    2720.0    1.0  \n",
       "1|company[type_2, company_9]     0.010    4022.0    2835.0    1.0  \n",
       "\n",
       "[81 rows x 9 columns]"
      ]
     },
     "execution_count": 36,
     "metadata": {},
     "output_type": "execute_result"
    }
   ],
   "source": [
    "import arviz as az\n",
    "az.summary(results)"
   ]
  },
  {
   "cell_type": "code",
   "execution_count": 64,
   "id": "0f0b8a8d",
   "metadata": {},
   "outputs": [
    {
     "name": "stderr",
     "output_type": "stream",
     "text": [
      "/Users/ronaldlegere/miniconda3/envs/multinom/lib/python3.13/site-packages/pymc/data.py:265: FutureWarning: MutableData is deprecated. All Data variables are now mutable. Use Data instead.\n",
      "  warnings.warn(\n",
      "Initializing NUTS using jitter+adapt_diag...\n",
      "Multiprocess sampling (4 chains in 4 jobs)\n",
      "NUTS: [chol_corr, z_company]\n"
     ]
    },
    {
     "data": {
      "application/vnd.jupyter.widget-view+json": {
       "model_id": "6d39a06a89cc4a28882abdb2d8e94e12",
       "version_major": 2,
       "version_minor": 0
      },
      "text/plain": [
       "Output()"
      ]
     },
     "metadata": {},
     "output_type": "display_data"
    },
    {
     "data": {
      "text/html": [
       "<pre style=\"white-space:pre;overflow-x:auto;line-height:normal;font-family:Menlo,'DejaVu Sans Mono',consolas,'Courier New',monospace\"></pre>\n"
      ],
      "text/plain": []
     },
     "metadata": {},
     "output_type": "display_data"
    },
    {
     "name": "stderr",
     "output_type": "stream",
     "text": [
      "Sampling 4 chains for 1_000 tune and 1_000 draw iterations (4_000 + 4_000 draws total) took 6 seconds.\n"
     ]
    }
   ],
   "source": [
    "import pymc as pm\n",
    "import pytensor.tensor as pt\n",
    "\n",
    "num_companies = simulated_df[\"company_id\"].nunique()\n",
    "num_categories = 3  # total categories, including baseline\n",
    "num_obs = simulated_df.shape[0]\n",
    "\n",
    "with pm.Model() as model:\n",
    "    # Data explicitly\n",
    "    company_idx = pm.MutableData(\"company_idx\", simulated_df[\"company_id\"].values)\n",
    "    type_obs = pm.MutableData(\"type_obs\", simulated_df[\"type_id\"].values)\n",
    "    sd_dist = pm.StudentT.dist(nu=3, mu=0, sigma=2.5)\n",
    "    # Explicitly unpack LKJCholeskyCov output (Cholesky factor only)\n",
    "    chol_corr,_, _ = pm.LKJCholeskyCov(\n",
    "        \"chol_corr\",\n",
    "        n=num_categories - 1,\n",
    "        eta=1,\n",
    "         sd_dist=sd_dist\n",
    "    )\n",
    "\n",
    "    # Random intercepts explicitly\n",
    "    z_company = pm.Normal(\n",
    "        \"z_company\",\n",
    "        0, 1,\n",
    "        shape=(num_companies, num_categories - 1)\n",
    "    )\n",
    "\n",
    "    # Correlated random effects explicitly (no ambiguity now)\n",
    "    company_effects_m = pm.Deterministic(\n",
    "        \"company_effects\",\n",
    "        pt.dot(z_company, chol_corr.T),  # now works explicitly\n",
    "    )\n",
    "\n",
    "    # Proper indexing explicitly\n",
    "    company_eff_obs = company_effects_m[company_idx, :]  # (num_obs, num_categories - 1)\n",
    "\n",
    "    # Explicit logits\n",
    "    logits = pt.concatenate(\n",
    "        [pt.zeros((num_obs, 1)), company_eff_obs],\n",
    "        axis=1\n",
    "    )\n",
    "\n",
    "    # Categorical likelihood explicitly\n",
    "    pm.Categorical(\"obs\", logit_p=logits, observed=type_obs)\n",
    "\n",
    "    # Sampling explicitly\n",
    "    trace = pm.sample(draws=1000, tune=1000, chains=4, cores=4, target_accept=0.9)\n"
   ]
  },
  {
   "cell_type": "code",
   "execution_count": 65,
   "id": "2e2f378c",
   "metadata": {},
   "outputs": [
    {
     "name": "stderr",
     "output_type": "stream",
     "text": [
      "/Users/ronaldlegere/miniconda3/envs/multinom/lib/python3.13/site-packages/arviz/stats/diagnostics.py:596: RuntimeWarning: invalid value encountered in scalar divide\n",
      "  (between_chain_variance / within_chain_variance + num_samples - 1) / (num_samples)\n",
      "/Users/ronaldlegere/miniconda3/envs/multinom/lib/python3.13/site-packages/arviz/stats/diagnostics.py:991: RuntimeWarning: invalid value encountered in scalar divide\n",
      "  varsd = varvar / evar / 4\n"
     ]
    },
    {
     "data": {
      "application/vnd.microsoft.datawrangler.viewer.v0+json": {
       "columns": [
        {
         "name": "index",
         "rawType": "object",
         "type": "string"
        },
        {
         "name": "mean",
         "rawType": "float64",
         "type": "float"
        },
        {
         "name": "sd",
         "rawType": "float64",
         "type": "float"
        },
        {
         "name": "hdi_3%",
         "rawType": "float64",
         "type": "float"
        },
        {
         "name": "hdi_97%",
         "rawType": "float64",
         "type": "float"
        },
        {
         "name": "mcse_mean",
         "rawType": "float64",
         "type": "float"
        },
        {
         "name": "mcse_sd",
         "rawType": "float64",
         "type": "float"
        },
        {
         "name": "ess_bulk",
         "rawType": "float64",
         "type": "float"
        },
        {
         "name": "ess_tail",
         "rawType": "float64",
         "type": "float"
        },
        {
         "name": "r_hat",
         "rawType": "float64",
         "type": "float"
        }
       ],
       "conversionMethod": "pd.DataFrame",
       "ref": "9aa1e222-b6c0-41d7-a389-f73a35ff885f",
       "rows": [
        [
         "chol_corr[0]",
         "0.958",
         "0.272",
         "0.461",
         "1.486",
         "0.009",
         "0.006",
         "993.0",
         "1255.0",
         "1.0"
        ],
        [
         "chol_corr[1]",
         "0.181",
         "0.31",
         "-0.397",
         "0.759",
         "0.01",
         "0.005",
         "1047.0",
         "1865.0",
         "1.0"
        ],
        [
         "chol_corr[2]",
         "0.802",
         "0.247",
         "0.294",
         "1.251",
         "0.008",
         "0.006",
         "1086.0",
         "733.0",
         "1.0"
        ],
        [
         "chol_corr_corr[0, 0]",
         "1.0",
         "0.0",
         "1.0",
         "1.0",
         "0.0",
         null,
         "4000.0",
         "4000.0",
         null
        ],
        [
         "chol_corr_corr[0, 1]",
         "0.171",
         "0.333",
         "-0.469",
         "0.728",
         "0.01",
         "0.007",
         "1116.0",
         "1390.0",
         "1.0"
        ],
        [
         "chol_corr_corr[1, 0]",
         "0.171",
         "0.333",
         "-0.469",
         "0.728",
         "0.01",
         "0.007",
         "1116.0",
         "1390.0",
         "1.0"
        ],
        [
         "chol_corr_corr[1, 1]",
         "1.0",
         "0.0",
         "1.0",
         "1.0",
         "0.0",
         "0.0",
         "4069.0",
         "3624.0",
         "1.0"
        ],
        [
         "chol_corr_stds[0]",
         "0.958",
         "0.272",
         "0.461",
         "1.486",
         "0.009",
         "0.006",
         "993.0",
         "1255.0",
         "1.0"
        ],
        [
         "chol_corr_stds[1]",
         "0.873",
         "0.268",
         "0.342",
         "1.374",
         "0.008",
         "0.006",
         "1062.0",
         "853.0",
         "1.0"
        ]
       ],
       "shape": {
        "columns": 9,
        "rows": 9
       }
      },
      "text/html": [
       "<div>\n",
       "<style scoped>\n",
       "    .dataframe tbody tr th:only-of-type {\n",
       "        vertical-align: middle;\n",
       "    }\n",
       "\n",
       "    .dataframe tbody tr th {\n",
       "        vertical-align: top;\n",
       "    }\n",
       "\n",
       "    .dataframe thead th {\n",
       "        text-align: right;\n",
       "    }\n",
       "</style>\n",
       "<table border=\"1\" class=\"dataframe\">\n",
       "  <thead>\n",
       "    <tr style=\"text-align: right;\">\n",
       "      <th></th>\n",
       "      <th>mean</th>\n",
       "      <th>sd</th>\n",
       "      <th>hdi_3%</th>\n",
       "      <th>hdi_97%</th>\n",
       "      <th>mcse_mean</th>\n",
       "      <th>mcse_sd</th>\n",
       "      <th>ess_bulk</th>\n",
       "      <th>ess_tail</th>\n",
       "      <th>r_hat</th>\n",
       "    </tr>\n",
       "  </thead>\n",
       "  <tbody>\n",
       "    <tr>\n",
       "      <th>chol_corr[0]</th>\n",
       "      <td>0.958</td>\n",
       "      <td>0.272</td>\n",
       "      <td>0.461</td>\n",
       "      <td>1.486</td>\n",
       "      <td>0.009</td>\n",
       "      <td>0.006</td>\n",
       "      <td>993.0</td>\n",
       "      <td>1255.0</td>\n",
       "      <td>1.0</td>\n",
       "    </tr>\n",
       "    <tr>\n",
       "      <th>chol_corr[1]</th>\n",
       "      <td>0.181</td>\n",
       "      <td>0.310</td>\n",
       "      <td>-0.397</td>\n",
       "      <td>0.759</td>\n",
       "      <td>0.010</td>\n",
       "      <td>0.005</td>\n",
       "      <td>1047.0</td>\n",
       "      <td>1865.0</td>\n",
       "      <td>1.0</td>\n",
       "    </tr>\n",
       "    <tr>\n",
       "      <th>chol_corr[2]</th>\n",
       "      <td>0.802</td>\n",
       "      <td>0.247</td>\n",
       "      <td>0.294</td>\n",
       "      <td>1.251</td>\n",
       "      <td>0.008</td>\n",
       "      <td>0.006</td>\n",
       "      <td>1086.0</td>\n",
       "      <td>733.0</td>\n",
       "      <td>1.0</td>\n",
       "    </tr>\n",
       "    <tr>\n",
       "      <th>chol_corr_corr[0, 0]</th>\n",
       "      <td>1.000</td>\n",
       "      <td>0.000</td>\n",
       "      <td>1.000</td>\n",
       "      <td>1.000</td>\n",
       "      <td>0.000</td>\n",
       "      <td>NaN</td>\n",
       "      <td>4000.0</td>\n",
       "      <td>4000.0</td>\n",
       "      <td>NaN</td>\n",
       "    </tr>\n",
       "    <tr>\n",
       "      <th>chol_corr_corr[0, 1]</th>\n",
       "      <td>0.171</td>\n",
       "      <td>0.333</td>\n",
       "      <td>-0.469</td>\n",
       "      <td>0.728</td>\n",
       "      <td>0.010</td>\n",
       "      <td>0.007</td>\n",
       "      <td>1116.0</td>\n",
       "      <td>1390.0</td>\n",
       "      <td>1.0</td>\n",
       "    </tr>\n",
       "    <tr>\n",
       "      <th>chol_corr_corr[1, 0]</th>\n",
       "      <td>0.171</td>\n",
       "      <td>0.333</td>\n",
       "      <td>-0.469</td>\n",
       "      <td>0.728</td>\n",
       "      <td>0.010</td>\n",
       "      <td>0.007</td>\n",
       "      <td>1116.0</td>\n",
       "      <td>1390.0</td>\n",
       "      <td>1.0</td>\n",
       "    </tr>\n",
       "    <tr>\n",
       "      <th>chol_corr_corr[1, 1]</th>\n",
       "      <td>1.000</td>\n",
       "      <td>0.000</td>\n",
       "      <td>1.000</td>\n",
       "      <td>1.000</td>\n",
       "      <td>0.000</td>\n",
       "      <td>0.000</td>\n",
       "      <td>4069.0</td>\n",
       "      <td>3624.0</td>\n",
       "      <td>1.0</td>\n",
       "    </tr>\n",
       "    <tr>\n",
       "      <th>chol_corr_stds[0]</th>\n",
       "      <td>0.958</td>\n",
       "      <td>0.272</td>\n",
       "      <td>0.461</td>\n",
       "      <td>1.486</td>\n",
       "      <td>0.009</td>\n",
       "      <td>0.006</td>\n",
       "      <td>993.0</td>\n",
       "      <td>1255.0</td>\n",
       "      <td>1.0</td>\n",
       "    </tr>\n",
       "    <tr>\n",
       "      <th>chol_corr_stds[1]</th>\n",
       "      <td>0.873</td>\n",
       "      <td>0.268</td>\n",
       "      <td>0.342</td>\n",
       "      <td>1.374</td>\n",
       "      <td>0.008</td>\n",
       "      <td>0.006</td>\n",
       "      <td>1062.0</td>\n",
       "      <td>853.0</td>\n",
       "      <td>1.0</td>\n",
       "    </tr>\n",
       "  </tbody>\n",
       "</table>\n",
       "</div>"
      ],
      "text/plain": [
       "                       mean     sd  hdi_3%  hdi_97%  mcse_mean  mcse_sd  \\\n",
       "chol_corr[0]          0.958  0.272   0.461    1.486      0.009    0.006   \n",
       "chol_corr[1]          0.181  0.310  -0.397    0.759      0.010    0.005   \n",
       "chol_corr[2]          0.802  0.247   0.294    1.251      0.008    0.006   \n",
       "chol_corr_corr[0, 0]  1.000  0.000   1.000    1.000      0.000      NaN   \n",
       "chol_corr_corr[0, 1]  0.171  0.333  -0.469    0.728      0.010    0.007   \n",
       "chol_corr_corr[1, 0]  0.171  0.333  -0.469    0.728      0.010    0.007   \n",
       "chol_corr_corr[1, 1]  1.000  0.000   1.000    1.000      0.000    0.000   \n",
       "chol_corr_stds[0]     0.958  0.272   0.461    1.486      0.009    0.006   \n",
       "chol_corr_stds[1]     0.873  0.268   0.342    1.374      0.008    0.006   \n",
       "\n",
       "                      ess_bulk  ess_tail  r_hat  \n",
       "chol_corr[0]             993.0    1255.0    1.0  \n",
       "chol_corr[1]            1047.0    1865.0    1.0  \n",
       "chol_corr[2]            1086.0     733.0    1.0  \n",
       "chol_corr_corr[0, 0]    4000.0    4000.0    NaN  \n",
       "chol_corr_corr[0, 1]    1116.0    1390.0    1.0  \n",
       "chol_corr_corr[1, 0]    1116.0    1390.0    1.0  \n",
       "chol_corr_corr[1, 1]    4069.0    3624.0    1.0  \n",
       "chol_corr_stds[0]        993.0    1255.0    1.0  \n",
       "chol_corr_stds[1]       1062.0     853.0    1.0  "
      ]
     },
     "execution_count": 65,
     "metadata": {},
     "output_type": "execute_result"
    }
   ],
   "source": [
    "az.summary(trace, var_names = [\"~z_company\",\"~company_effects\"])"
   ]
  },
  {
   "cell_type": "code",
   "execution_count": 66,
   "id": "b734e097",
   "metadata": {},
   "outputs": [
    {
     "name": "stdout",
     "output_type": "stream",
     "text": [
      "Posterior mean covariance matrix:\n",
      "[[0.9183107  0.14302259]\n",
      " [0.14302259 0.76159243]]\n"
     ]
    }
   ],
   "source": [
    "posterior = trace.posterior\n",
    "\n",
    "# means over chains and draws\n",
    "mean_stds = posterior['chol_corr_stds'].mean(dim=['chain', 'draw']).values\n",
    "mean_corr = posterior['chol_corr_corr'].mean(dim=['chain', 'draw']).values\n",
    "\n",
    "# explicitly reconstruct covariance matrix: Cov = D * Corr * D\n",
    "cov_matrix_reconstructed = np.outer(mean_stds, mean_stds) * mean_corr\n",
    "\n",
    "print(\"Posterior mean covariance matrix:\")\n",
    "print(cov_matrix_reconstructed)"
   ]
  },
  {
   "cell_type": "code",
   "execution_count": 71,
   "id": "5a11e44b",
   "metadata": {},
   "outputs": [
    {
     "data": {
      "image/png": "[encoded data removed]",
      "text/plain": [
       "<Figure size 1000x400 with 2 Axes>"
      ]
     },
     "metadata": {},
     "output_type": "display_data"
    }
   ],
   "source": [
    "# true logits you generated from\n",
    "true_effects = company_effects[:, 1:]  # exclude baseline logits\n",
    "\n",
    "# posterior means explicitly\n",
    "posterior_means = trace.posterior[\"company_effects\"].mean(dim=[\"chain\", \"draw\"]).values\n",
    "\n",
    "# explicitly plot or correlate posterior vs true\n",
    "import matplotlib.pyplot as plt\n",
    "\n",
    "fig, axes = plt.subplots(1, 2, figsize=(10, 4))\n",
    "\n",
    "for i in range(2):\n",
    "    axes[i].scatter(true_effects[:, i], posterior_means[:, i])\n",
    "    axes[i].set_xlabel(\"True Logits\")\n",
    "    axes[i].set_ylabel(\"Posterior Means\")\n",
    "    axes[i].set_title(f\"Category {i+1}\")\n",
    "\n",
    "plt.tight_layout()\n",
    "plt.show()\n"
   ]
  },
  {
   "cell_type": "code",
   "execution_count": 59,
   "id": "b75e114f",
   "metadata": {},
   "outputs": [
    {
     "name": "stdout",
     "output_type": "stream",
     "text": [
      "Posterior mean covariance matrix:\n",
      "[[0.88329214 0.11421592]\n",
      " [0.11421592 0.74736829]]\n"
     ]
    }
   ],
   "source": [
    "posterior = trace.posterior\n",
    "\n",
    "# means over chains and draws\n",
    "mean_stds = posterior['chol_corr_stds'].mean(dim=['chain', 'draw']).values\n",
    "mean_corr = posterior['chol_corr_corr'].mean(dim=['chain', 'draw']).values\n",
    "\n",
    "# explicitly reconstruct covariance matrix: Cov = D * Corr * D\n",
    "cov_matrix_reconstructed = np.outer(mean_stds, mean_stds) * mean_corr\n",
    "\n",
    "print(\"Posterior mean covariance matrix:\")\n",
    "print(cov_matrix_reconstructed)"
   ]
  },
  {
   "cell_type": "code",
   "execution_count": null,
   "id": "623b8d1a",
   "metadata": {},
   "outputs": [],
   "source": []
  }
 ],
 "metadata": {
  "kernelspec": {
   "display_name": "multinom",
   "language": "python",
   "name": "python3"
  },
  "language_info": {
   "codemirror_mode": {
    "name": "ipython",
    "version": 3
   },
   "file_extension": ".py",
   "mimetype": "text/x-python",
   "name": "python",
   "nbconvert_exporter": "python",
   "pygments_lexer": "ipython3",
   "version": "3.13.3"
  }
 },
 "nbformat": 4,
 "nbformat_minor": 5
}
