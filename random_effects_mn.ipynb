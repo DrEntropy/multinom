{
 "cells": [
  {
   "cell_type": "code",
   "execution_count": 1,
   "id": "bbe24fd2",
   "metadata": {},
   "outputs": [
    {
     "name": "stdout",
     "output_type": "stream",
     "text": [
      "     company prev_type    type\n",
      "0  company_0    type_2  type_2\n",
      "1  company_1    type_3  type_3\n",
      "2  company_1    type_1  type_3\n",
      "3  company_1    type_1  type_0\n",
      "4  company_1    type_1  type_1\n",
      "5  company_1    type_2  type_2\n",
      "6  company_2    type_3  type_0\n",
      "7  company_2    type_3  type_2\n",
      "8  company_2    type_2  type_2\n",
      "9  company_3    type_3  type_3\n"
     ]
    }
   ],
   "source": [
    "import numpy as np\n",
    "import pandas as pd\n",
    "from scipy.stats import multivariate_normal, multinomial\n",
    "from scipy.special import softmax\n",
    "\n",
    "np.random.seed(42)\n",
    "\n",
    "# Settings\n",
    "num_companies = 40\n",
    "num_categories = 4  # categories: 0 (pivot), 1, 2, 3\n",
    "num_prev_categories = 4\n",
    "\n",
    "# 1. Generate random effects for each company (for categories 1-3, pivot is category 0)\n",
    "mean_effect = np.zeros(num_categories - 1)\n",
    "# Define covariance matrix with correlations between categories\n",
    "cov_effect = np.array([\n",
    "    [1.0, 0.5, 0.3],\n",
    "    [0.5, 1.0, 0.4],\n",
    "    [0.3, 0.4, 1.0]\n",
    "])\n",
    "\n",
    "company_effects = multivariate_normal.rvs(mean=mean_effect, cov=cov_effect, size=num_companies)\n",
    "# Add pivot logits = 0\n",
    "company_effects = np.hstack([np.zeros((num_companies, 1)), company_effects])\n",
    "\n",
    "# Store company random effects in a DataFrame\n",
    "company_ids = [f'company_{i}' for i in range(num_companies)]\n",
    "company_effects_df = pd.DataFrame(company_effects, columns=[f'logit_{i}' for i in range(num_categories)])\n",
    "company_effects_df['company'] = company_ids\n",
    "\n",
    "# 2. Generate observations per company\n",
    "data = []\n",
    "for idx, company in enumerate(company_ids):\n",
    "    n_obs = np.random.randint(1, 11)  # Between 1 and 10 observations per company\n",
    "    \n",
    "    # 3. Randomly assign prev_type for each observation\n",
    "    prev_types = np.random.choice(num_prev_categories, size=n_obs)\n",
    "    \n",
    "    # Define fixed effects for prev_type (logits for categories 1-3, pivot is 0)\n",
    "    # Here just an arbitrary fixed pattern; modify as desired\n",
    "    prev_type_effects = np.array([\n",
    "        [0.0, 0.0, 0.0],   # prev_type = 0 (reference)\n",
    "        [0.5, -0.5, 0.2],  # prev_type = 1\n",
    "        [-0.3, 0.6, -0.4], # prev_type = 2\n",
    "        [0.2, -0.2, 0.5]   # prev_type = 3\n",
    "    ])\n",
    "    prev_type_effects = np.hstack([np.zeros((num_prev_categories, 1)), prev_type_effects])\n",
    "    \n",
    "    for prev in prev_types:\n",
    "        # 4. Compute logits (company + prev_type)\n",
    "        logits = company_effects[idx] + prev_type_effects[prev]\n",
    "        \n",
    "        # Convert logits to probabilities using softmax\n",
    "        probs = softmax(logits)\n",
    "        \n",
    "        # 5. Sample observed type based on probs\n",
    "        observed_type = np.random.choice(num_categories, p=probs)\n",
    "        \n",
    "        # Append observation\n",
    "        data.append({\n",
    "            'company': company,\n",
    "            'prev_type': f'type_{prev}',\n",
    "            'type': f'type_{observed_type}'\n",
    "        })\n",
    "\n",
    "# Convert to DataFrame\n",
    "simulated_df = pd.DataFrame(data)\n",
    "\n",
    "\n",
    "print(simulated_df.head(10))\n"
   ]
  },
  {
   "cell_type": "code",
   "execution_count": 9,
   "id": "7d400b51",
   "metadata": {},
   "outputs": [
    {
     "data": {
      "application/vnd.microsoft.datawrangler.viewer.v0+json": {
       "columns": [
        {
         "name": "index",
         "rawType": "int64",
         "type": "integer"
        },
        {
         "name": "company",
         "rawType": "object",
         "type": "string"
        },
        {
         "name": "prev_type",
         "rawType": "object",
         "type": "string"
        },
        {
         "name": "type",
         "rawType": "object",
         "type": "string"
        }
       ],
       "conversionMethod": "pd.DataFrame",
       "ref": "ed892a53-7b01-4b9b-bda1-c9bc74c551a1",
       "rows": [
        [
         "0",
         "company_0",
         "type_2",
         "type_2"
        ],
        [
         "1",
         "company_1",
         "type_3",
         "type_3"
        ],
        [
         "2",
         "company_1",
         "type_1",
         "type_3"
        ],
        [
         "3",
         "company_1",
         "type_1",
         "type_0"
        ],
        [
         "4",
         "company_1",
         "type_1",
         "type_1"
        ],
        [
         "5",
         "company_1",
         "type_2",
         "type_2"
        ],
        [
         "6",
         "company_2",
         "type_3",
         "type_0"
        ],
        [
         "7",
         "company_2",
         "type_3",
         "type_2"
        ],
        [
         "8",
         "company_2",
         "type_2",
         "type_2"
        ],
        [
         "9",
         "company_3",
         "type_3",
         "type_3"
        ],
        [
         "10",
         "company_3",
         "type_2",
         "type_1"
        ],
        [
         "11",
         "company_3",
         "type_3",
         "type_3"
        ],
        [
         "12",
         "company_3",
         "type_0",
         "type_0"
        ],
        [
         "13",
         "company_4",
         "type_0",
         "type_0"
        ],
        [
         "14",
         "company_4",
         "type_1",
         "type_3"
        ],
        [
         "15",
         "company_4",
         "type_2",
         "type_2"
        ],
        [
         "16",
         "company_4",
         "type_2",
         "type_2"
        ],
        [
         "17",
         "company_4",
         "type_1",
         "type_3"
        ],
        [
         "18",
         "company_4",
         "type_1",
         "type_3"
        ],
        [
         "19",
         "company_4",
         "type_2",
         "type_2"
        ],
        [
         "20",
         "company_4",
         "type_2",
         "type_3"
        ],
        [
         "21",
         "company_4",
         "type_3",
         "type_1"
        ],
        [
         "22",
         "company_5",
         "type_2",
         "type_3"
        ],
        [
         "23",
         "company_5",
         "type_2",
         "type_3"
        ],
        [
         "24",
         "company_5",
         "type_3",
         "type_3"
        ],
        [
         "25",
         "company_5",
         "type_3",
         "type_3"
        ],
        [
         "26",
         "company_5",
         "type_2",
         "type_3"
        ],
        [
         "27",
         "company_5",
         "type_3",
         "type_3"
        ],
        [
         "28",
         "company_5",
         "type_3",
         "type_2"
        ],
        [
         "29",
         "company_5",
         "type_1",
         "type_3"
        ],
        [
         "30",
         "company_5",
         "type_3",
         "type_3"
        ],
        [
         "31",
         "company_6",
         "type_3",
         "type_3"
        ],
        [
         "32",
         "company_6",
         "type_1",
         "type_3"
        ],
        [
         "33",
         "company_7",
         "type_3",
         "type_2"
        ],
        [
         "34",
         "company_7",
         "type_0",
         "type_3"
        ],
        [
         "35",
         "company_7",
         "type_3",
         "type_2"
        ],
        [
         "36",
         "company_7",
         "type_0",
         "type_2"
        ],
        [
         "37",
         "company_7",
         "type_1",
         "type_0"
        ],
        [
         "38",
         "company_7",
         "type_0",
         "type_2"
        ],
        [
         "39",
         "company_7",
         "type_3",
         "type_1"
        ],
        [
         "40",
         "company_7",
         "type_3",
         "type_1"
        ],
        [
         "41",
         "company_7",
         "type_3",
         "type_3"
        ],
        [
         "42",
         "company_8",
         "type_1",
         "type_1"
        ],
        [
         "43",
         "company_8",
         "type_3",
         "type_2"
        ],
        [
         "44",
         "company_8",
         "type_2",
         "type_2"
        ],
        [
         "45",
         "company_9",
         "type_0",
         "type_0"
        ],
        [
         "46",
         "company_10",
         "type_3",
         "type_1"
        ],
        [
         "47",
         "company_10",
         "type_2",
         "type_1"
        ],
        [
         "48",
         "company_10",
         "type_3",
         "type_3"
        ],
        [
         "49",
         "company_11",
         "type_1",
         "type_3"
        ]
       ],
       "shape": {
        "columns": 3,
        "rows": 211
       }
      },
      "text/html": [
       "<div>\n",
       "<style scoped>\n",
       "    .dataframe tbody tr th:only-of-type {\n",
       "        vertical-align: middle;\n",
       "    }\n",
       "\n",
       "    .dataframe tbody tr th {\n",
       "        vertical-align: top;\n",
       "    }\n",
       "\n",
       "    .dataframe thead th {\n",
       "        text-align: right;\n",
       "    }\n",
       "</style>\n",
       "<table border=\"1\" class=\"dataframe\">\n",
       "  <thead>\n",
       "    <tr style=\"text-align: right;\">\n",
       "      <th></th>\n",
       "      <th>company</th>\n",
       "      <th>prev_type</th>\n",
       "      <th>type</th>\n",
       "    </tr>\n",
       "  </thead>\n",
       "  <tbody>\n",
       "    <tr>\n",
       "      <th>0</th>\n",
       "      <td>company_0</td>\n",
       "      <td>type_2</td>\n",
       "      <td>type_2</td>\n",
       "    </tr>\n",
       "    <tr>\n",
       "      <th>1</th>\n",
       "      <td>company_1</td>\n",
       "      <td>type_3</td>\n",
       "      <td>type_3</td>\n",
       "    </tr>\n",
       "    <tr>\n",
       "      <th>2</th>\n",
       "      <td>company_1</td>\n",
       "      <td>type_1</td>\n",
       "      <td>type_3</td>\n",
       "    </tr>\n",
       "    <tr>\n",
       "      <th>3</th>\n",
       "      <td>company_1</td>\n",
       "      <td>type_1</td>\n",
       "      <td>type_0</td>\n",
       "    </tr>\n",
       "    <tr>\n",
       "      <th>4</th>\n",
       "      <td>company_1</td>\n",
       "      <td>type_1</td>\n",
       "      <td>type_1</td>\n",
       "    </tr>\n",
       "    <tr>\n",
       "      <th>...</th>\n",
       "      <td>...</td>\n",
       "      <td>...</td>\n",
       "      <td>...</td>\n",
       "    </tr>\n",
       "    <tr>\n",
       "      <th>206</th>\n",
       "      <td>company_39</td>\n",
       "      <td>type_0</td>\n",
       "      <td>type_1</td>\n",
       "    </tr>\n",
       "    <tr>\n",
       "      <th>207</th>\n",
       "      <td>company_39</td>\n",
       "      <td>type_0</td>\n",
       "      <td>type_1</td>\n",
       "    </tr>\n",
       "    <tr>\n",
       "      <th>208</th>\n",
       "      <td>company_39</td>\n",
       "      <td>type_0</td>\n",
       "      <td>type_0</td>\n",
       "    </tr>\n",
       "    <tr>\n",
       "      <th>209</th>\n",
       "      <td>company_39</td>\n",
       "      <td>type_0</td>\n",
       "      <td>type_3</td>\n",
       "    </tr>\n",
       "    <tr>\n",
       "      <th>210</th>\n",
       "      <td>company_39</td>\n",
       "      <td>type_3</td>\n",
       "      <td>type_1</td>\n",
       "    </tr>\n",
       "  </tbody>\n",
       "</table>\n",
       "<p>211 rows × 3 columns</p>\n",
       "</div>"
      ],
      "text/plain": [
       "        company prev_type    type\n",
       "0     company_0    type_2  type_2\n",
       "1     company_1    type_3  type_3\n",
       "2     company_1    type_1  type_3\n",
       "3     company_1    type_1  type_0\n",
       "4     company_1    type_1  type_1\n",
       "..          ...       ...     ...\n",
       "206  company_39    type_0  type_1\n",
       "207  company_39    type_0  type_1\n",
       "208  company_39    type_0  type_0\n",
       "209  company_39    type_0  type_3\n",
       "210  company_39    type_3  type_1\n",
       "\n",
       "[211 rows x 3 columns]"
      ]
     },
     "execution_count": 9,
     "metadata": {},
     "output_type": "execute_result"
    }
   ],
   "source": [
    "simulated_df"
   ]
  },
  {
   "cell_type": "code",
   "execution_count": 10,
   "id": "e33cd54e",
   "metadata": {},
   "outputs": [],
   "source": [
    "# Your original dataframe is simulated_df\n",
    "simulated_df['type_num'] = simulated_df['type'].str.split('_').str[1].astype(int)\n",
    "\n",
    "# Generate dummy variables for categories 1,2,3 (excluding baseline 0)\n",
    "for i in range(1, 4):\n",
    "    simulated_df[f'type_{i}'] = (simulated_df['type_num'] == i).astype(int)\n"
   ]
  },
  {
   "cell_type": "code",
   "execution_count": 11,
   "id": "e330a954",
   "metadata": {},
   "outputs": [
    {
     "data": {
      "application/vnd.microsoft.datawrangler.viewer.v0+json": {
       "columns": [
        {
         "name": "index",
         "rawType": "int64",
         "type": "integer"
        },
        {
         "name": "company",
         "rawType": "object",
         "type": "string"
        },
        {
         "name": "prev_type",
         "rawType": "object",
         "type": "string"
        },
        {
         "name": "type",
         "rawType": "object",
         "type": "string"
        },
        {
         "name": "type_num",
         "rawType": "int64",
         "type": "integer"
        },
        {
         "name": "type_1",
         "rawType": "int64",
         "type": "integer"
        },
        {
         "name": "type_2",
         "rawType": "int64",
         "type": "integer"
        },
        {
         "name": "type_3",
         "rawType": "int64",
         "type": "integer"
        }
       ],
       "conversionMethod": "pd.DataFrame",
       "ref": "060f9a6b-d185-429f-8bfd-bbdbf478dff3",
       "rows": [
        [
         "0",
         "company_0",
         "type_2",
         "type_2",
         "2",
         "0",
         "1",
         "0"
        ],
        [
         "1",
         "company_1",
         "type_3",
         "type_3",
         "3",
         "0",
         "0",
         "1"
        ],
        [
         "2",
         "company_1",
         "type_1",
         "type_3",
         "3",
         "0",
         "0",
         "1"
        ],
        [
         "3",
         "company_1",
         "type_1",
         "type_0",
         "0",
         "0",
         "0",
         "0"
        ],
        [
         "4",
         "company_1",
         "type_1",
         "type_1",
         "1",
         "1",
         "0",
         "0"
        ],
        [
         "5",
         "company_1",
         "type_2",
         "type_2",
         "2",
         "0",
         "1",
         "0"
        ],
        [
         "6",
         "company_2",
         "type_3",
         "type_0",
         "0",
         "0",
         "0",
         "0"
        ],
        [
         "7",
         "company_2",
         "type_3",
         "type_2",
         "2",
         "0",
         "1",
         "0"
        ],
        [
         "8",
         "company_2",
         "type_2",
         "type_2",
         "2",
         "0",
         "1",
         "0"
        ],
        [
         "9",
         "company_3",
         "type_3",
         "type_3",
         "3",
         "0",
         "0",
         "1"
        ],
        [
         "10",
         "company_3",
         "type_2",
         "type_1",
         "1",
         "1",
         "0",
         "0"
        ],
        [
         "11",
         "company_3",
         "type_3",
         "type_3",
         "3",
         "0",
         "0",
         "1"
        ],
        [
         "12",
         "company_3",
         "type_0",
         "type_0",
         "0",
         "0",
         "0",
         "0"
        ],
        [
         "13",
         "company_4",
         "type_0",
         "type_0",
         "0",
         "0",
         "0",
         "0"
        ],
        [
         "14",
         "company_4",
         "type_1",
         "type_3",
         "3",
         "0",
         "0",
         "1"
        ],
        [
         "15",
         "company_4",
         "type_2",
         "type_2",
         "2",
         "0",
         "1",
         "0"
        ],
        [
         "16",
         "company_4",
         "type_2",
         "type_2",
         "2",
         "0",
         "1",
         "0"
        ],
        [
         "17",
         "company_4",
         "type_1",
         "type_3",
         "3",
         "0",
         "0",
         "1"
        ],
        [
         "18",
         "company_4",
         "type_1",
         "type_3",
         "3",
         "0",
         "0",
         "1"
        ],
        [
         "19",
         "company_4",
         "type_2",
         "type_2",
         "2",
         "0",
         "1",
         "0"
        ],
        [
         "20",
         "company_4",
         "type_2",
         "type_3",
         "3",
         "0",
         "0",
         "1"
        ],
        [
         "21",
         "company_4",
         "type_3",
         "type_1",
         "1",
         "1",
         "0",
         "0"
        ],
        [
         "22",
         "company_5",
         "type_2",
         "type_3",
         "3",
         "0",
         "0",
         "1"
        ],
        [
         "23",
         "company_5",
         "type_2",
         "type_3",
         "3",
         "0",
         "0",
         "1"
        ],
        [
         "24",
         "company_5",
         "type_3",
         "type_3",
         "3",
         "0",
         "0",
         "1"
        ],
        [
         "25",
         "company_5",
         "type_3",
         "type_3",
         "3",
         "0",
         "0",
         "1"
        ],
        [
         "26",
         "company_5",
         "type_2",
         "type_3",
         "3",
         "0",
         "0",
         "1"
        ],
        [
         "27",
         "company_5",
         "type_3",
         "type_3",
         "3",
         "0",
         "0",
         "1"
        ],
        [
         "28",
         "company_5",
         "type_3",
         "type_2",
         "2",
         "0",
         "1",
         "0"
        ],
        [
         "29",
         "company_5",
         "type_1",
         "type_3",
         "3",
         "0",
         "0",
         "1"
        ],
        [
         "30",
         "company_5",
         "type_3",
         "type_3",
         "3",
         "0",
         "0",
         "1"
        ],
        [
         "31",
         "company_6",
         "type_3",
         "type_3",
         "3",
         "0",
         "0",
         "1"
        ],
        [
         "32",
         "company_6",
         "type_1",
         "type_3",
         "3",
         "0",
         "0",
         "1"
        ],
        [
         "33",
         "company_7",
         "type_3",
         "type_2",
         "2",
         "0",
         "1",
         "0"
        ],
        [
         "34",
         "company_7",
         "type_0",
         "type_3",
         "3",
         "0",
         "0",
         "1"
        ],
        [
         "35",
         "company_7",
         "type_3",
         "type_2",
         "2",
         "0",
         "1",
         "0"
        ],
        [
         "36",
         "company_7",
         "type_0",
         "type_2",
         "2",
         "0",
         "1",
         "0"
        ],
        [
         "37",
         "company_7",
         "type_1",
         "type_0",
         "0",
         "0",
         "0",
         "0"
        ],
        [
         "38",
         "company_7",
         "type_0",
         "type_2",
         "2",
         "0",
         "1",
         "0"
        ],
        [
         "39",
         "company_7",
         "type_3",
         "type_1",
         "1",
         "1",
         "0",
         "0"
        ],
        [
         "40",
         "company_7",
         "type_3",
         "type_1",
         "1",
         "1",
         "0",
         "0"
        ],
        [
         "41",
         "company_7",
         "type_3",
         "type_3",
         "3",
         "0",
         "0",
         "1"
        ],
        [
         "42",
         "company_8",
         "type_1",
         "type_1",
         "1",
         "1",
         "0",
         "0"
        ],
        [
         "43",
         "company_8",
         "type_3",
         "type_2",
         "2",
         "0",
         "1",
         "0"
        ],
        [
         "44",
         "company_8",
         "type_2",
         "type_2",
         "2",
         "0",
         "1",
         "0"
        ],
        [
         "45",
         "company_9",
         "type_0",
         "type_0",
         "0",
         "0",
         "0",
         "0"
        ],
        [
         "46",
         "company_10",
         "type_3",
         "type_1",
         "1",
         "1",
         "0",
         "0"
        ],
        [
         "47",
         "company_10",
         "type_2",
         "type_1",
         "1",
         "1",
         "0",
         "0"
        ],
        [
         "48",
         "company_10",
         "type_3",
         "type_3",
         "3",
         "0",
         "0",
         "1"
        ],
        [
         "49",
         "company_11",
         "type_1",
         "type_3",
         "3",
         "0",
         "0",
         "1"
        ]
       ],
       "shape": {
        "columns": 7,
        "rows": 211
       }
      },
      "text/html": [
       "<div>\n",
       "<style scoped>\n",
       "    .dataframe tbody tr th:only-of-type {\n",
       "        vertical-align: middle;\n",
       "    }\n",
       "\n",
       "    .dataframe tbody tr th {\n",
       "        vertical-align: top;\n",
       "    }\n",
       "\n",
       "    .dataframe thead th {\n",
       "        text-align: right;\n",
       "    }\n",
       "</style>\n",
       "<table border=\"1\" class=\"dataframe\">\n",
       "  <thead>\n",
       "    <tr style=\"text-align: right;\">\n",
       "      <th></th>\n",
       "      <th>company</th>\n",
       "      <th>prev_type</th>\n",
       "      <th>type</th>\n",
       "      <th>type_num</th>\n",
       "      <th>type_1</th>\n",
       "      <th>type_2</th>\n",
       "      <th>type_3</th>\n",
       "    </tr>\n",
       "  </thead>\n",
       "  <tbody>\n",
       "    <tr>\n",
       "      <th>0</th>\n",
       "      <td>company_0</td>\n",
       "      <td>type_2</td>\n",
       "      <td>type_2</td>\n",
       "      <td>2</td>\n",
       "      <td>0</td>\n",
       "      <td>1</td>\n",
       "      <td>0</td>\n",
       "    </tr>\n",
       "    <tr>\n",
       "      <th>1</th>\n",
       "      <td>company_1</td>\n",
       "      <td>type_3</td>\n",
       "      <td>type_3</td>\n",
       "      <td>3</td>\n",
       "      <td>0</td>\n",
       "      <td>0</td>\n",
       "      <td>1</td>\n",
       "    </tr>\n",
       "    <tr>\n",
       "      <th>2</th>\n",
       "      <td>company_1</td>\n",
       "      <td>type_1</td>\n",
       "      <td>type_3</td>\n",
       "      <td>3</td>\n",
       "      <td>0</td>\n",
       "      <td>0</td>\n",
       "      <td>1</td>\n",
       "    </tr>\n",
       "    <tr>\n",
       "      <th>3</th>\n",
       "      <td>company_1</td>\n",
       "      <td>type_1</td>\n",
       "      <td>type_0</td>\n",
       "      <td>0</td>\n",
       "      <td>0</td>\n",
       "      <td>0</td>\n",
       "      <td>0</td>\n",
       "    </tr>\n",
       "    <tr>\n",
       "      <th>4</th>\n",
       "      <td>company_1</td>\n",
       "      <td>type_1</td>\n",
       "      <td>type_1</td>\n",
       "      <td>1</td>\n",
       "      <td>1</td>\n",
       "      <td>0</td>\n",
       "      <td>0</td>\n",
       "    </tr>\n",
       "    <tr>\n",
       "      <th>...</th>\n",
       "      <td>...</td>\n",
       "      <td>...</td>\n",
       "      <td>...</td>\n",
       "      <td>...</td>\n",
       "      <td>...</td>\n",
       "      <td>...</td>\n",
       "      <td>...</td>\n",
       "    </tr>\n",
       "    <tr>\n",
       "      <th>206</th>\n",
       "      <td>company_39</td>\n",
       "      <td>type_0</td>\n",
       "      <td>type_1</td>\n",
       "      <td>1</td>\n",
       "      <td>1</td>\n",
       "      <td>0</td>\n",
       "      <td>0</td>\n",
       "    </tr>\n",
       "    <tr>\n",
       "      <th>207</th>\n",
       "      <td>company_39</td>\n",
       "      <td>type_0</td>\n",
       "      <td>type_1</td>\n",
       "      <td>1</td>\n",
       "      <td>1</td>\n",
       "      <td>0</td>\n",
       "      <td>0</td>\n",
       "    </tr>\n",
       "    <tr>\n",
       "      <th>208</th>\n",
       "      <td>company_39</td>\n",
       "      <td>type_0</td>\n",
       "      <td>type_0</td>\n",
       "      <td>0</td>\n",
       "      <td>0</td>\n",
       "      <td>0</td>\n",
       "      <td>0</td>\n",
       "    </tr>\n",
       "    <tr>\n",
       "      <th>209</th>\n",
       "      <td>company_39</td>\n",
       "      <td>type_0</td>\n",
       "      <td>type_3</td>\n",
       "      <td>3</td>\n",
       "      <td>0</td>\n",
       "      <td>0</td>\n",
       "      <td>1</td>\n",
       "    </tr>\n",
       "    <tr>\n",
       "      <th>210</th>\n",
       "      <td>company_39</td>\n",
       "      <td>type_3</td>\n",
       "      <td>type_1</td>\n",
       "      <td>1</td>\n",
       "      <td>1</td>\n",
       "      <td>0</td>\n",
       "      <td>0</td>\n",
       "    </tr>\n",
       "  </tbody>\n",
       "</table>\n",
       "<p>211 rows × 7 columns</p>\n",
       "</div>"
      ],
      "text/plain": [
       "        company prev_type    type  type_num  type_1  type_2  type_3\n",
       "0     company_0    type_2  type_2         2       0       1       0\n",
       "1     company_1    type_3  type_3         3       0       0       1\n",
       "2     company_1    type_1  type_3         3       0       0       1\n",
       "3     company_1    type_1  type_0         0       0       0       0\n",
       "4     company_1    type_1  type_1         1       1       0       0\n",
       "..          ...       ...     ...       ...     ...     ...     ...\n",
       "206  company_39    type_0  type_1         1       1       0       0\n",
       "207  company_39    type_0  type_1         1       1       0       0\n",
       "208  company_39    type_0  type_0         0       0       0       0\n",
       "209  company_39    type_0  type_3         3       0       0       1\n",
       "210  company_39    type_3  type_1         1       1       0       0\n",
       "\n",
       "[211 rows x 7 columns]"
      ]
     },
     "execution_count": 11,
     "metadata": {},
     "output_type": "execute_result"
    }
   ],
   "source": [
    "simulated_df"
   ]
  },
  {
   "cell_type": "markdown",
   "id": "16f0100a",
   "metadata": {},
   "source": [
    "Work in progress... still not doing what i think it should be doing."
   ]
  },
  {
   "cell_type": "code",
   "execution_count": 16,
   "id": "2edec5b7",
   "metadata": {},
   "outputs": [
    {
     "name": "stderr",
     "output_type": "stream",
     "text": [
      "Initializing NUTS using jitter+adapt_diag...\n",
      "Multiprocess sampling (4 chains in 4 jobs)\n",
      "NUTS: [prev_type, type_1|company_sigma, type_1|company_offset, type_2|company_sigma, type_2|company_offset, type_3|company_sigma, type_3|company_offset]\n"
     ]
    },
    {
     "data": {
      "application/vnd.jupyter.widget-view+json": {
       "model_id": "e2e93d7da41e4a0181b4eeafd49f45ba",
       "version_major": 2,
       "version_minor": 0
      },
      "text/plain": [
       "Output()"
      ]
     },
     "metadata": {},
     "output_type": "display_data"
    },
    {
     "data": {
      "text/html": [
       "<pre style=\"white-space:pre;overflow-x:auto;line-height:normal;font-family:Menlo,'DejaVu Sans Mono',consolas,'Courier New',monospace\"></pre>\n"
      ],
      "text/plain": []
     },
     "metadata": {},
     "output_type": "display_data"
    },
    {
     "name": "stderr",
     "output_type": "stream",
     "text": [
      "Sampling 4 chains for 1_000 tune and 1_000 draw iterations (4_000 + 4_000 draws total) took 12 seconds.\n"
     ]
    }
   ],
   "source": [
    "import bambi as bmb\n",
    "\n",
    "model = bmb.Model('type ~ 0 + prev_type + (0 + type_1 + type_2 + type_3 | company)', data=simulated_df, family='categorical')\n",
    "results = model.fit()\n"
   ]
  },
  {
   "cell_type": "code",
   "execution_count": 18,
   "id": "8751bd6c",
   "metadata": {},
   "outputs": [
    {
     "name": "stderr",
     "output_type": "stream",
     "text": [
      "/Users/ronaldlegere/miniconda3/envs/multinom/lib/python3.13/site-packages/arviz/utils.py:146: UserWarning: Items starting with ~: ['company'] have not been found and will be ignored\n",
      "  warnings.warn(\n"
     ]
    },
    {
     "data": {
      "application/vnd.microsoft.datawrangler.viewer.v0+json": {
       "columns": [
        {
         "name": "index",
         "rawType": "object",
         "type": "string"
        },
        {
         "name": "mean",
         "rawType": "float64",
         "type": "float"
        },
        {
         "name": "sd",
         "rawType": "float64",
         "type": "float"
        },
        {
         "name": "hdi_3%",
         "rawType": "float64",
         "type": "float"
        },
        {
         "name": "hdi_97%",
         "rawType": "float64",
         "type": "float"
        },
        {
         "name": "mcse_mean",
         "rawType": "float64",
         "type": "float"
        },
        {
         "name": "mcse_sd",
         "rawType": "float64",
         "type": "float"
        },
        {
         "name": "ess_bulk",
         "rawType": "float64",
         "type": "float"
        },
        {
         "name": "ess_tail",
         "rawType": "float64",
         "type": "float"
        },
        {
         "name": "r_hat",
         "rawType": "float64",
         "type": "float"
        }
       ],
       "conversionMethod": "pd.DataFrame",
       "ref": "a721c205-d819-4086-a2b0-a6bd864bc3fd",
       "rows": [
        [
         "prev_type[type_1, type_0]",
         "-4.187",
         "1.839",
         "-7.748",
         "-1.166",
         "0.032",
         "0.033",
         "3911.0",
         "2395.0",
         "1.0"
        ],
        [
         "prev_type[type_1, type_1]",
         "-3.559",
         "1.889",
         "-7.184",
         "-0.524",
         "0.035",
         "0.047",
         "3639.0",
         "2483.0",
         "1.0"
        ],
        [
         "prev_type[type_1, type_2]",
         "-4.263",
         "2.271",
         "-8.547",
         "-0.367",
         "0.039",
         "0.035",
         "3731.0",
         "2896.0",
         "1.0"
        ],
        [
         "prev_type[type_1, type_3]",
         "-3.614",
         "1.652",
         "-6.781",
         "-0.813",
         "0.031",
         "0.036",
         "3584.0",
         "2281.0",
         "1.0"
        ],
        [
         "prev_type[type_2, type_0]",
         "-3.7",
         "1.608",
         "-6.799",
         "-0.979",
         "0.028",
         "0.03",
         "3771.0",
         "2524.0",
         "1.0"
        ],
        [
         "prev_type[type_2, type_1]",
         "-4.752",
         "2.397",
         "-9.144",
         "-0.737",
         "0.041",
         "0.053",
         "4127.0",
         "2623.0",
         "1.0"
        ],
        [
         "prev_type[type_2, type_2]",
         "-1.639",
         "1.413",
         "-4.176",
         "0.922",
         "0.024",
         "0.031",
         "3773.0",
         "2412.0",
         "1.0"
        ],
        [
         "prev_type[type_2, type_3]",
         "-4.104",
         "1.893",
         "-7.657",
         "-0.869",
         "0.034",
         "0.032",
         "3606.0",
         "2758.0",
         "1.0"
        ],
        [
         "prev_type[type_3, type_0]",
         "-4.147",
         "1.822",
         "-7.604",
         "-1.087",
         "0.032",
         "0.035",
         "4150.0",
         "2547.0",
         "1.0"
        ],
        [
         "prev_type[type_3, type_1]",
         "-3.422",
         "1.737",
         "-6.616",
         "-0.404",
         "0.027",
         "0.031",
         "4952.0",
         "2980.0",
         "1.0"
        ],
        [
         "prev_type[type_3, type_2]",
         "-4.216",
         "2.199",
         "-8.32",
         "-0.325",
         "0.039",
         "0.04",
         "3646.0",
         "2523.0",
         "1.0"
        ],
        [
         "prev_type[type_3, type_3]",
         "-3.423",
         "1.524",
         "-6.332",
         "-0.844",
         "0.025",
         "0.03",
         "4577.0",
         "2723.0",
         "1.0"
        ],
        [
         "type_1|company_sigma",
         "15.113",
         "3.68",
         "8.316",
         "21.858",
         "0.06",
         "0.05",
         "3774.0",
         "3084.0",
         "1.0"
        ],
        [
         "type_2|company_sigma",
         "13.433",
         "3.633",
         "6.318",
         "19.773",
         "0.065",
         "0.051",
         "3023.0",
         "2446.0",
         "1.0"
        ],
        [
         "type_3|company_sigma",
         "14.917",
         "3.503",
         "8.446",
         "21.335",
         "0.053",
         "0.049",
         "4315.0",
         "3262.0",
         "1.0"
        ],
        [
         "type_1|company[type_1, company_0]",
         "-0.125",
         "15.418",
         "-28.306",
         "29.831",
         "0.191",
         "0.302",
         "6677.0",
         "2784.0",
         "1.0"
        ],
        [
         "type_1|company[type_1, company_1]",
         "17.04",
         "10.661",
         "1.222",
         "35.65",
         "0.195",
         "0.276",
         "3577.0",
         "2829.0",
         "1.0"
        ],
        [
         "type_1|company[type_1, company_10]",
         "17.886",
         "9.967",
         "2.744",
         "35.812",
         "0.192",
         "0.183",
         "3203.0",
         "2857.0",
         "1.0"
        ],
        [
         "type_1|company[type_1, company_11]",
         "0.121",
         "15.253",
         "-28.049",
         "29.713",
         "0.177",
         "0.35",
         "7674.0",
         "2966.0",
         "1.0"
        ],
        [
         "type_1|company[type_1, company_12]",
         "16.429",
         "10.073",
         "1.0",
         "35.191",
         "0.173",
         "0.177",
         "3968.0",
         "3285.0",
         "1.0"
        ],
        [
         "type_1|company[type_1, company_13]",
         "19.12",
         "9.974",
         "4.592",
         "37.292",
         "0.195",
         "0.307",
         "3182.0",
         "2796.0",
         "1.0"
        ],
        [
         "type_1|company[type_1, company_14]",
         "0.237",
         "15.796",
         "-28.145",
         "30.523",
         "0.193",
         "0.311",
         "6851.0",
         "2661.0",
         "1.0"
        ],
        [
         "type_1|company[type_1, company_15]",
         "18.291",
         "9.863",
         "3.566",
         "36.555",
         "0.183",
         "0.176",
         "3357.0",
         "2970.0",
         "1.0"
        ],
        [
         "type_1|company[type_1, company_16]",
         "17.008",
         "10.232",
         "1.572",
         "35.898",
         "0.174",
         "0.207",
         "4106.0",
         "3272.0",
         "1.0"
        ],
        [
         "type_1|company[type_1, company_17]",
         "16.521",
         "9.986",
         "0.612",
         "34.16",
         "0.17",
         "0.182",
         "3946.0",
         "3270.0",
         "1.0"
        ],
        [
         "type_1|company[type_1, company_18]",
         "-0.239",
         "15.638",
         "-31.289",
         "27.533",
         "0.178",
         "0.309",
         "7864.0",
         "2842.0",
         "1.0"
        ],
        [
         "type_1|company[type_1, company_19]",
         "18.112",
         "9.817",
         "4.427",
         "36.305",
         "0.183",
         "0.181",
         "3249.0",
         "3112.0",
         "1.0"
        ],
        [
         "type_1|company[type_1, company_2]",
         "0.144",
         "15.321",
         "-29.276",
         "28.973",
         "0.187",
         "0.312",
         "6810.0",
         "2965.0",
         "1.0"
        ],
        [
         "type_1|company[type_1, company_20]",
         "16.484",
         "10.164",
         "1.204",
         "35.409",
         "0.178",
         "0.18",
         "3863.0",
         "3023.0",
         "1.0"
        ],
        [
         "type_1|company[type_1, company_21]",
         "18.904",
         "10.107",
         "4.353",
         "37.291",
         "0.186",
         "0.21",
         "3431.0",
         "3165.0",
         "1.0"
        ],
        [
         "type_1|company[type_1, company_22]",
         "16.992",
         "10.108",
         "1.669",
         "35.646",
         "0.172",
         "0.202",
         "4044.0",
         "3016.0",
         "1.0"
        ],
        [
         "type_1|company[type_1, company_23]",
         "16.941",
         "10.132",
         "1.938",
         "36.725",
         "0.182",
         "0.189",
         "3674.0",
         "2893.0",
         "1.0"
        ],
        [
         "type_1|company[type_1, company_24]",
         "0.27",
         "15.559",
         "-27.938",
         "32.092",
         "0.196",
         "0.316",
         "6484.0",
         "2961.0",
         "1.0"
        ],
        [
         "type_1|company[type_1, company_25]",
         "16.648",
         "10.321",
         "1.087",
         "35.493",
         "0.184",
         "0.202",
         "3481.0",
         "3003.0",
         "1.0"
        ],
        [
         "type_1|company[type_1, company_26]",
         "-0.224",
         "15.885",
         "-27.887",
         "32.431",
         "0.191",
         "0.289",
         "7132.0",
         "3012.0",
         "1.0"
        ],
        [
         "type_1|company[type_1, company_27]",
         "17.106",
         "10.211",
         "1.727",
         "36.31",
         "0.193",
         "0.215",
         "3348.0",
         "2617.0",
         "1.0"
        ],
        [
         "type_1|company[type_1, company_28]",
         "0.141",
         "15.095",
         "-29.26",
         "27.899",
         "0.19",
         "0.31",
         "6507.0",
         "2690.0",
         "1.0"
        ],
        [
         "type_1|company[type_1, company_29]",
         "17.363",
         "10.084",
         "1.701",
         "35.666",
         "0.187",
         "0.2",
         "3347.0",
         "2980.0",
         "1.0"
        ],
        [
         "type_1|company[type_1, company_3]",
         "17.481",
         "10.403",
         "2.13",
         "37.227",
         "0.195",
         "0.22",
         "3176.0",
         "3244.0",
         "1.0"
        ],
        [
         "type_1|company[type_1, company_30]",
         "17.704",
         "9.982",
         "3.267",
         "36.417",
         "0.192",
         "0.194",
         "3183.0",
         "2675.0",
         "1.0"
        ],
        [
         "type_1|company[type_1, company_31]",
         "0.296",
         "14.984",
         "-29.431",
         "28.125",
         "0.18",
         "0.295",
         "7101.0",
         "3214.0",
         "1.0"
        ],
        [
         "type_1|company[type_1, company_32]",
         "-0.031",
         "15.319",
         "-29.844",
         "29.216",
         "0.192",
         "0.29",
         "6422.0",
         "2798.0",
         "1.0"
        ],
        [
         "type_1|company[type_1, company_33]",
         "-0.441",
         "15.597",
         "-30.219",
         "28.889",
         "0.177",
         "0.301",
         "8207.0",
         "3093.0",
         "1.0"
        ],
        [
         "type_1|company[type_1, company_34]",
         "18.158",
         "9.709",
         "3.113",
         "35.227",
         "0.176",
         "0.196",
         "3390.0",
         "3126.0",
         "1.0"
        ],
        [
         "type_1|company[type_1, company_35]",
         "19.441",
         "10.104",
         "5.367",
         "38.74",
         "0.185",
         "0.201",
         "3269.0",
         "2698.0",
         "1.0"
        ],
        [
         "type_1|company[type_1, company_36]",
         "16.583",
         "9.815",
         "1.176",
         "35.158",
         "0.171",
         "0.159",
         "3837.0",
         "3535.0",
         "1.0"
        ],
        [
         "type_1|company[type_1, company_37]",
         "18.825",
         "9.907",
         "4.221",
         "36.877",
         "0.186",
         "0.171",
         "3125.0",
         "2885.0",
         "1.0"
        ],
        [
         "type_1|company[type_1, company_38]",
         "16.771",
         "10.192",
         "1.338",
         "35.099",
         "0.185",
         "0.182",
         "3364.0",
         "2539.0",
         "1.0"
        ],
        [
         "type_1|company[type_1, company_39]",
         "18.151",
         "9.819",
         "3.502",
         "36.603",
         "0.185",
         "0.172",
         "3199.0",
         "2985.0",
         "1.0"
        ],
        [
         "type_1|company[type_1, company_4]",
         "16.784",
         "10.3",
         "1.36",
         "36.088",
         "0.18",
         "0.194",
         "3772.0",
         "3109.0",
         "1.0"
        ]
       ],
       "shape": {
        "columns": 9,
        "rows": 375
       }
      },
      "text/html": [
       "<div>\n",
       "<style scoped>\n",
       "    .dataframe tbody tr th:only-of-type {\n",
       "        vertical-align: middle;\n",
       "    }\n",
       "\n",
       "    .dataframe tbody tr th {\n",
       "        vertical-align: top;\n",
       "    }\n",
       "\n",
       "    .dataframe thead th {\n",
       "        text-align: right;\n",
       "    }\n",
       "</style>\n",
       "<table border=\"1\" class=\"dataframe\">\n",
       "  <thead>\n",
       "    <tr style=\"text-align: right;\">\n",
       "      <th></th>\n",
       "      <th>mean</th>\n",
       "      <th>sd</th>\n",
       "      <th>hdi_3%</th>\n",
       "      <th>hdi_97%</th>\n",
       "      <th>mcse_mean</th>\n",
       "      <th>mcse_sd</th>\n",
       "      <th>ess_bulk</th>\n",
       "      <th>ess_tail</th>\n",
       "      <th>r_hat</th>\n",
       "    </tr>\n",
       "  </thead>\n",
       "  <tbody>\n",
       "    <tr>\n",
       "      <th>prev_type[type_1, type_0]</th>\n",
       "      <td>-4.187</td>\n",
       "      <td>1.839</td>\n",
       "      <td>-7.748</td>\n",
       "      <td>-1.166</td>\n",
       "      <td>0.032</td>\n",
       "      <td>0.033</td>\n",
       "      <td>3911.0</td>\n",
       "      <td>2395.0</td>\n",
       "      <td>1.0</td>\n",
       "    </tr>\n",
       "    <tr>\n",
       "      <th>prev_type[type_1, type_1]</th>\n",
       "      <td>-3.559</td>\n",
       "      <td>1.889</td>\n",
       "      <td>-7.184</td>\n",
       "      <td>-0.524</td>\n",
       "      <td>0.035</td>\n",
       "      <td>0.047</td>\n",
       "      <td>3639.0</td>\n",
       "      <td>2483.0</td>\n",
       "      <td>1.0</td>\n",
       "    </tr>\n",
       "    <tr>\n",
       "      <th>prev_type[type_1, type_2]</th>\n",
       "      <td>-4.263</td>\n",
       "      <td>2.271</td>\n",
       "      <td>-8.547</td>\n",
       "      <td>-0.367</td>\n",
       "      <td>0.039</td>\n",
       "      <td>0.035</td>\n",
       "      <td>3731.0</td>\n",
       "      <td>2896.0</td>\n",
       "      <td>1.0</td>\n",
       "    </tr>\n",
       "    <tr>\n",
       "      <th>prev_type[type_1, type_3]</th>\n",
       "      <td>-3.614</td>\n",
       "      <td>1.652</td>\n",
       "      <td>-6.781</td>\n",
       "      <td>-0.813</td>\n",
       "      <td>0.031</td>\n",
       "      <td>0.036</td>\n",
       "      <td>3584.0</td>\n",
       "      <td>2281.0</td>\n",
       "      <td>1.0</td>\n",
       "    </tr>\n",
       "    <tr>\n",
       "      <th>prev_type[type_2, type_0]</th>\n",
       "      <td>-3.700</td>\n",
       "      <td>1.608</td>\n",
       "      <td>-6.799</td>\n",
       "      <td>-0.979</td>\n",
       "      <td>0.028</td>\n",
       "      <td>0.030</td>\n",
       "      <td>3771.0</td>\n",
       "      <td>2524.0</td>\n",
       "      <td>1.0</td>\n",
       "    </tr>\n",
       "    <tr>\n",
       "      <th>...</th>\n",
       "      <td>...</td>\n",
       "      <td>...</td>\n",
       "      <td>...</td>\n",
       "      <td>...</td>\n",
       "      <td>...</td>\n",
       "      <td>...</td>\n",
       "      <td>...</td>\n",
       "      <td>...</td>\n",
       "      <td>...</td>\n",
       "    </tr>\n",
       "    <tr>\n",
       "      <th>type_3|company[type_3, company_5]</th>\n",
       "      <td>18.826</td>\n",
       "      <td>9.546</td>\n",
       "      <td>4.857</td>\n",
       "      <td>36.528</td>\n",
       "      <td>0.179</td>\n",
       "      <td>0.196</td>\n",
       "      <td>3372.0</td>\n",
       "      <td>2587.0</td>\n",
       "      <td>1.0</td>\n",
       "    </tr>\n",
       "    <tr>\n",
       "      <th>type_3|company[type_3, company_6]</th>\n",
       "      <td>17.182</td>\n",
       "      <td>9.662</td>\n",
       "      <td>2.662</td>\n",
       "      <td>34.393</td>\n",
       "      <td>0.178</td>\n",
       "      <td>0.194</td>\n",
       "      <td>3398.0</td>\n",
       "      <td>2747.0</td>\n",
       "      <td>1.0</td>\n",
       "    </tr>\n",
       "    <tr>\n",
       "      <th>type_3|company[type_3, company_7]</th>\n",
       "      <td>17.453</td>\n",
       "      <td>9.656</td>\n",
       "      <td>2.720</td>\n",
       "      <td>35.085</td>\n",
       "      <td>0.168</td>\n",
       "      <td>0.186</td>\n",
       "      <td>3809.0</td>\n",
       "      <td>3165.0</td>\n",
       "      <td>1.0</td>\n",
       "    </tr>\n",
       "    <tr>\n",
       "      <th>type_3|company[type_3, company_8]</th>\n",
       "      <td>0.036</td>\n",
       "      <td>15.252</td>\n",
       "      <td>-27.516</td>\n",
       "      <td>30.465</td>\n",
       "      <td>0.185</td>\n",
       "      <td>0.279</td>\n",
       "      <td>6902.0</td>\n",
       "      <td>2609.0</td>\n",
       "      <td>1.0</td>\n",
       "    </tr>\n",
       "    <tr>\n",
       "      <th>type_3|company[type_3, company_9]</th>\n",
       "      <td>-0.107</td>\n",
       "      <td>15.973</td>\n",
       "      <td>-29.725</td>\n",
       "      <td>30.615</td>\n",
       "      <td>0.197</td>\n",
       "      <td>0.321</td>\n",
       "      <td>6617.0</td>\n",
       "      <td>2636.0</td>\n",
       "      <td>1.0</td>\n",
       "    </tr>\n",
       "  </tbody>\n",
       "</table>\n",
       "<p>375 rows × 9 columns</p>\n",
       "</div>"
      ],
      "text/plain": [
       "                                     mean      sd  hdi_3%  hdi_97%  mcse_mean  \\\n",
       "prev_type[type_1, type_0]          -4.187   1.839  -7.748   -1.166      0.032   \n",
       "prev_type[type_1, type_1]          -3.559   1.889  -7.184   -0.524      0.035   \n",
       "prev_type[type_1, type_2]          -4.263   2.271  -8.547   -0.367      0.039   \n",
       "prev_type[type_1, type_3]          -3.614   1.652  -6.781   -0.813      0.031   \n",
       "prev_type[type_2, type_0]          -3.700   1.608  -6.799   -0.979      0.028   \n",
       "...                                   ...     ...     ...      ...        ...   \n",
       "type_3|company[type_3, company_5]  18.826   9.546   4.857   36.528      0.179   \n",
       "type_3|company[type_3, company_6]  17.182   9.662   2.662   34.393      0.178   \n",
       "type_3|company[type_3, company_7]  17.453   9.656   2.720   35.085      0.168   \n",
       "type_3|company[type_3, company_8]   0.036  15.252 -27.516   30.465      0.185   \n",
       "type_3|company[type_3, company_9]  -0.107  15.973 -29.725   30.615      0.197   \n",
       "\n",
       "                                   mcse_sd  ess_bulk  ess_tail  r_hat  \n",
       "prev_type[type_1, type_0]            0.033    3911.0    2395.0    1.0  \n",
       "prev_type[type_1, type_1]            0.047    3639.0    2483.0    1.0  \n",
       "prev_type[type_1, type_2]            0.035    3731.0    2896.0    1.0  \n",
       "prev_type[type_1, type_3]            0.036    3584.0    2281.0    1.0  \n",
       "prev_type[type_2, type_0]            0.030    3771.0    2524.0    1.0  \n",
       "...                                    ...       ...       ...    ...  \n",
       "type_3|company[type_3, company_5]    0.196    3372.0    2587.0    1.0  \n",
       "type_3|company[type_3, company_6]    0.194    3398.0    2747.0    1.0  \n",
       "type_3|company[type_3, company_7]    0.186    3809.0    3165.0    1.0  \n",
       "type_3|company[type_3, company_8]    0.279    6902.0    2609.0    1.0  \n",
       "type_3|company[type_3, company_9]    0.321    6617.0    2636.0    1.0  \n",
       "\n",
       "[375 rows x 9 columns]"
      ]
     },
     "execution_count": 18,
     "metadata": {},
     "output_type": "execute_result"
    }
   ],
   "source": [
    "import arviz as az\n",
    "az.summary(results ,var_names = ['~company'])"
   ]
  },
  {
   "cell_type": "code",
   "execution_count": null,
   "id": "8edbb181",
   "metadata": {},
   "outputs": [],
   "source": []
  }
 ],
 "metadata": {
  "kernelspec": {
   "display_name": "multinom",
   "language": "python",
   "name": "python3"
  },
  "language_info": {
   "codemirror_mode": {
    "name": "ipython",
    "version": 3
   },
   "file_extension": ".py",
   "mimetype": "text/x-python",
   "name": "python",
   "nbconvert_exporter": "python",
   "pygments_lexer": "ipython3",
   "version": "3.13.3"
  }
 },
 "nbformat": 4,
 "nbformat_minor": 5
}
